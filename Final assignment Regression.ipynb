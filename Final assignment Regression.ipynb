{
 "cells": [
  {
   "cell_type": "code",
   "execution_count": 1,
   "id": "ca6080e7",
   "metadata": {},
   "outputs": [],
   "source": [
    "#import libraries\n",
    "import matplotlib.pyplot as plt                           #for visualization\n",
    "import pandas as pd                                       #for DataFrame\n",
    "import seaborn as sns                                     #for visualization"
   ]
  },
  {
   "cell_type": "code",
   "execution_count": 2,
   "id": "91c86c13",
   "metadata": {},
   "outputs": [],
   "source": [
    "df=pd.read_csv('global_laptop_selling_price_data.csv')   #read the data"
   ]
  },
  {
   "cell_type": "code",
   "execution_count": 3,
   "id": "9efc4e66",
   "metadata": {},
   "outputs": [
    {
     "data": {
      "text/html": [
       "<div>\n",
       "<style scoped>\n",
       "    .dataframe tbody tr th:only-of-type {\n",
       "        vertical-align: middle;\n",
       "    }\n",
       "\n",
       "    .dataframe tbody tr th {\n",
       "        vertical-align: top;\n",
       "    }\n",
       "\n",
       "    .dataframe thead th {\n",
       "        text-align: right;\n",
       "    }\n",
       "</style>\n",
       "<table border=\"1\" class=\"dataframe\">\n",
       "  <thead>\n",
       "    <tr style=\"text-align: right;\">\n",
       "      <th></th>\n",
       "      <th>laptop_ID</th>\n",
       "      <th>Company</th>\n",
       "      <th>Product</th>\n",
       "      <th>TypeName</th>\n",
       "      <th>Inches</th>\n",
       "      <th>ScreenResolution</th>\n",
       "      <th>Cpu</th>\n",
       "      <th>Ram</th>\n",
       "      <th>Memory</th>\n",
       "      <th>Gpu</th>\n",
       "      <th>OpSys</th>\n",
       "      <th>Weight</th>\n",
       "      <th>Price_euros</th>\n",
       "    </tr>\n",
       "  </thead>\n",
       "  <tbody>\n",
       "    <tr>\n",
       "      <th>0</th>\n",
       "      <td>1</td>\n",
       "      <td>Apple</td>\n",
       "      <td>MacBook Pro</td>\n",
       "      <td>Ultrabook</td>\n",
       "      <td>13.3</td>\n",
       "      <td>IPS Panel Retina Display 2560x1600</td>\n",
       "      <td>Intel Core i5 2.3GHz</td>\n",
       "      <td>8GB</td>\n",
       "      <td>128GB SSD</td>\n",
       "      <td>Intel Iris Plus Graphics 640</td>\n",
       "      <td>macOS</td>\n",
       "      <td>1.37kg</td>\n",
       "      <td>1339.69</td>\n",
       "    </tr>\n",
       "    <tr>\n",
       "      <th>1</th>\n",
       "      <td>2</td>\n",
       "      <td>Apple</td>\n",
       "      <td>Macbook Air</td>\n",
       "      <td>Ultrabook</td>\n",
       "      <td>13.3</td>\n",
       "      <td>1440x900</td>\n",
       "      <td>Intel Core i5 1.8GHz</td>\n",
       "      <td>8GB</td>\n",
       "      <td>128GB Flash Storage</td>\n",
       "      <td>Intel HD Graphics 6000</td>\n",
       "      <td>macOS</td>\n",
       "      <td>1.34kg</td>\n",
       "      <td>898.94</td>\n",
       "    </tr>\n",
       "    <tr>\n",
       "      <th>2</th>\n",
       "      <td>3</td>\n",
       "      <td>HP</td>\n",
       "      <td>250 G6</td>\n",
       "      <td>Notebook</td>\n",
       "      <td>15.6</td>\n",
       "      <td>Full HD 1920x1080</td>\n",
       "      <td>Intel Core i5 7200U 2.5GHz</td>\n",
       "      <td>8GB</td>\n",
       "      <td>256GB SSD</td>\n",
       "      <td>Intel HD Graphics 620</td>\n",
       "      <td>No OS</td>\n",
       "      <td>1.86kg</td>\n",
       "      <td>575.00</td>\n",
       "    </tr>\n",
       "    <tr>\n",
       "      <th>3</th>\n",
       "      <td>4</td>\n",
       "      <td>Apple</td>\n",
       "      <td>MacBook Pro</td>\n",
       "      <td>Ultrabook</td>\n",
       "      <td>15.4</td>\n",
       "      <td>IPS Panel Retina Display 2880x1800</td>\n",
       "      <td>Intel Core i7 2.7GHz</td>\n",
       "      <td>16GB</td>\n",
       "      <td>512GB SSD</td>\n",
       "      <td>AMD Radeon Pro 455</td>\n",
       "      <td>macOS</td>\n",
       "      <td>1.83kg</td>\n",
       "      <td>2537.45</td>\n",
       "    </tr>\n",
       "    <tr>\n",
       "      <th>4</th>\n",
       "      <td>5</td>\n",
       "      <td>Apple</td>\n",
       "      <td>MacBook Pro</td>\n",
       "      <td>Ultrabook</td>\n",
       "      <td>13.3</td>\n",
       "      <td>IPS Panel Retina Display 2560x1600</td>\n",
       "      <td>Intel Core i5 3.1GHz</td>\n",
       "      <td>8GB</td>\n",
       "      <td>256GB SSD</td>\n",
       "      <td>Intel Iris Plus Graphics 650</td>\n",
       "      <td>macOS</td>\n",
       "      <td>1.37kg</td>\n",
       "      <td>1803.60</td>\n",
       "    </tr>\n",
       "  </tbody>\n",
       "</table>\n",
       "</div>"
      ],
      "text/plain": [
       "   laptop_ID Company      Product   TypeName  Inches  \\\n",
       "0          1   Apple  MacBook Pro  Ultrabook    13.3   \n",
       "1          2   Apple  Macbook Air  Ultrabook    13.3   \n",
       "2          3      HP       250 G6   Notebook    15.6   \n",
       "3          4   Apple  MacBook Pro  Ultrabook    15.4   \n",
       "4          5   Apple  MacBook Pro  Ultrabook    13.3   \n",
       "\n",
       "                     ScreenResolution                         Cpu   Ram  \\\n",
       "0  IPS Panel Retina Display 2560x1600        Intel Core i5 2.3GHz   8GB   \n",
       "1                            1440x900        Intel Core i5 1.8GHz   8GB   \n",
       "2                   Full HD 1920x1080  Intel Core i5 7200U 2.5GHz   8GB   \n",
       "3  IPS Panel Retina Display 2880x1800        Intel Core i7 2.7GHz  16GB   \n",
       "4  IPS Panel Retina Display 2560x1600        Intel Core i5 3.1GHz   8GB   \n",
       "\n",
       "                Memory                           Gpu  OpSys  Weight  \\\n",
       "0            128GB SSD  Intel Iris Plus Graphics 640  macOS  1.37kg   \n",
       "1  128GB Flash Storage        Intel HD Graphics 6000  macOS  1.34kg   \n",
       "2            256GB SSD         Intel HD Graphics 620  No OS  1.86kg   \n",
       "3            512GB SSD            AMD Radeon Pro 455  macOS  1.83kg   \n",
       "4            256GB SSD  Intel Iris Plus Graphics 650  macOS  1.37kg   \n",
       "\n",
       "   Price_euros  \n",
       "0      1339.69  \n",
       "1       898.94  \n",
       "2       575.00  \n",
       "3      2537.45  \n",
       "4      1803.60  "
      ]
     },
     "execution_count": 3,
     "metadata": {},
     "output_type": "execute_result"
    }
   ],
   "source": [
    "df.head()                                                #showing first five rows"
   ]
  },
  {
   "cell_type": "code",
   "execution_count": 4,
   "id": "8297f814",
   "metadata": {},
   "outputs": [
    {
     "data": {
      "text/plain": [
       "laptop_ID           1303\n",
       "Company               19\n",
       "Product              618\n",
       "TypeName               6\n",
       "Inches                18\n",
       "ScreenResolution      40\n",
       "Cpu                  118\n",
       "Ram                    9\n",
       "Memory                39\n",
       "Gpu                  106\n",
       "OpSys                  9\n",
       "Weight               179\n",
       "Price_euros          791\n",
       "dtype: int64"
      ]
     },
     "execution_count": 4,
     "metadata": {},
     "output_type": "execute_result"
    }
   ],
   "source": [
    "df.nunique()                                         #unique value observe"
   ]
  },
  {
   "cell_type": "code",
   "execution_count": 5,
   "id": "48bd6111",
   "metadata": {},
   "outputs": [],
   "source": [
    "df=df.drop('laptop_ID',axis=1)                       #drop the fisrt column"
   ]
  },
  {
   "cell_type": "code",
   "execution_count": 6,
   "id": "d2cfdb6e",
   "metadata": {},
   "outputs": [
    {
     "data": {
      "text/html": [
       "<div>\n",
       "<style scoped>\n",
       "    .dataframe tbody tr th:only-of-type {\n",
       "        vertical-align: middle;\n",
       "    }\n",
       "\n",
       "    .dataframe tbody tr th {\n",
       "        vertical-align: top;\n",
       "    }\n",
       "\n",
       "    .dataframe thead th {\n",
       "        text-align: right;\n",
       "    }\n",
       "</style>\n",
       "<table border=\"1\" class=\"dataframe\">\n",
       "  <thead>\n",
       "    <tr style=\"text-align: right;\">\n",
       "      <th></th>\n",
       "      <th>Company</th>\n",
       "      <th>Product</th>\n",
       "      <th>TypeName</th>\n",
       "      <th>Inches</th>\n",
       "      <th>ScreenResolution</th>\n",
       "      <th>Cpu</th>\n",
       "      <th>Ram</th>\n",
       "      <th>Memory</th>\n",
       "      <th>Gpu</th>\n",
       "      <th>OpSys</th>\n",
       "      <th>Weight</th>\n",
       "      <th>Price_euros</th>\n",
       "    </tr>\n",
       "  </thead>\n",
       "  <tbody>\n",
       "    <tr>\n",
       "      <th>0</th>\n",
       "      <td>Apple</td>\n",
       "      <td>MacBook Pro</td>\n",
       "      <td>Ultrabook</td>\n",
       "      <td>13.3</td>\n",
       "      <td>IPS Panel Retina Display 2560x1600</td>\n",
       "      <td>Intel Core i5 2.3GHz</td>\n",
       "      <td>8GB</td>\n",
       "      <td>128GB SSD</td>\n",
       "      <td>Intel Iris Plus Graphics 640</td>\n",
       "      <td>macOS</td>\n",
       "      <td>1.37kg</td>\n",
       "      <td>1339.69</td>\n",
       "    </tr>\n",
       "    <tr>\n",
       "      <th>1</th>\n",
       "      <td>Apple</td>\n",
       "      <td>Macbook Air</td>\n",
       "      <td>Ultrabook</td>\n",
       "      <td>13.3</td>\n",
       "      <td>1440x900</td>\n",
       "      <td>Intel Core i5 1.8GHz</td>\n",
       "      <td>8GB</td>\n",
       "      <td>128GB Flash Storage</td>\n",
       "      <td>Intel HD Graphics 6000</td>\n",
       "      <td>macOS</td>\n",
       "      <td>1.34kg</td>\n",
       "      <td>898.94</td>\n",
       "    </tr>\n",
       "    <tr>\n",
       "      <th>2</th>\n",
       "      <td>HP</td>\n",
       "      <td>250 G6</td>\n",
       "      <td>Notebook</td>\n",
       "      <td>15.6</td>\n",
       "      <td>Full HD 1920x1080</td>\n",
       "      <td>Intel Core i5 7200U 2.5GHz</td>\n",
       "      <td>8GB</td>\n",
       "      <td>256GB SSD</td>\n",
       "      <td>Intel HD Graphics 620</td>\n",
       "      <td>No OS</td>\n",
       "      <td>1.86kg</td>\n",
       "      <td>575.00</td>\n",
       "    </tr>\n",
       "    <tr>\n",
       "      <th>3</th>\n",
       "      <td>Apple</td>\n",
       "      <td>MacBook Pro</td>\n",
       "      <td>Ultrabook</td>\n",
       "      <td>15.4</td>\n",
       "      <td>IPS Panel Retina Display 2880x1800</td>\n",
       "      <td>Intel Core i7 2.7GHz</td>\n",
       "      <td>16GB</td>\n",
       "      <td>512GB SSD</td>\n",
       "      <td>AMD Radeon Pro 455</td>\n",
       "      <td>macOS</td>\n",
       "      <td>1.83kg</td>\n",
       "      <td>2537.45</td>\n",
       "    </tr>\n",
       "    <tr>\n",
       "      <th>4</th>\n",
       "      <td>Apple</td>\n",
       "      <td>MacBook Pro</td>\n",
       "      <td>Ultrabook</td>\n",
       "      <td>13.3</td>\n",
       "      <td>IPS Panel Retina Display 2560x1600</td>\n",
       "      <td>Intel Core i5 3.1GHz</td>\n",
       "      <td>8GB</td>\n",
       "      <td>256GB SSD</td>\n",
       "      <td>Intel Iris Plus Graphics 650</td>\n",
       "      <td>macOS</td>\n",
       "      <td>1.37kg</td>\n",
       "      <td>1803.60</td>\n",
       "    </tr>\n",
       "  </tbody>\n",
       "</table>\n",
       "</div>"
      ],
      "text/plain": [
       "  Company      Product   TypeName  Inches                    ScreenResolution  \\\n",
       "0   Apple  MacBook Pro  Ultrabook    13.3  IPS Panel Retina Display 2560x1600   \n",
       "1   Apple  Macbook Air  Ultrabook    13.3                            1440x900   \n",
       "2      HP       250 G6   Notebook    15.6                   Full HD 1920x1080   \n",
       "3   Apple  MacBook Pro  Ultrabook    15.4  IPS Panel Retina Display 2880x1800   \n",
       "4   Apple  MacBook Pro  Ultrabook    13.3  IPS Panel Retina Display 2560x1600   \n",
       "\n",
       "                          Cpu   Ram               Memory  \\\n",
       "0        Intel Core i5 2.3GHz   8GB            128GB SSD   \n",
       "1        Intel Core i5 1.8GHz   8GB  128GB Flash Storage   \n",
       "2  Intel Core i5 7200U 2.5GHz   8GB            256GB SSD   \n",
       "3        Intel Core i7 2.7GHz  16GB            512GB SSD   \n",
       "4        Intel Core i5 3.1GHz   8GB            256GB SSD   \n",
       "\n",
       "                            Gpu  OpSys  Weight  Price_euros  \n",
       "0  Intel Iris Plus Graphics 640  macOS  1.37kg      1339.69  \n",
       "1        Intel HD Graphics 6000  macOS  1.34kg       898.94  \n",
       "2         Intel HD Graphics 620  No OS  1.86kg       575.00  \n",
       "3            AMD Radeon Pro 455  macOS  1.83kg      2537.45  \n",
       "4  Intel Iris Plus Graphics 650  macOS  1.37kg      1803.60  "
      ]
     },
     "execution_count": 6,
     "metadata": {},
     "output_type": "execute_result"
    }
   ],
   "source": [
    " df.head()"
   ]
  },
  {
   "cell_type": "code",
   "execution_count": 7,
   "id": "21c995b9",
   "metadata": {},
   "outputs": [],
   "source": [
    "#Rename column(Price_euros)\n",
    "df.rename(columns={'Price_euros':'Price'},inplace=True)"
   ]
  },
  {
   "cell_type": "code",
   "execution_count": 8,
   "id": "b10d58dc",
   "metadata": {},
   "outputs": [
    {
     "data": {
      "text/html": [
       "<div>\n",
       "<style scoped>\n",
       "    .dataframe tbody tr th:only-of-type {\n",
       "        vertical-align: middle;\n",
       "    }\n",
       "\n",
       "    .dataframe tbody tr th {\n",
       "        vertical-align: top;\n",
       "    }\n",
       "\n",
       "    .dataframe thead th {\n",
       "        text-align: right;\n",
       "    }\n",
       "</style>\n",
       "<table border=\"1\" class=\"dataframe\">\n",
       "  <thead>\n",
       "    <tr style=\"text-align: right;\">\n",
       "      <th></th>\n",
       "      <th>Company</th>\n",
       "      <th>Product</th>\n",
       "      <th>TypeName</th>\n",
       "      <th>Inches</th>\n",
       "      <th>ScreenResolution</th>\n",
       "      <th>Cpu</th>\n",
       "      <th>Ram</th>\n",
       "      <th>Memory</th>\n",
       "      <th>Gpu</th>\n",
       "      <th>OpSys</th>\n",
       "      <th>Weight</th>\n",
       "      <th>Price</th>\n",
       "    </tr>\n",
       "  </thead>\n",
       "  <tbody>\n",
       "    <tr>\n",
       "      <th>0</th>\n",
       "      <td>Apple</td>\n",
       "      <td>MacBook Pro</td>\n",
       "      <td>Ultrabook</td>\n",
       "      <td>13.3</td>\n",
       "      <td>IPS Panel Retina Display 2560x1600</td>\n",
       "      <td>Intel Core i5 2.3GHz</td>\n",
       "      <td>8GB</td>\n",
       "      <td>128GB SSD</td>\n",
       "      <td>Intel Iris Plus Graphics 640</td>\n",
       "      <td>macOS</td>\n",
       "      <td>1.37kg</td>\n",
       "      <td>1339.69</td>\n",
       "    </tr>\n",
       "    <tr>\n",
       "      <th>1</th>\n",
       "      <td>Apple</td>\n",
       "      <td>Macbook Air</td>\n",
       "      <td>Ultrabook</td>\n",
       "      <td>13.3</td>\n",
       "      <td>1440x900</td>\n",
       "      <td>Intel Core i5 1.8GHz</td>\n",
       "      <td>8GB</td>\n",
       "      <td>128GB Flash Storage</td>\n",
       "      <td>Intel HD Graphics 6000</td>\n",
       "      <td>macOS</td>\n",
       "      <td>1.34kg</td>\n",
       "      <td>898.94</td>\n",
       "    </tr>\n",
       "    <tr>\n",
       "      <th>2</th>\n",
       "      <td>HP</td>\n",
       "      <td>250 G6</td>\n",
       "      <td>Notebook</td>\n",
       "      <td>15.6</td>\n",
       "      <td>Full HD 1920x1080</td>\n",
       "      <td>Intel Core i5 7200U 2.5GHz</td>\n",
       "      <td>8GB</td>\n",
       "      <td>256GB SSD</td>\n",
       "      <td>Intel HD Graphics 620</td>\n",
       "      <td>No OS</td>\n",
       "      <td>1.86kg</td>\n",
       "      <td>575.00</td>\n",
       "    </tr>\n",
       "    <tr>\n",
       "      <th>3</th>\n",
       "      <td>Apple</td>\n",
       "      <td>MacBook Pro</td>\n",
       "      <td>Ultrabook</td>\n",
       "      <td>15.4</td>\n",
       "      <td>IPS Panel Retina Display 2880x1800</td>\n",
       "      <td>Intel Core i7 2.7GHz</td>\n",
       "      <td>16GB</td>\n",
       "      <td>512GB SSD</td>\n",
       "      <td>AMD Radeon Pro 455</td>\n",
       "      <td>macOS</td>\n",
       "      <td>1.83kg</td>\n",
       "      <td>2537.45</td>\n",
       "    </tr>\n",
       "    <tr>\n",
       "      <th>4</th>\n",
       "      <td>Apple</td>\n",
       "      <td>MacBook Pro</td>\n",
       "      <td>Ultrabook</td>\n",
       "      <td>13.3</td>\n",
       "      <td>IPS Panel Retina Display 2560x1600</td>\n",
       "      <td>Intel Core i5 3.1GHz</td>\n",
       "      <td>8GB</td>\n",
       "      <td>256GB SSD</td>\n",
       "      <td>Intel Iris Plus Graphics 650</td>\n",
       "      <td>macOS</td>\n",
       "      <td>1.37kg</td>\n",
       "      <td>1803.60</td>\n",
       "    </tr>\n",
       "  </tbody>\n",
       "</table>\n",
       "</div>"
      ],
      "text/plain": [
       "  Company      Product   TypeName  Inches                    ScreenResolution  \\\n",
       "0   Apple  MacBook Pro  Ultrabook    13.3  IPS Panel Retina Display 2560x1600   \n",
       "1   Apple  Macbook Air  Ultrabook    13.3                            1440x900   \n",
       "2      HP       250 G6   Notebook    15.6                   Full HD 1920x1080   \n",
       "3   Apple  MacBook Pro  Ultrabook    15.4  IPS Panel Retina Display 2880x1800   \n",
       "4   Apple  MacBook Pro  Ultrabook    13.3  IPS Panel Retina Display 2560x1600   \n",
       "\n",
       "                          Cpu   Ram               Memory  \\\n",
       "0        Intel Core i5 2.3GHz   8GB            128GB SSD   \n",
       "1        Intel Core i5 1.8GHz   8GB  128GB Flash Storage   \n",
       "2  Intel Core i5 7200U 2.5GHz   8GB            256GB SSD   \n",
       "3        Intel Core i7 2.7GHz  16GB            512GB SSD   \n",
       "4        Intel Core i5 3.1GHz   8GB            256GB SSD   \n",
       "\n",
       "                            Gpu  OpSys  Weight    Price  \n",
       "0  Intel Iris Plus Graphics 640  macOS  1.37kg  1339.69  \n",
       "1        Intel HD Graphics 6000  macOS  1.34kg   898.94  \n",
       "2         Intel HD Graphics 620  No OS  1.86kg   575.00  \n",
       "3            AMD Radeon Pro 455  macOS  1.83kg  2537.45  \n",
       "4  Intel Iris Plus Graphics 650  macOS  1.37kg  1803.60  "
      ]
     },
     "execution_count": 8,
     "metadata": {},
     "output_type": "execute_result"
    }
   ],
   "source": [
    "df.head()"
   ]
  },
  {
   "cell_type": "markdown",
   "id": "7cd3f0fd",
   "metadata": {},
   "source": [
    "# Preprocessing"
   ]
  },
  {
   "cell_type": "code",
   "execution_count": 9,
   "id": "0bc42b83",
   "metadata": {},
   "outputs": [],
   "source": [
    "df['Weight'] = df['Weight'].astype(str).str.replace('kg', '')\n",
    "#df['Weight']=df['Weight'].str.replace('kg','')\n",
    "df['Weight']=pd.to_numeric(df['Weight'])\n",
    "df['Ram']=df['Ram'].apply(lambda x: str(x).replace('GB','')).astype(int)"
   ]
  },
  {
   "cell_type": "code",
   "execution_count": 10,
   "id": "ab60a6ee",
   "metadata": {},
   "outputs": [
    {
     "data": {
      "text/html": [
       "<div>\n",
       "<style scoped>\n",
       "    .dataframe tbody tr th:only-of-type {\n",
       "        vertical-align: middle;\n",
       "    }\n",
       "\n",
       "    .dataframe tbody tr th {\n",
       "        vertical-align: top;\n",
       "    }\n",
       "\n",
       "    .dataframe thead th {\n",
       "        text-align: right;\n",
       "    }\n",
       "</style>\n",
       "<table border=\"1\" class=\"dataframe\">\n",
       "  <thead>\n",
       "    <tr style=\"text-align: right;\">\n",
       "      <th></th>\n",
       "      <th>Company</th>\n",
       "      <th>Product</th>\n",
       "      <th>TypeName</th>\n",
       "      <th>Inches</th>\n",
       "      <th>ScreenResolution</th>\n",
       "      <th>Cpu</th>\n",
       "      <th>Ram</th>\n",
       "      <th>Memory</th>\n",
       "      <th>Gpu</th>\n",
       "      <th>OpSys</th>\n",
       "      <th>Weight</th>\n",
       "      <th>Price</th>\n",
       "    </tr>\n",
       "  </thead>\n",
       "  <tbody>\n",
       "    <tr>\n",
       "      <th>0</th>\n",
       "      <td>Apple</td>\n",
       "      <td>MacBook Pro</td>\n",
       "      <td>Ultrabook</td>\n",
       "      <td>13.3</td>\n",
       "      <td>IPS Panel Retina Display 2560x1600</td>\n",
       "      <td>Intel Core i5 2.3GHz</td>\n",
       "      <td>8</td>\n",
       "      <td>128GB SSD</td>\n",
       "      <td>Intel Iris Plus Graphics 640</td>\n",
       "      <td>macOS</td>\n",
       "      <td>1.37</td>\n",
       "      <td>1339.69</td>\n",
       "    </tr>\n",
       "    <tr>\n",
       "      <th>1</th>\n",
       "      <td>Apple</td>\n",
       "      <td>Macbook Air</td>\n",
       "      <td>Ultrabook</td>\n",
       "      <td>13.3</td>\n",
       "      <td>1440x900</td>\n",
       "      <td>Intel Core i5 1.8GHz</td>\n",
       "      <td>8</td>\n",
       "      <td>128GB Flash Storage</td>\n",
       "      <td>Intel HD Graphics 6000</td>\n",
       "      <td>macOS</td>\n",
       "      <td>1.34</td>\n",
       "      <td>898.94</td>\n",
       "    </tr>\n",
       "    <tr>\n",
       "      <th>2</th>\n",
       "      <td>HP</td>\n",
       "      <td>250 G6</td>\n",
       "      <td>Notebook</td>\n",
       "      <td>15.6</td>\n",
       "      <td>Full HD 1920x1080</td>\n",
       "      <td>Intel Core i5 7200U 2.5GHz</td>\n",
       "      <td>8</td>\n",
       "      <td>256GB SSD</td>\n",
       "      <td>Intel HD Graphics 620</td>\n",
       "      <td>No OS</td>\n",
       "      <td>1.86</td>\n",
       "      <td>575.00</td>\n",
       "    </tr>\n",
       "    <tr>\n",
       "      <th>3</th>\n",
       "      <td>Apple</td>\n",
       "      <td>MacBook Pro</td>\n",
       "      <td>Ultrabook</td>\n",
       "      <td>15.4</td>\n",
       "      <td>IPS Panel Retina Display 2880x1800</td>\n",
       "      <td>Intel Core i7 2.7GHz</td>\n",
       "      <td>16</td>\n",
       "      <td>512GB SSD</td>\n",
       "      <td>AMD Radeon Pro 455</td>\n",
       "      <td>macOS</td>\n",
       "      <td>1.83</td>\n",
       "      <td>2537.45</td>\n",
       "    </tr>\n",
       "    <tr>\n",
       "      <th>4</th>\n",
       "      <td>Apple</td>\n",
       "      <td>MacBook Pro</td>\n",
       "      <td>Ultrabook</td>\n",
       "      <td>13.3</td>\n",
       "      <td>IPS Panel Retina Display 2560x1600</td>\n",
       "      <td>Intel Core i5 3.1GHz</td>\n",
       "      <td>8</td>\n",
       "      <td>256GB SSD</td>\n",
       "      <td>Intel Iris Plus Graphics 650</td>\n",
       "      <td>macOS</td>\n",
       "      <td>1.37</td>\n",
       "      <td>1803.60</td>\n",
       "    </tr>\n",
       "  </tbody>\n",
       "</table>\n",
       "</div>"
      ],
      "text/plain": [
       "  Company      Product   TypeName  Inches                    ScreenResolution  \\\n",
       "0   Apple  MacBook Pro  Ultrabook    13.3  IPS Panel Retina Display 2560x1600   \n",
       "1   Apple  Macbook Air  Ultrabook    13.3                            1440x900   \n",
       "2      HP       250 G6   Notebook    15.6                   Full HD 1920x1080   \n",
       "3   Apple  MacBook Pro  Ultrabook    15.4  IPS Panel Retina Display 2880x1800   \n",
       "4   Apple  MacBook Pro  Ultrabook    13.3  IPS Panel Retina Display 2560x1600   \n",
       "\n",
       "                          Cpu  Ram               Memory  \\\n",
       "0        Intel Core i5 2.3GHz    8            128GB SSD   \n",
       "1        Intel Core i5 1.8GHz    8  128GB Flash Storage   \n",
       "2  Intel Core i5 7200U 2.5GHz    8            256GB SSD   \n",
       "3        Intel Core i7 2.7GHz   16            512GB SSD   \n",
       "4        Intel Core i5 3.1GHz    8            256GB SSD   \n",
       "\n",
       "                            Gpu  OpSys  Weight    Price  \n",
       "0  Intel Iris Plus Graphics 640  macOS    1.37  1339.69  \n",
       "1        Intel HD Graphics 6000  macOS    1.34   898.94  \n",
       "2         Intel HD Graphics 620  No OS    1.86   575.00  \n",
       "3            AMD Radeon Pro 455  macOS    1.83  2537.45  \n",
       "4  Intel Iris Plus Graphics 650  macOS    1.37  1803.60  "
      ]
     },
     "execution_count": 10,
     "metadata": {},
     "output_type": "execute_result"
    }
   ],
   "source": [
    "df.head()"
   ]
  },
  {
   "cell_type": "code",
   "execution_count": 11,
   "id": "1f37fef3",
   "metadata": {},
   "outputs": [
    {
     "name": "stdout",
     "output_type": "stream",
     "text": [
      "<class 'pandas.core.frame.DataFrame'>\n",
      "RangeIndex: 1303 entries, 0 to 1302\n",
      "Data columns (total 12 columns):\n",
      " #   Column            Non-Null Count  Dtype  \n",
      "---  ------            --------------  -----  \n",
      " 0   Company           1303 non-null   object \n",
      " 1   Product           1303 non-null   object \n",
      " 2   TypeName          1303 non-null   object \n",
      " 3   Inches            1303 non-null   float64\n",
      " 4   ScreenResolution  1303 non-null   object \n",
      " 5   Cpu               1303 non-null   object \n",
      " 6   Ram               1303 non-null   int32  \n",
      " 7   Memory            1303 non-null   object \n",
      " 8   Gpu               1303 non-null   object \n",
      " 9   OpSys             1303 non-null   object \n",
      " 10  Weight            1303 non-null   float64\n",
      " 11  Price             1303 non-null   float64\n",
      "dtypes: float64(3), int32(1), object(8)\n",
      "memory usage: 117.2+ KB\n"
     ]
    }
   ],
   "source": [
    "df.info()"
   ]
  },
  {
   "cell_type": "code",
   "execution_count": 12,
   "id": "89077e33",
   "metadata": {},
   "outputs": [
    {
     "data": {
      "text/plain": [
       "Company             0\n",
       "Product             0\n",
       "TypeName            0\n",
       "Inches              0\n",
       "ScreenResolution    0\n",
       "Cpu                 0\n",
       "Ram                 0\n",
       "Memory              0\n",
       "Gpu                 0\n",
       "OpSys               0\n",
       "Weight              0\n",
       "Price               0\n",
       "dtype: int64"
      ]
     },
     "execution_count": 12,
     "metadata": {},
     "output_type": "execute_result"
    }
   ],
   "source": [
    "df.isnull().sum()     #null value check"
   ]
  },
  {
   "cell_type": "code",
   "execution_count": 13,
   "id": "91ca3b5a",
   "metadata": {},
   "outputs": [],
   "source": [
    "df_product_price=df.groupby('Company')['Price'].mean()"
   ]
  },
  {
   "cell_type": "code",
   "execution_count": 14,
   "id": "233abe28",
   "metadata": {},
   "outputs": [
    {
     "data": {
      "text/plain": [
       "Company\n",
       "Acer          626.775825\n",
       "Apple        1564.198571\n",
       "Asus         1104.169367\n",
       "Chuwi         314.296667\n",
       "Dell         1186.068990\n",
       "Fujitsu       729.000000\n",
       "Google       1677.666667\n",
       "HP           1067.774854\n",
       "Huawei       1424.000000\n",
       "LG           2099.000000\n",
       "Lenovo       1086.384444\n",
       "MSI          1728.908148\n",
       "Mediacom      295.000000\n",
       "Microsoft    1612.308333\n",
       "Razer        3346.142857\n",
       "Samsung      1413.444444\n",
       "Toshiba      1267.812500\n",
       "Vero          217.425000\n",
       "Xiaomi       1133.462500\n",
       "Name: Price, dtype: float64"
      ]
     },
     "execution_count": 14,
     "metadata": {},
     "output_type": "execute_result"
    }
   ],
   "source": [
    "df_product_price"
   ]
  },
  {
   "cell_type": "code",
   "execution_count": 15,
   "id": "e9020e39",
   "metadata": {},
   "outputs": [],
   "source": [
    "\n",
    "df_product_price=pd.DataFrame(data=df_product_price)\n",
    "df_product_price.columns=['Product Avg Price']\n",
    "df_product_price.sort_values(by='Product Avg Price',ascending =False,inplace =True)"
   ]
  },
  {
   "cell_type": "code",
   "execution_count": 16,
   "id": "a0321688",
   "metadata": {},
   "outputs": [
    {
     "data": {
      "image/png": "[encoded data removed]",
      "text/plain": [
       "<Figure size 1080x576 with 1 Axes>"
      ]
     },
     "metadata": {
      "needs_background": "light"
     },
     "output_type": "display_data"
    }
   ],
   "source": [
    "plt.figure(figsize=(15,8))\n",
    "splot=sns.barplot(data=df_product_price,x=df_product_price.index,y='Product Avg Price',palette='autumn')\n",
    "for p in splot.patches:\n",
    "    splot.annotate(format(p.get_height(),'.2f'),\n",
    "                   (p.get_x()+p.get_width() /2.,p.get_height()),\n",
    "                   ha='center',va='center',xytext=(0,9),\n",
    "                   textcoords='offset points')\n",
    "    plt.xlabel('Name of the Company',size=15)\n",
    "    plt.ylabel('Average Product Price',size=15)\n",
    "    plt.title('Average Price Per Company')\n",
    "    "
   ]
  },
  {
   "cell_type": "markdown",
   "id": "348e1b6c",
   "metadata": {},
   "source": [
    "# Encode the data set"
   ]
  },
  {
   "cell_type": "code",
   "execution_count": 17,
   "id": "163bd34d",
   "metadata": {},
   "outputs": [],
   "source": [
    "  from sklearn.preprocessing import LabelEncoder"
   ]
  },
  {
   "cell_type": "code",
   "execution_count": 18,
   "id": "fc04342c",
   "metadata": {},
   "outputs": [],
   "source": [
    "label=LabelEncoder()   #creating an object"
   ]
  },
  {
   "cell_type": "code",
   "execution_count": 19,
   "id": "4520cf0d",
   "metadata": {},
   "outputs": [
    {
     "data": {
      "text/plain": [
       "Index(['Company', 'Product', 'TypeName', 'Inches', 'ScreenResolution', 'Cpu',\n",
       "       'Ram', 'Memory', 'Gpu', 'OpSys', 'Weight', 'Price'],\n",
       "      dtype='object')"
      ]
     },
     "execution_count": 19,
     "metadata": {},
     "output_type": "execute_result"
    }
   ],
   "source": [
    "df.columns"
   ]
  },
  {
   "cell_type": "code",
   "execution_count": 20,
   "id": "d7642731",
   "metadata": {},
   "outputs": [],
   "source": [
    "from pandas.core.dtypes.common import is_numeric_dtype"
   ]
  },
  {
   "cell_type": "code",
   "execution_count": 21,
   "id": "e3a88fc7",
   "metadata": {},
   "outputs": [],
   "source": [
    "#convert categorical variables to numeric variables\n",
    "for column in df.columns:\n",
    "    if is_numeric_dtype(df[column]):\n",
    "        continue\n",
    "    else:\n",
    "        df[column]=label.fit_transform(df[column])"
   ]
  },
  {
   "cell_type": "code",
   "execution_count": 22,
   "id": "3e0c43d4",
   "metadata": {},
   "outputs": [],
   "source": [
    "df1=df.copy()"
   ]
  },
  {
   "cell_type": "code",
   "execution_count": 23,
   "id": "6e4ea83b",
   "metadata": {},
   "outputs": [
    {
     "data": {
      "text/html": [
       "<div>\n",
       "<style scoped>\n",
       "    .dataframe tbody tr th:only-of-type {\n",
       "        vertical-align: middle;\n",
       "    }\n",
       "\n",
       "    .dataframe tbody tr th {\n",
       "        vertical-align: top;\n",
       "    }\n",
       "\n",
       "    .dataframe thead th {\n",
       "        text-align: right;\n",
       "    }\n",
       "</style>\n",
       "<table border=\"1\" class=\"dataframe\">\n",
       "  <thead>\n",
       "    <tr style=\"text-align: right;\">\n",
       "      <th></th>\n",
       "      <th>Company</th>\n",
       "      <th>Product</th>\n",
       "      <th>TypeName</th>\n",
       "      <th>Inches</th>\n",
       "      <th>ScreenResolution</th>\n",
       "      <th>Cpu</th>\n",
       "      <th>Ram</th>\n",
       "      <th>Memory</th>\n",
       "      <th>Gpu</th>\n",
       "      <th>OpSys</th>\n",
       "      <th>Weight</th>\n",
       "      <th>Price</th>\n",
       "    </tr>\n",
       "  </thead>\n",
       "  <tbody>\n",
       "    <tr>\n",
       "      <th>0</th>\n",
       "      <td>1</td>\n",
       "      <td>300</td>\n",
       "      <td>4</td>\n",
       "      <td>13.3</td>\n",
       "      <td>23</td>\n",
       "      <td>65</td>\n",
       "      <td>8</td>\n",
       "      <td>4</td>\n",
       "      <td>56</td>\n",
       "      <td>8</td>\n",
       "      <td>1.37</td>\n",
       "      <td>1339.69</td>\n",
       "    </tr>\n",
       "    <tr>\n",
       "      <th>1</th>\n",
       "      <td>1</td>\n",
       "      <td>301</td>\n",
       "      <td>4</td>\n",
       "      <td>13.3</td>\n",
       "      <td>1</td>\n",
       "      <td>63</td>\n",
       "      <td>8</td>\n",
       "      <td>2</td>\n",
       "      <td>50</td>\n",
       "      <td>8</td>\n",
       "      <td>1.34</td>\n",
       "      <td>898.94</td>\n",
       "    </tr>\n",
       "    <tr>\n",
       "      <th>2</th>\n",
       "      <td>7</td>\n",
       "      <td>50</td>\n",
       "      <td>3</td>\n",
       "      <td>15.6</td>\n",
       "      <td>8</td>\n",
       "      <td>74</td>\n",
       "      <td>8</td>\n",
       "      <td>16</td>\n",
       "      <td>52</td>\n",
       "      <td>4</td>\n",
       "      <td>1.86</td>\n",
       "      <td>575.00</td>\n",
       "    </tr>\n",
       "    <tr>\n",
       "      <th>3</th>\n",
       "      <td>1</td>\n",
       "      <td>300</td>\n",
       "      <td>4</td>\n",
       "      <td>15.4</td>\n",
       "      <td>25</td>\n",
       "      <td>85</td>\n",
       "      <td>16</td>\n",
       "      <td>29</td>\n",
       "      <td>8</td>\n",
       "      <td>8</td>\n",
       "      <td>1.83</td>\n",
       "      <td>2537.45</td>\n",
       "    </tr>\n",
       "    <tr>\n",
       "      <th>4</th>\n",
       "      <td>1</td>\n",
       "      <td>300</td>\n",
       "      <td>4</td>\n",
       "      <td>13.3</td>\n",
       "      <td>23</td>\n",
       "      <td>67</td>\n",
       "      <td>8</td>\n",
       "      <td>16</td>\n",
       "      <td>57</td>\n",
       "      <td>8</td>\n",
       "      <td>1.37</td>\n",
       "      <td>1803.60</td>\n",
       "    </tr>\n",
       "  </tbody>\n",
       "</table>\n",
       "</div>"
      ],
      "text/plain": [
       "   Company  Product  TypeName  Inches  ScreenResolution  Cpu  Ram  Memory  \\\n",
       "0        1      300         4    13.3                23   65    8       4   \n",
       "1        1      301         4    13.3                 1   63    8       2   \n",
       "2        7       50         3    15.6                 8   74    8      16   \n",
       "3        1      300         4    15.4                25   85   16      29   \n",
       "4        1      300         4    13.3                23   67    8      16   \n",
       "\n",
       "   Gpu  OpSys  Weight    Price  \n",
       "0   56      8    1.37  1339.69  \n",
       "1   50      8    1.34   898.94  \n",
       "2   52      4    1.86   575.00  \n",
       "3    8      8    1.83  2537.45  \n",
       "4   57      8    1.37  1803.60  "
      ]
     },
     "execution_count": 23,
     "metadata": {},
     "output_type": "execute_result"
    }
   ],
   "source": [
    "df1.head()"
   ]
  },
  {
   "cell_type": "code",
   "execution_count": 24,
   "id": "8fe585da",
   "metadata": {},
   "outputs": [
    {
     "data": {
      "image/png": "[encoded data removed]",
      "text/plain": [
       "<Figure size 1440x1080 with 2 Axes>"
      ]
     },
     "metadata": {},
     "output_type": "display_data"
    }
   ],
   "source": [
    "#correlation between features\n",
    "plt.style.use('seaborn-whitegrid')\n",
    "plt.figure(figsize=(20,15))\n",
    "sns.heatmap(df1.corr())\n",
    "plt.show()"
   ]
  },
  {
   "cell_type": "markdown",
   "id": "2e0b2388",
   "metadata": {},
   "source": [
    "# Separate the dataset into x and y"
   ]
  },
  {
   "cell_type": "code",
   "execution_count": 25,
   "id": "1809ec27",
   "metadata": {},
   "outputs": [],
   "source": [
    "#Separaation of x from the whole dataset\n",
    "x=df.drop('Price',axis=1)"
   ]
  },
  {
   "cell_type": "code",
   "execution_count": 26,
   "id": "5400013d",
   "metadata": {},
   "outputs": [
    {
     "data": {
      "text/html": [
       "<div>\n",
       "<style scoped>\n",
       "    .dataframe tbody tr th:only-of-type {\n",
       "        vertical-align: middle;\n",
       "    }\n",
       "\n",
       "    .dataframe tbody tr th {\n",
       "        vertical-align: top;\n",
       "    }\n",
       "\n",
       "    .dataframe thead th {\n",
       "        text-align: right;\n",
       "    }\n",
       "</style>\n",
       "<table border=\"1\" class=\"dataframe\">\n",
       "  <thead>\n",
       "    <tr style=\"text-align: right;\">\n",
       "      <th></th>\n",
       "      <th>Company</th>\n",
       "      <th>Product</th>\n",
       "      <th>TypeName</th>\n",
       "      <th>Inches</th>\n",
       "      <th>ScreenResolution</th>\n",
       "      <th>Cpu</th>\n",
       "      <th>Ram</th>\n",
       "      <th>Memory</th>\n",
       "      <th>Gpu</th>\n",
       "      <th>OpSys</th>\n",
       "      <th>Weight</th>\n",
       "    </tr>\n",
       "  </thead>\n",
       "  <tbody>\n",
       "    <tr>\n",
       "      <th>0</th>\n",
       "      <td>1</td>\n",
       "      <td>300</td>\n",
       "      <td>4</td>\n",
       "      <td>13.3</td>\n",
       "      <td>23</td>\n",
       "      <td>65</td>\n",
       "      <td>8</td>\n",
       "      <td>4</td>\n",
       "      <td>56</td>\n",
       "      <td>8</td>\n",
       "      <td>1.37</td>\n",
       "    </tr>\n",
       "    <tr>\n",
       "      <th>1</th>\n",
       "      <td>1</td>\n",
       "      <td>301</td>\n",
       "      <td>4</td>\n",
       "      <td>13.3</td>\n",
       "      <td>1</td>\n",
       "      <td>63</td>\n",
       "      <td>8</td>\n",
       "      <td>2</td>\n",
       "      <td>50</td>\n",
       "      <td>8</td>\n",
       "      <td>1.34</td>\n",
       "    </tr>\n",
       "    <tr>\n",
       "      <th>2</th>\n",
       "      <td>7</td>\n",
       "      <td>50</td>\n",
       "      <td>3</td>\n",
       "      <td>15.6</td>\n",
       "      <td>8</td>\n",
       "      <td>74</td>\n",
       "      <td>8</td>\n",
       "      <td>16</td>\n",
       "      <td>52</td>\n",
       "      <td>4</td>\n",
       "      <td>1.86</td>\n",
       "    </tr>\n",
       "    <tr>\n",
       "      <th>3</th>\n",
       "      <td>1</td>\n",
       "      <td>300</td>\n",
       "      <td>4</td>\n",
       "      <td>15.4</td>\n",
       "      <td>25</td>\n",
       "      <td>85</td>\n",
       "      <td>16</td>\n",
       "      <td>29</td>\n",
       "      <td>8</td>\n",
       "      <td>8</td>\n",
       "      <td>1.83</td>\n",
       "    </tr>\n",
       "    <tr>\n",
       "      <th>4</th>\n",
       "      <td>1</td>\n",
       "      <td>300</td>\n",
       "      <td>4</td>\n",
       "      <td>13.3</td>\n",
       "      <td>23</td>\n",
       "      <td>67</td>\n",
       "      <td>8</td>\n",
       "      <td>16</td>\n",
       "      <td>57</td>\n",
       "      <td>8</td>\n",
       "      <td>1.37</td>\n",
       "    </tr>\n",
       "  </tbody>\n",
       "</table>\n",
       "</div>"
      ],
      "text/plain": [
       "   Company  Product  TypeName  Inches  ScreenResolution  Cpu  Ram  Memory  \\\n",
       "0        1      300         4    13.3                23   65    8       4   \n",
       "1        1      301         4    13.3                 1   63    8       2   \n",
       "2        7       50         3    15.6                 8   74    8      16   \n",
       "3        1      300         4    15.4                25   85   16      29   \n",
       "4        1      300         4    13.3                23   67    8      16   \n",
       "\n",
       "   Gpu  OpSys  Weight  \n",
       "0   56      8    1.37  \n",
       "1   50      8    1.34  \n",
       "2   52      4    1.86  \n",
       "3    8      8    1.83  \n",
       "4   57      8    1.37  "
      ]
     },
     "execution_count": 26,
     "metadata": {},
     "output_type": "execute_result"
    }
   ],
   "source": [
    "x.head()"
   ]
  },
  {
   "cell_type": "code",
   "execution_count": 27,
   "id": "176dc3b5",
   "metadata": {},
   "outputs": [],
   "source": [
    "#Separate of y from the whole dataset\n",
    "y=df[['Price']]"
   ]
  },
  {
   "cell_type": "code",
   "execution_count": 28,
   "id": "ce9f602f",
   "metadata": {},
   "outputs": [
    {
     "data": {
      "text/html": [
       "<div>\n",
       "<style scoped>\n",
       "    .dataframe tbody tr th:only-of-type {\n",
       "        vertical-align: middle;\n",
       "    }\n",
       "\n",
       "    .dataframe tbody tr th {\n",
       "        vertical-align: top;\n",
       "    }\n",
       "\n",
       "    .dataframe thead th {\n",
       "        text-align: right;\n",
       "    }\n",
       "</style>\n",
       "<table border=\"1\" class=\"dataframe\">\n",
       "  <thead>\n",
       "    <tr style=\"text-align: right;\">\n",
       "      <th></th>\n",
       "      <th>Price</th>\n",
       "    </tr>\n",
       "  </thead>\n",
       "  <tbody>\n",
       "    <tr>\n",
       "      <th>0</th>\n",
       "      <td>1339.69</td>\n",
       "    </tr>\n",
       "    <tr>\n",
       "      <th>1</th>\n",
       "      <td>898.94</td>\n",
       "    </tr>\n",
       "    <tr>\n",
       "      <th>2</th>\n",
       "      <td>575.00</td>\n",
       "    </tr>\n",
       "    <tr>\n",
       "      <th>3</th>\n",
       "      <td>2537.45</td>\n",
       "    </tr>\n",
       "    <tr>\n",
       "      <th>4</th>\n",
       "      <td>1803.60</td>\n",
       "    </tr>\n",
       "  </tbody>\n",
       "</table>\n",
       "</div>"
      ],
      "text/plain": [
       "     Price\n",
       "0  1339.69\n",
       "1   898.94\n",
       "2   575.00\n",
       "3  2537.45\n",
       "4  1803.60"
      ]
     },
     "execution_count": 28,
     "metadata": {},
     "output_type": "execute_result"
    }
   ],
   "source": [
    "y.head()"
   ]
  },
  {
   "cell_type": "code",
   "execution_count": null,
   "id": "f96fe465",
   "metadata": {},
   "outputs": [],
   "source": []
  },
  {
   "cell_type": "code",
   "execution_count": 29,
   "id": "a674d015",
   "metadata": {},
   "outputs": [],
   "source": [
    "#df=pd.get_dummies(df,drop_first=True)"
   ]
  },
  {
   "cell_type": "code",
   "execution_count": 30,
   "id": "394f3ea0",
   "metadata": {},
   "outputs": [],
   "source": [
    "#df.columns"
   ]
  },
  {
   "cell_type": "code",
   "execution_count": 31,
   "id": "363a4f9b",
   "metadata": {},
   "outputs": [],
   "source": [
    "#df.head()"
   ]
  },
  {
   "cell_type": "markdown",
   "id": "f8363371",
   "metadata": {},
   "source": [
    "# Scaling the features using Standardization method"
   ]
  },
  {
   "cell_type": "code",
   "execution_count": 32,
   "id": "9e2cc94f",
   "metadata": {},
   "outputs": [],
   "source": [
    "from sklearn.preprocessing import StandardScaler\n",
    "scaler=StandardScaler()"
   ]
  },
  {
   "cell_type": "code",
   "execution_count": 33,
   "id": "8634a5de",
   "metadata": {},
   "outputs": [],
   "source": [
    "for col in x.columns:\n",
    "    new_values=scaler.fit_transform(x[[col]])\n",
    "    new1_values=pd.DataFrame(new_values,columns=[col+''])\n",
    "    x[col]=new1_values\n",
    "                                      "
   ]
  },
  {
   "cell_type": "code",
   "execution_count": 34,
   "id": "b6ed2da4",
   "metadata": {},
   "outputs": [
    {
     "data": {
      "text/html": [
       "<div>\n",
       "<style scoped>\n",
       "    .dataframe tbody tr th:only-of-type {\n",
       "        vertical-align: middle;\n",
       "    }\n",
       "\n",
       "    .dataframe tbody tr th {\n",
       "        vertical-align: top;\n",
       "    }\n",
       "\n",
       "    .dataframe thead th {\n",
       "        text-align: right;\n",
       "    }\n",
       "</style>\n",
       "<table border=\"1\" class=\"dataframe\">\n",
       "  <thead>\n",
       "    <tr style=\"text-align: right;\">\n",
       "      <th></th>\n",
       "      <th>Company</th>\n",
       "      <th>Product</th>\n",
       "      <th>TypeName</th>\n",
       "      <th>Inches</th>\n",
       "      <th>ScreenResolution</th>\n",
       "      <th>Cpu</th>\n",
       "      <th>Ram</th>\n",
       "      <th>Memory</th>\n",
       "      <th>Gpu</th>\n",
       "      <th>OpSys</th>\n",
       "      <th>Weight</th>\n",
       "    </tr>\n",
       "  </thead>\n",
       "  <tbody>\n",
       "    <tr>\n",
       "      <th>0</th>\n",
       "      <td>-1.333189</td>\n",
       "      <td>-0.047766</td>\n",
       "      <td>1.138779</td>\n",
       "      <td>-1.204407</td>\n",
       "      <td>1.747762</td>\n",
       "      <td>-0.475914</td>\n",
       "      <td>-0.075195</td>\n",
       "      <td>-1.542166</td>\n",
       "      <td>0.157717</td>\n",
       "      <td>3.083616</td>\n",
       "      <td>-1.005283</td>\n",
       "    </tr>\n",
       "    <tr>\n",
       "      <th>1</th>\n",
       "      <td>-1.333189</td>\n",
       "      <td>-0.041946</td>\n",
       "      <td>1.138779</td>\n",
       "      <td>-1.204407</td>\n",
       "      <td>-1.043399</td>\n",
       "      <td>-0.555339</td>\n",
       "      <td>-0.075195</td>\n",
       "      <td>-1.792003</td>\n",
       "      <td>-0.133986</td>\n",
       "      <td>3.083616</td>\n",
       "      <td>-1.050381</td>\n",
       "    </tr>\n",
       "    <tr>\n",
       "      <th>2</th>\n",
       "      <td>0.136477</td>\n",
       "      <td>-1.502761</td>\n",
       "      <td>0.335406</td>\n",
       "      <td>0.408772</td>\n",
       "      <td>-0.155303</td>\n",
       "      <td>-0.118498</td>\n",
       "      <td>-0.075195</td>\n",
       "      <td>-0.043142</td>\n",
       "      <td>-0.036752</td>\n",
       "      <td>-0.781657</td>\n",
       "      <td>-0.268684</td>\n",
       "    </tr>\n",
       "    <tr>\n",
       "      <th>3</th>\n",
       "      <td>-1.333189</td>\n",
       "      <td>-0.047766</td>\n",
       "      <td>1.138779</td>\n",
       "      <td>0.268495</td>\n",
       "      <td>2.001504</td>\n",
       "      <td>0.318342</td>\n",
       "      <td>1.498767</td>\n",
       "      <td>1.580802</td>\n",
       "      <td>-2.175909</td>\n",
       "      <td>3.083616</td>\n",
       "      <td>-0.313782</td>\n",
       "    </tr>\n",
       "    <tr>\n",
       "      <th>4</th>\n",
       "      <td>-1.333189</td>\n",
       "      <td>-0.047766</td>\n",
       "      <td>1.138779</td>\n",
       "      <td>-1.204407</td>\n",
       "      <td>1.747762</td>\n",
       "      <td>-0.396488</td>\n",
       "      <td>-0.075195</td>\n",
       "      <td>-0.043142</td>\n",
       "      <td>0.206334</td>\n",
       "      <td>3.083616</td>\n",
       "      <td>-1.005283</td>\n",
       "    </tr>\n",
       "  </tbody>\n",
       "</table>\n",
       "</div>"
      ],
      "text/plain": [
       "    Company   Product  TypeName    Inches  ScreenResolution       Cpu  \\\n",
       "0 -1.333189 -0.047766  1.138779 -1.204407          1.747762 -0.475914   \n",
       "1 -1.333189 -0.041946  1.138779 -1.204407         -1.043399 -0.555339   \n",
       "2  0.136477 -1.502761  0.335406  0.408772         -0.155303 -0.118498   \n",
       "3 -1.333189 -0.047766  1.138779  0.268495          2.001504  0.318342   \n",
       "4 -1.333189 -0.047766  1.138779 -1.204407          1.747762 -0.396488   \n",
       "\n",
       "        Ram    Memory       Gpu     OpSys    Weight  \n",
       "0 -0.075195 -1.542166  0.157717  3.083616 -1.005283  \n",
       "1 -0.075195 -1.792003 -0.133986  3.083616 -1.050381  \n",
       "2 -0.075195 -0.043142 -0.036752 -0.781657 -0.268684  \n",
       "3  1.498767  1.580802 -2.175909  3.083616 -0.313782  \n",
       "4 -0.075195 -0.043142  0.206334  3.083616 -1.005283  "
      ]
     },
     "execution_count": 34,
     "metadata": {},
     "output_type": "execute_result"
    }
   ],
   "source": [
    "x.head()"
   ]
  },
  {
   "cell_type": "code",
   "execution_count": 35,
   "id": "6aeb5e84",
   "metadata": {},
   "outputs": [],
   "source": [
    "from sklearn.model_selection import train_test_split as tts"
   ]
  },
  {
   "cell_type": "code",
   "execution_count": 36,
   "id": "f9e16a6c",
   "metadata": {},
   "outputs": [],
   "source": [
    "#train 70%; test=30%\n",
    "xtrain,xtest,ytrain,ytest=tts(x,y,test_size=.30)"
   ]
  },
  {
   "cell_type": "code",
   "execution_count": 37,
   "id": "9253b425",
   "metadata": {},
   "outputs": [
    {
     "data": {
      "text/html": [
       "<div>\n",
       "<style scoped>\n",
       "    .dataframe tbody tr th:only-of-type {\n",
       "        vertical-align: middle;\n",
       "    }\n",
       "\n",
       "    .dataframe tbody tr th {\n",
       "        vertical-align: top;\n",
       "    }\n",
       "\n",
       "    .dataframe thead th {\n",
       "        text-align: right;\n",
       "    }\n",
       "</style>\n",
       "<table border=\"1\" class=\"dataframe\">\n",
       "  <thead>\n",
       "    <tr style=\"text-align: right;\">\n",
       "      <th></th>\n",
       "      <th>Company</th>\n",
       "      <th>Product</th>\n",
       "      <th>TypeName</th>\n",
       "      <th>Inches</th>\n",
       "      <th>ScreenResolution</th>\n",
       "      <th>Cpu</th>\n",
       "      <th>Ram</th>\n",
       "      <th>Memory</th>\n",
       "      <th>Gpu</th>\n",
       "      <th>OpSys</th>\n",
       "      <th>Weight</th>\n",
       "    </tr>\n",
       "  </thead>\n",
       "  <tbody>\n",
       "    <tr>\n",
       "      <th>935</th>\n",
       "      <td>0.136477</td>\n",
       "      <td>-1.153562</td>\n",
       "      <td>-0.467966</td>\n",
       "      <td>-1.765512</td>\n",
       "      <td>-0.155303</td>\n",
       "      <td>-0.356775</td>\n",
       "      <td>-0.075195</td>\n",
       "      <td>-0.043142</td>\n",
       "      <td>-0.328455</td>\n",
       "      <td>0.184661</td>\n",
       "      <td>-1.170642</td>\n",
       "    </tr>\n",
       "    <tr>\n",
       "      <th>670</th>\n",
       "      <td>1.606143</td>\n",
       "      <td>0.703012</td>\n",
       "      <td>1.138779</td>\n",
       "      <td>-1.064130</td>\n",
       "      <td>3.523956</td>\n",
       "      <td>0.874322</td>\n",
       "      <td>-0.075195</td>\n",
       "      <td>-0.043142</td>\n",
       "      <td>0.157717</td>\n",
       "      <td>1.150979</td>\n",
       "      <td>-1.182668</td>\n",
       "    </tr>\n",
       "    <tr>\n",
       "      <th>898</th>\n",
       "      <td>-0.598356</td>\n",
       "      <td>1.389770</td>\n",
       "      <td>0.335406</td>\n",
       "      <td>0.408772</td>\n",
       "      <td>-1.170270</td>\n",
       "      <td>-0.912754</td>\n",
       "      <td>-0.862176</td>\n",
       "      <td>-0.792654</td>\n",
       "      <td>-1.495268</td>\n",
       "      <td>0.184661</td>\n",
       "      <td>0.212361</td>\n",
       "    </tr>\n",
       "    <tr>\n",
       "      <th>172</th>\n",
       "      <td>0.871310</td>\n",
       "      <td>-0.589024</td>\n",
       "      <td>0.335406</td>\n",
       "      <td>0.408772</td>\n",
       "      <td>-1.170270</td>\n",
       "      <td>-2.699830</td>\n",
       "      <td>-0.862176</td>\n",
       "      <td>1.206045</td>\n",
       "      <td>-1.835588</td>\n",
       "      <td>-0.781657</td>\n",
       "      <td>0.242426</td>\n",
       "    </tr>\n",
       "    <tr>\n",
       "      <th>621</th>\n",
       "      <td>0.871310</td>\n",
       "      <td>0.924171</td>\n",
       "      <td>0.335406</td>\n",
       "      <td>-0.713439</td>\n",
       "      <td>-0.155303</td>\n",
       "      <td>-0.356775</td>\n",
       "      <td>-0.075195</td>\n",
       "      <td>-0.043142</td>\n",
       "      <td>-0.328455</td>\n",
       "      <td>2.117298</td>\n",
       "      <td>-0.584369</td>\n",
       "    </tr>\n",
       "  </tbody>\n",
       "</table>\n",
       "</div>"
      ],
      "text/plain": [
       "      Company   Product  TypeName    Inches  ScreenResolution       Cpu  \\\n",
       "935  0.136477 -1.153562 -0.467966 -1.765512         -0.155303 -0.356775   \n",
       "670  1.606143  0.703012  1.138779 -1.064130          3.523956  0.874322   \n",
       "898 -0.598356  1.389770  0.335406  0.408772         -1.170270 -0.912754   \n",
       "172  0.871310 -0.589024  0.335406  0.408772         -1.170270 -2.699830   \n",
       "621  0.871310  0.924171  0.335406 -0.713439         -0.155303 -0.356775   \n",
       "\n",
       "          Ram    Memory       Gpu     OpSys    Weight  \n",
       "935 -0.075195 -0.043142 -0.328455  0.184661 -1.170642  \n",
       "670 -0.075195 -0.043142  0.157717  1.150979 -1.182668  \n",
       "898 -0.862176 -0.792654 -1.495268  0.184661  0.212361  \n",
       "172 -0.862176  1.206045 -1.835588 -0.781657  0.242426  \n",
       "621 -0.075195 -0.043142 -0.328455  2.117298 -0.584369  "
      ]
     },
     "execution_count": 37,
     "metadata": {},
     "output_type": "execute_result"
    }
   ],
   "source": [
    "xtrain.head()"
   ]
  },
  {
   "cell_type": "code",
   "execution_count": 38,
   "id": "0b12dce3",
   "metadata": {},
   "outputs": [
    {
     "data": {
      "text/html": [
       "<div>\n",
       "<style scoped>\n",
       "    .dataframe tbody tr th:only-of-type {\n",
       "        vertical-align: middle;\n",
       "    }\n",
       "\n",
       "    .dataframe tbody tr th {\n",
       "        vertical-align: top;\n",
       "    }\n",
       "\n",
       "    .dataframe thead th {\n",
       "        text-align: right;\n",
       "    }\n",
       "</style>\n",
       "<table border=\"1\" class=\"dataframe\">\n",
       "  <thead>\n",
       "    <tr style=\"text-align: right;\">\n",
       "      <th></th>\n",
       "      <th>Company</th>\n",
       "      <th>Product</th>\n",
       "      <th>TypeName</th>\n",
       "      <th>Inches</th>\n",
       "      <th>ScreenResolution</th>\n",
       "      <th>Cpu</th>\n",
       "      <th>Ram</th>\n",
       "      <th>Memory</th>\n",
       "      <th>Gpu</th>\n",
       "      <th>OpSys</th>\n",
       "      <th>Weight</th>\n",
       "    </tr>\n",
       "  </thead>\n",
       "  <tbody>\n",
       "    <tr>\n",
       "      <th>93</th>\n",
       "      <td>-0.598356</td>\n",
       "      <td>-0.292205</td>\n",
       "      <td>-1.271338</td>\n",
       "      <td>0.408772</td>\n",
       "      <td>-0.155303</td>\n",
       "      <td>0.000640</td>\n",
       "      <td>-0.075195</td>\n",
       "      <td>-0.043142</td>\n",
       "      <td>1.081443</td>\n",
       "      <td>0.184661</td>\n",
       "      <td>0.918895</td>\n",
       "    </tr>\n",
       "    <tr>\n",
       "      <th>971</th>\n",
       "      <td>-0.598356</td>\n",
       "      <td>-0.105966</td>\n",
       "      <td>1.138779</td>\n",
       "      <td>-0.713439</td>\n",
       "      <td>3.777698</td>\n",
       "      <td>0.556619</td>\n",
       "      <td>-0.075195</td>\n",
       "      <td>-0.043142</td>\n",
       "      <td>-0.328455</td>\n",
       "      <td>0.184661</td>\n",
       "      <td>-0.809859</td>\n",
       "    </tr>\n",
       "    <tr>\n",
       "      <th>1147</th>\n",
       "      <td>-0.598356</td>\n",
       "      <td>1.413049</td>\n",
       "      <td>0.335406</td>\n",
       "      <td>0.408772</td>\n",
       "      <td>-0.155303</td>\n",
       "      <td>0.794896</td>\n",
       "      <td>-0.075195</td>\n",
       "      <td>-0.043142</td>\n",
       "      <td>0.741123</td>\n",
       "      <td>0.184661</td>\n",
       "      <td>0.212361</td>\n",
       "    </tr>\n",
       "    <tr>\n",
       "      <th>1046</th>\n",
       "      <td>0.136477</td>\n",
       "      <td>-1.159382</td>\n",
       "      <td>0.335406</td>\n",
       "      <td>-0.713439</td>\n",
       "      <td>-0.155303</td>\n",
       "      <td>-0.356775</td>\n",
       "      <td>-0.075195</td>\n",
       "      <td>-0.043142</td>\n",
       "      <td>-0.328455</td>\n",
       "      <td>2.117298</td>\n",
       "      <td>-0.915087</td>\n",
       "    </tr>\n",
       "    <tr>\n",
       "      <th>998</th>\n",
       "      <td>-1.088245</td>\n",
       "      <td>0.516772</td>\n",
       "      <td>-1.271338</td>\n",
       "      <td>0.408772</td>\n",
       "      <td>-0.155303</td>\n",
       "      <td>0.993460</td>\n",
       "      <td>1.498767</td>\n",
       "      <td>0.206696</td>\n",
       "      <td>0.935592</td>\n",
       "      <td>0.184661</td>\n",
       "      <td>0.693405</td>\n",
       "    </tr>\n",
       "  </tbody>\n",
       "</table>\n",
       "</div>"
      ],
      "text/plain": [
       "       Company   Product  TypeName    Inches  ScreenResolution       Cpu  \\\n",
       "93   -0.598356 -0.292205 -1.271338  0.408772         -0.155303  0.000640   \n",
       "971  -0.598356 -0.105966  1.138779 -0.713439          3.777698  0.556619   \n",
       "1147 -0.598356  1.413049  0.335406  0.408772         -0.155303  0.794896   \n",
       "1046  0.136477 -1.159382  0.335406 -0.713439         -0.155303 -0.356775   \n",
       "998  -1.088245  0.516772 -1.271338  0.408772         -0.155303  0.993460   \n",
       "\n",
       "           Ram    Memory       Gpu     OpSys    Weight  \n",
       "93   -0.075195 -0.043142  1.081443  0.184661  0.918895  \n",
       "971  -0.075195 -0.043142 -0.328455  0.184661 -0.809859  \n",
       "1147 -0.075195 -0.043142  0.741123  0.184661  0.212361  \n",
       "1046 -0.075195 -0.043142 -0.328455  2.117298 -0.915087  \n",
       "998   1.498767  0.206696  0.935592  0.184661  0.693405  "
      ]
     },
     "execution_count": 38,
     "metadata": {},
     "output_type": "execute_result"
    }
   ],
   "source": [
    "xtest.head()"
   ]
  },
  {
   "cell_type": "code",
   "execution_count": 39,
   "id": "202e3b89",
   "metadata": {},
   "outputs": [
    {
     "data": {
      "text/html": [
       "<div>\n",
       "<style scoped>\n",
       "    .dataframe tbody tr th:only-of-type {\n",
       "        vertical-align: middle;\n",
       "    }\n",
       "\n",
       "    .dataframe tbody tr th {\n",
       "        vertical-align: top;\n",
       "    }\n",
       "\n",
       "    .dataframe thead th {\n",
       "        text-align: right;\n",
       "    }\n",
       "</style>\n",
       "<table border=\"1\" class=\"dataframe\">\n",
       "  <thead>\n",
       "    <tr style=\"text-align: right;\">\n",
       "      <th></th>\n",
       "      <th>Price</th>\n",
       "    </tr>\n",
       "  </thead>\n",
       "  <tbody>\n",
       "    <tr>\n",
       "      <th>935</th>\n",
       "      <td>1669.00</td>\n",
       "    </tr>\n",
       "    <tr>\n",
       "      <th>670</th>\n",
       "      <td>1867.85</td>\n",
       "    </tr>\n",
       "    <tr>\n",
       "      <th>898</th>\n",
       "      <td>614.00</td>\n",
       "    </tr>\n",
       "    <tr>\n",
       "      <th>172</th>\n",
       "      <td>309.00</td>\n",
       "    </tr>\n",
       "    <tr>\n",
       "      <th>621</th>\n",
       "      <td>1465.00</td>\n",
       "    </tr>\n",
       "  </tbody>\n",
       "</table>\n",
       "</div>"
      ],
      "text/plain": [
       "       Price\n",
       "935  1669.00\n",
       "670  1867.85\n",
       "898   614.00\n",
       "172   309.00\n",
       "621  1465.00"
      ]
     },
     "execution_count": 39,
     "metadata": {},
     "output_type": "execute_result"
    }
   ],
   "source": [
    "ytrain.head()"
   ]
  },
  {
   "cell_type": "code",
   "execution_count": 40,
   "id": "ad26c510",
   "metadata": {},
   "outputs": [
    {
     "data": {
      "text/html": [
       "<div>\n",
       "<style scoped>\n",
       "    .dataframe tbody tr th:only-of-type {\n",
       "        vertical-align: middle;\n",
       "    }\n",
       "\n",
       "    .dataframe tbody tr th {\n",
       "        vertical-align: top;\n",
       "    }\n",
       "\n",
       "    .dataframe thead th {\n",
       "        text-align: right;\n",
       "    }\n",
       "</style>\n",
       "<table border=\"1\" class=\"dataframe\">\n",
       "  <thead>\n",
       "    <tr style=\"text-align: right;\">\n",
       "      <th></th>\n",
       "      <th>Price</th>\n",
       "    </tr>\n",
       "  </thead>\n",
       "  <tbody>\n",
       "    <tr>\n",
       "      <th>93</th>\n",
       "      <td>1195.00</td>\n",
       "    </tr>\n",
       "    <tr>\n",
       "      <th>971</th>\n",
       "      <td>1962.98</td>\n",
       "    </tr>\n",
       "    <tr>\n",
       "      <th>1147</th>\n",
       "      <td>1009.90</td>\n",
       "    </tr>\n",
       "    <tr>\n",
       "      <th>1046</th>\n",
       "      <td>1469.00</td>\n",
       "    </tr>\n",
       "    <tr>\n",
       "      <th>998</th>\n",
       "      <td>1799.00</td>\n",
       "    </tr>\n",
       "  </tbody>\n",
       "</table>\n",
       "</div>"
      ],
      "text/plain": [
       "        Price\n",
       "93    1195.00\n",
       "971   1962.98\n",
       "1147  1009.90\n",
       "1046  1469.00\n",
       "998   1799.00"
      ]
     },
     "execution_count": 40,
     "metadata": {},
     "output_type": "execute_result"
    }
   ],
   "source": [
    "ytest.head()"
   ]
  },
  {
   "cell_type": "markdown",
   "id": "c718e16f",
   "metadata": {},
   "source": [
    "# Linear Regression"
   ]
  },
  {
   "cell_type": "code",
   "execution_count": 41,
   "id": "39ebc80a",
   "metadata": {},
   "outputs": [],
   "source": [
    "from sklearn.linear_model import LinearRegression"
   ]
  },
  {
   "cell_type": "code",
   "execution_count": 42,
   "id": "99a732dd",
   "metadata": {},
   "outputs": [],
   "source": [
    "reg=LinearRegression()   #creating object"
   ]
  },
  {
   "cell_type": "code",
   "execution_count": 43,
   "id": "83c6ce9a",
   "metadata": {},
   "outputs": [
    {
     "data": {
      "text/html": [
       "<style>#sk-container-id-1 {color: black;background-color: white;}#sk-container-id-1 pre{padding: 0;}#sk-container-id-1 div.sk-toggleable {background-color: white;}#sk-container-id-1 label.sk-toggleable__label {cursor: pointer;display: block;width: 100%;margin-bottom: 0;padding: 0.3em;box-sizing: border-box;text-align: center;}#sk-container-id-1 label.sk-toggleable__label-arrow:before {content: \"▸\";float: left;margin-right: 0.25em;color: #696969;}#sk-container-id-1 label.sk-toggleable__label-arrow:hover:before {color: black;}#sk-container-id-1 div.sk-estimator:hover label.sk-toggleable__label-arrow:before {color: black;}#sk-container-id-1 div.sk-toggleable__content {max-height: 0;max-width: 0;overflow: hidden;text-align: left;background-color: #f0f8ff;}#sk-container-id-1 div.sk-toggleable__content pre {margin: 0.2em;color: black;border-radius: 0.25em;background-color: #f0f8ff;}#sk-container-id-1 input.sk-toggleable__control:checked~div.sk-toggleable__content {max-height: 200px;max-width: 100%;overflow: auto;}#sk-container-id-1 input.sk-toggleable__control:checked~label.sk-toggleable__label-arrow:before {content: \"▾\";}#sk-container-id-1 div.sk-estimator input.sk-toggleable__control:checked~label.sk-toggleable__label {background-color: #d4ebff;}#sk-container-id-1 div.sk-label input.sk-toggleable__control:checked~label.sk-toggleable__label {background-color: #d4ebff;}#sk-container-id-1 input.sk-hidden--visually {border: 0;clip: rect(1px 1px 1px 1px);clip: rect(1px, 1px, 1px, 1px);height: 1px;margin: -1px;overflow: hidden;padding: 0;position: absolute;width: 1px;}#sk-container-id-1 div.sk-estimator {font-family: monospace;background-color: #f0f8ff;border: 1px dotted black;border-radius: 0.25em;box-sizing: border-box;margin-bottom: 0.5em;}#sk-container-id-1 div.sk-estimator:hover {background-color: #d4ebff;}#sk-container-id-1 div.sk-parallel-item::after {content: \"\";width: 100%;border-bottom: 1px solid gray;flex-grow: 1;}#sk-container-id-1 div.sk-label:hover label.sk-toggleable__label {background-color: #d4ebff;}#sk-container-id-1 div.sk-serial::before {content: \"\";position: absolute;border-left: 1px solid gray;box-sizing: border-box;top: 0;bottom: 0;left: 50%;z-index: 0;}#sk-container-id-1 div.sk-serial {display: flex;flex-direction: column;align-items: center;background-color: white;padding-right: 0.2em;padding-left: 0.2em;position: relative;}#sk-container-id-1 div.sk-item {position: relative;z-index: 1;}#sk-container-id-1 div.sk-parallel {display: flex;align-items: stretch;justify-content: center;background-color: white;position: relative;}#sk-container-id-1 div.sk-item::before, #sk-container-id-1 div.sk-parallel-item::before {content: \"\";position: absolute;border-left: 1px solid gray;box-sizing: border-box;top: 0;bottom: 0;left: 50%;z-index: -1;}#sk-container-id-1 div.sk-parallel-item {display: flex;flex-direction: column;z-index: 1;position: relative;background-color: white;}#sk-container-id-1 div.sk-parallel-item:first-child::after {align-self: flex-end;width: 50%;}#sk-container-id-1 div.sk-parallel-item:last-child::after {align-self: flex-start;width: 50%;}#sk-container-id-1 div.sk-parallel-item:only-child::after {width: 0;}#sk-container-id-1 div.sk-dashed-wrapped {border: 1px dashed gray;margin: 0 0.4em 0.5em 0.4em;box-sizing: border-box;padding-bottom: 0.4em;background-color: white;}#sk-container-id-1 div.sk-label label {font-family: monospace;font-weight: bold;display: inline-block;line-height: 1.2em;}#sk-container-id-1 div.sk-label-container {text-align: center;}#sk-container-id-1 div.sk-container {/* jupyter's `normalize.less` sets `[hidden] { display: none; }` but bootstrap.min.css set `[hidden] { display: none !important; }` so we also need the `!important` here to be able to override the default hidden behavior on the sphinx rendered scikit-learn.org. See: https://github.com/scikit-learn/scikit-learn/issues/21755 */display: inline-block !important;position: relative;}#sk-container-id-1 div.sk-text-repr-fallback {display: none;}</style><div id=\"sk-container-id-1\" class=\"sk-top-container\"><div class=\"sk-text-repr-fallback\"><pre>LinearRegression()</pre><b>In a Jupyter environment, please rerun this cell to show the HTML representation or trust the notebook. <br />On GitHub, the HTML representation is unable to render, please try loading this page with nbviewer.org.</b></div><div class=\"sk-container\" hidden><div class=\"sk-item\"><div class=\"sk-estimator sk-toggleable\"><input class=\"sk-toggleable__control sk-hidden--visually\" id=\"sk-estimator-id-1\" type=\"checkbox\" checked><label for=\"sk-estimator-id-1\" class=\"sk-toggleable__label sk-toggleable__label-arrow\">LinearRegression</label><div class=\"sk-toggleable__content\"><pre>LinearRegression()</pre></div></div></div></div></div>"
      ],
      "text/plain": [
       "LinearRegression()"
      ]
     },
     "execution_count": 43,
     "metadata": {},
     "output_type": "execute_result"
    }
   ],
   "source": [
    "reg.fit(xtrain,ytrain)  #training"
   ]
  },
  {
   "cell_type": "code",
   "execution_count": 44,
   "id": "93e78f5a",
   "metadata": {},
   "outputs": [
    {
     "data": {
      "text/plain": [
       "array([[  45.1346784 ,   10.98769936,   64.30258228, -139.61272983,\n",
       "          70.72087434,  132.99675782,  401.91654666,   58.01867283,\n",
       "          78.11408516,  102.2914949 ,  104.45811837]])"
      ]
     },
     "execution_count": 44,
     "metadata": {},
     "output_type": "execute_result"
    }
   ],
   "source": [
    "#finding coefficient\n",
    "m=reg.coef_\n",
    "m"
   ]
  },
  {
   "cell_type": "code",
   "execution_count": 45,
   "id": "c89c2e3b",
   "metadata": {},
   "outputs": [
    {
     "data": {
      "text/plain": [
       "array([1128.20484319])"
      ]
     },
     "execution_count": 45,
     "metadata": {},
     "output_type": "execute_result"
    }
   ],
   "source": [
    "#finding intercept\n",
    "c=reg.intercept_\n",
    "c"
   ]
  },
  {
   "cell_type": "code",
   "execution_count": 46,
   "id": "3c657d32",
   "metadata": {},
   "outputs": [
    {
     "data": {
      "text/plain": [
       "-1001.6303219915474"
      ]
     },
     "execution_count": 46,
     "metadata": {},
     "output_type": "execute_result"
    }
   ],
   "source": [
    "m1,m2,m3,m4,m5,m6,m7,m8,m9,m10,m11=45.75207419,   17.49977609,   43.7583531 , -121.64009148,47.57726392,  125.44995631,  388.80309103,   62.78218448,70.83328932,  113.72526373,   96.46871816\n",
    "         \n",
    "          \n",
    "x1,x2,x3,x4,x5,x6,x7,x8,x9,x10,x11=0.871310, 0.842691, 0.335406, -1.204407, -1.170270, -1.746723, -0.862176, -1.167410, -0.425690, -3.680613, -0.885022\n",
    "c=1125.63561949\n",
    "y=m1* x1 + m2* x2 +m3* x3 +m4* x4 +m5* x5 +m6* x6 +m7 *x7 +m8* x8 +m9* x9 +m10* x10 +m11 *x11\n",
    "y"
   ]
  },
  {
   "cell_type": "code",
   "execution_count": 47,
   "id": "983eef74",
   "metadata": {},
   "outputs": [
    {
     "name": "stderr",
     "output_type": "stream",
     "text": [
      "C:\\Users\\ruhul\\anaconda3\\lib\\site-packages\\sklearn\\base.py:450: UserWarning: X does not have valid feature names, but LinearRegression was fitted with feature names\n",
      "  warnings.warn(\n"
     ]
    },
    {
     "data": {
      "text/plain": [
       "array([[911.9883927]])"
      ]
     },
     "execution_count": 47,
     "metadata": {},
     "output_type": "execute_result"
    }
   ],
   "source": [
    "reg.predict([[0.136477 ,-1.502761 ,0.335406 ,0.408772 ,-0.155303 ,-0.118498 ,-0.075195 ,-0.043142 ,-0.036752 ,-0.781657 ,-0.268684]])"
   ]
  },
  {
   "cell_type": "code",
   "execution_count": 48,
   "id": "edcecc52",
   "metadata": {},
   "outputs": [],
   "source": [
    "pred=reg.predict(xtest)"
   ]
  },
  {
   "cell_type": "code",
   "execution_count": 49,
   "id": "9c38fff1",
   "metadata": {},
   "outputs": [
    {
     "data": {
      "text/plain": [
       "array([[ 1.11489557e+03],\n",
       "       [ 1.48996697e+03],\n",
       "       [ 1.24219666e+03],\n",
       "       [ 1.24697653e+03],\n",
       "       [ 1.84586477e+03],\n",
       "       [ 9.41206178e+02],\n",
       "       [ 1.04760062e+03],\n",
       "       [ 1.25992108e+03],\n",
       "       [ 8.01534454e+02],\n",
       "       [ 1.90849131e+02],\n",
       "       [ 1.18796583e+02],\n",
       "       [ 1.02043984e+03],\n",
       "       [ 1.03638050e+03],\n",
       "       [ 6.00629108e+02],\n",
       "       [ 1.22925926e+03],\n",
       "       [ 4.15464211e+02],\n",
       "       [ 2.34645974e+02],\n",
       "       [ 1.23948617e+03],\n",
       "       [ 9.73027652e+02],\n",
       "       [ 1.31016851e+03],\n",
       "       [ 6.70479354e+02],\n",
       "       [ 5.33191833e+02],\n",
       "       [ 1.77988821e+03],\n",
       "       [ 1.13342665e+03],\n",
       "       [ 3.83829132e+02],\n",
       "       [ 1.08644144e+03],\n",
       "       [ 1.72336747e+03],\n",
       "       [ 8.56830717e+02],\n",
       "       [ 9.32894996e+02],\n",
       "       [ 1.30757364e+03],\n",
       "       [ 1.31098684e+03],\n",
       "       [ 4.13107152e+02],\n",
       "       [ 1.33713437e+02],\n",
       "       [ 7.53255940e+02],\n",
       "       [ 1.99674606e+03],\n",
       "       [ 1.98943658e+03],\n",
       "       [ 1.69596734e+02],\n",
       "       [ 4.84319551e+02],\n",
       "       [ 1.78044283e+03],\n",
       "       [ 1.16672939e+03],\n",
       "       [ 2.14080669e+03],\n",
       "       [ 8.14745585e+02],\n",
       "       [ 1.95934791e+03],\n",
       "       [ 5.07440904e+02],\n",
       "       [ 1.35981621e+03],\n",
       "       [ 7.47148762e+02],\n",
       "       [ 2.04400856e+03],\n",
       "       [ 6.85309469e+02],\n",
       "       [ 1.33136453e+03],\n",
       "       [ 1.00669974e+03],\n",
       "       [ 1.90873570e+03],\n",
       "       [ 3.20877342e+03],\n",
       "       [ 1.14797957e+03],\n",
       "       [ 2.18199092e+03],\n",
       "       [ 1.94216840e+03],\n",
       "       [ 4.34125956e+02],\n",
       "       [ 1.06395107e+03],\n",
       "       [ 1.15656875e+03],\n",
       "       [ 4.54110578e+02],\n",
       "       [ 1.74845059e+03],\n",
       "       [ 8.21982145e+01],\n",
       "       [ 2.12070791e+03],\n",
       "       [ 8.66040157e+02],\n",
       "       [ 2.10348944e+02],\n",
       "       [ 1.85112577e+03],\n",
       "       [ 6.71035221e+02],\n",
       "       [ 1.14289475e+03],\n",
       "       [ 1.32255520e+03],\n",
       "       [ 3.71148540e+02],\n",
       "       [ 7.64842592e+02],\n",
       "       [ 7.72599082e+02],\n",
       "       [ 1.41110786e+03],\n",
       "       [ 1.24457155e+03],\n",
       "       [ 1.15254562e+03],\n",
       "       [ 2.94253957e+02],\n",
       "       [ 1.25171932e+03],\n",
       "       [ 4.12416329e+02],\n",
       "       [ 1.27490958e+03],\n",
       "       [ 1.22373079e+03],\n",
       "       [-2.82525329e+02],\n",
       "       [ 1.10430037e+03],\n",
       "       [ 1.09232414e+03],\n",
       "       [ 8.36150032e+02],\n",
       "       [ 8.22732404e+02],\n",
       "       [ 1.34738990e+03],\n",
       "       [ 1.97278617e+03],\n",
       "       [ 7.37351713e+02],\n",
       "       [ 1.13216103e+03],\n",
       "       [ 1.53943073e+03],\n",
       "       [ 3.87400823e+02],\n",
       "       [ 8.78816873e+02],\n",
       "       [ 1.19436648e+03],\n",
       "       [ 1.49246433e+02],\n",
       "       [ 2.00877196e+03],\n",
       "       [ 7.67654257e+02],\n",
       "       [ 1.80773826e+03],\n",
       "       [ 1.41110786e+03],\n",
       "       [ 4.15335042e+02],\n",
       "       [ 9.36351268e+02],\n",
       "       [ 6.42305492e+02],\n",
       "       [ 9.26032666e+02],\n",
       "       [ 1.04413352e+03],\n",
       "       [ 7.92555880e+02],\n",
       "       [ 1.94379524e+03],\n",
       "       [ 7.35330557e+02],\n",
       "       [ 1.00325309e+03],\n",
       "       [ 1.41949469e+03],\n",
       "       [ 1.47911223e+03],\n",
       "       [ 3.79027545e+02],\n",
       "       [ 1.56086076e+03],\n",
       "       [ 1.10385825e+03],\n",
       "       [ 7.11884696e+02],\n",
       "       [ 1.47243904e+03],\n",
       "       [ 1.63070422e+03],\n",
       "       [ 6.98559411e+02],\n",
       "       [ 5.79467075e+02],\n",
       "       [ 1.91906525e+03],\n",
       "       [ 2.35882794e+03],\n",
       "       [ 1.90409801e+03],\n",
       "       [ 4.15538083e+02],\n",
       "       [ 1.08777729e+03],\n",
       "       [ 4.59806996e+00],\n",
       "       [ 5.81640125e+02],\n",
       "       [ 1.29932039e+03],\n",
       "       [ 9.16496913e+02],\n",
       "       [ 8.22689360e+02],\n",
       "       [ 3.43683554e+02],\n",
       "       [ 7.59369156e+02],\n",
       "       [ 2.62054306e+02],\n",
       "       [ 1.28984972e+03],\n",
       "       [ 1.98864325e+03],\n",
       "       [ 1.24208175e+03],\n",
       "       [ 1.09285181e+03],\n",
       "       [ 1.16023402e+03],\n",
       "       [ 7.68824711e+02],\n",
       "       [ 7.50203005e+02],\n",
       "       [ 5.69151980e+02],\n",
       "       [ 5.08371255e+02],\n",
       "       [ 8.77561688e+02],\n",
       "       [ 1.98800220e+03],\n",
       "       [ 1.06990555e+03],\n",
       "       [ 1.09786911e+03],\n",
       "       [ 3.95908565e+02],\n",
       "       [ 7.74834581e+02],\n",
       "       [ 5.67605957e+03],\n",
       "       [ 7.68199023e+02],\n",
       "       [ 1.46103091e+03],\n",
       "       [ 1.16115606e+03],\n",
       "       [ 2.05791817e+03],\n",
       "       [ 1.13225839e+03],\n",
       "       [ 7.53836562e+02],\n",
       "       [ 1.35204894e+03],\n",
       "       [ 8.53462808e+02],\n",
       "       [ 2.00245859e+03],\n",
       "       [ 1.02782025e+03],\n",
       "       [ 1.69956745e+03],\n",
       "       [ 2.63934497e+03],\n",
       "       [ 7.43867932e+02],\n",
       "       [ 4.42416058e+02],\n",
       "       [ 3.45062086e+02],\n",
       "       [ 8.22860589e+02],\n",
       "       [ 1.23203439e+03],\n",
       "       [ 1.08340487e+03],\n",
       "       [ 7.58948759e+02],\n",
       "       [ 1.56211489e+03],\n",
       "       [ 1.31702751e+03],\n",
       "       [ 1.84871293e+03],\n",
       "       [ 2.44608402e+03],\n",
       "       [ 1.29068631e+03],\n",
       "       [ 1.97729165e+03],\n",
       "       [ 1.50270723e+03],\n",
       "       [ 1.67900655e+03],\n",
       "       [ 8.85627859e+02],\n",
       "       [ 7.92648295e+02],\n",
       "       [ 4.85810123e+02],\n",
       "       [ 9.01259619e+02],\n",
       "       [ 1.25171932e+03],\n",
       "       [ 5.98795890e+02],\n",
       "       [ 1.57479197e+03],\n",
       "       [ 9.81516376e+02],\n",
       "       [ 8.04703368e+02],\n",
       "       [ 1.61357800e+02],\n",
       "       [ 8.98899612e+02],\n",
       "       [ 1.26992546e+03],\n",
       "       [ 1.02902938e+03],\n",
       "       [ 1.13126399e+03],\n",
       "       [ 2.29745805e+02],\n",
       "       [ 7.65973114e+02],\n",
       "       [ 8.92978324e+02],\n",
       "       [ 2.39326038e+02],\n",
       "       [ 1.42442298e+03],\n",
       "       [ 9.04403551e+02],\n",
       "       [ 1.19027583e+03],\n",
       "       [ 4.07761536e+02],\n",
       "       [ 1.06492795e+03],\n",
       "       [ 1.75137942e+03],\n",
       "       [ 9.45307862e+02],\n",
       "       [ 7.06206097e+02],\n",
       "       [ 1.76843733e+03],\n",
       "       [ 6.43592895e+02],\n",
       "       [ 5.94907606e+02],\n",
       "       [ 1.04124543e+03],\n",
       "       [ 6.68821253e+02],\n",
       "       [ 3.29195674e+03],\n",
       "       [ 1.23547799e+03],\n",
       "       [ 7.49873099e+02],\n",
       "       [ 2.06613946e+03],\n",
       "       [ 6.40995356e+02],\n",
       "       [ 1.11716388e+03],\n",
       "       [ 7.58922600e+02],\n",
       "       [ 2.78834617e+02],\n",
       "       [ 5.19802679e+02],\n",
       "       [ 9.85122043e+02],\n",
       "       [ 4.42529707e+02],\n",
       "       [ 1.01761345e+03],\n",
       "       [ 9.84256718e+02],\n",
       "       [ 1.29124974e+03],\n",
       "       [ 8.88024094e+02],\n",
       "       [ 1.40845180e+03],\n",
       "       [ 2.34921895e+03],\n",
       "       [ 8.66101450e+01],\n",
       "       [ 1.17509500e+03],\n",
       "       [ 1.29457281e+03],\n",
       "       [ 1.52452085e+03],\n",
       "       [ 4.84319551e+02],\n",
       "       [ 4.10087016e+02],\n",
       "       [ 1.42481639e+03],\n",
       "       [ 2.10769157e+03],\n",
       "       [ 2.05539629e+03],\n",
       "       [ 6.99912885e+02],\n",
       "       [ 3.23317730e+03],\n",
       "       [ 6.94561901e+02],\n",
       "       [ 1.69889166e+03],\n",
       "       [ 4.97956812e+02],\n",
       "       [ 1.83951120e+03],\n",
       "       [ 8.95806377e+02],\n",
       "       [ 1.32497444e+03],\n",
       "       [ 1.16629805e+03],\n",
       "       [ 6.61490772e+02],\n",
       "       [ 2.61047469e+02],\n",
       "       [ 6.88234116e+02],\n",
       "       [ 1.16419359e+03],\n",
       "       [ 1.99291207e+03],\n",
       "       [ 1.09198354e+03],\n",
       "       [ 1.10220997e+03],\n",
       "       [ 1.32347828e+03],\n",
       "       [ 2.04596297e+03],\n",
       "       [ 1.16508535e+03],\n",
       "       [ 1.15810586e+03],\n",
       "       [ 1.17865037e+03],\n",
       "       [ 1.95769775e+03],\n",
       "       [ 1.71086020e+03],\n",
       "       [ 9.14822594e+02],\n",
       "       [ 1.48903998e+03],\n",
       "       [ 1.81465052e+03],\n",
       "       [ 1.94364080e+03],\n",
       "       [ 2.09391162e+03],\n",
       "       [ 4.65830979e+02],\n",
       "       [ 1.02118851e+03],\n",
       "       [ 1.94471346e+02],\n",
       "       [ 1.20018052e+03],\n",
       "       [ 2.13240374e+03],\n",
       "       [ 2.01224152e+03],\n",
       "       [ 7.24278222e+02],\n",
       "       [ 7.66940398e+01],\n",
       "       [ 1.08992109e+03],\n",
       "       [ 1.03895049e+03],\n",
       "       [ 6.04297487e+02],\n",
       "       [ 1.15299326e+03],\n",
       "       [ 1.40504382e+03],\n",
       "       [ 9.11749877e+02],\n",
       "       [ 1.18422943e+03],\n",
       "       [ 1.55761781e+02],\n",
       "       [ 1.75691694e+03],\n",
       "       [ 1.86449228e+03],\n",
       "       [ 5.05422673e+02],\n",
       "       [ 1.36491634e+03],\n",
       "       [ 1.04679102e+03],\n",
       "       [ 1.99095507e+03],\n",
       "       [ 9.32678597e+02],\n",
       "       [ 1.14137083e+03],\n",
       "       [ 1.90660977e+02],\n",
       "       [ 1.14876489e+03],\n",
       "       [ 4.44957345e+02],\n",
       "       [ 8.61767631e+02],\n",
       "       [ 1.82501057e+03],\n",
       "       [ 1.15661912e+03],\n",
       "       [ 1.66096131e+02],\n",
       "       [ 1.72761058e+03],\n",
       "       [ 8.47566081e+02],\n",
       "       [ 9.67348869e+02],\n",
       "       [ 1.20634135e+03],\n",
       "       [ 1.94266919e+03],\n",
       "       [ 1.05932353e+03],\n",
       "       [ 9.81314428e+02],\n",
       "       [ 2.79587076e+02],\n",
       "       [ 1.23465900e+03],\n",
       "       [ 1.32497444e+03],\n",
       "       [ 5.16739228e+02],\n",
       "       [ 5.25729463e+02],\n",
       "       [ 1.18347081e+03],\n",
       "       [ 7.42814630e+02],\n",
       "       [ 1.11543123e+03],\n",
       "       [ 1.18757397e+03],\n",
       "       [ 1.08493281e+03],\n",
       "       [ 2.21814025e+03],\n",
       "       [ 1.02055289e+03],\n",
       "       [ 1.18342221e+03],\n",
       "       [ 1.13031186e+03],\n",
       "       [ 1.33170709e+03],\n",
       "       [ 2.05527534e+03],\n",
       "       [ 1.35924606e+03],\n",
       "       [ 1.22671454e+03],\n",
       "       [ 1.03329962e+03],\n",
       "       [ 1.13683548e+03],\n",
       "       [ 1.50486877e+03],\n",
       "       [ 1.25971883e+03],\n",
       "       [ 7.15345023e+02],\n",
       "       [ 5.89782622e+02],\n",
       "       [ 1.53331814e+03],\n",
       "       [ 3.10471436e+03],\n",
       "       [ 1.57382027e+03],\n",
       "       [ 1.81002721e+03],\n",
       "       [ 1.23674738e+03],\n",
       "       [ 1.14236752e+03],\n",
       "       [ 6.47358946e+02],\n",
       "       [ 2.11600089e+03],\n",
       "       [ 7.46005375e+02],\n",
       "       [ 1.48765870e+03],\n",
       "       [ 9.63616342e+02],\n",
       "       [ 7.48888421e+02],\n",
       "       [ 2.07736686e+03],\n",
       "       [ 1.40321672e+03],\n",
       "       [ 9.59934926e+02],\n",
       "       [ 1.29591891e+03],\n",
       "       [ 1.37053955e+03],\n",
       "       [ 1.39954789e+03],\n",
       "       [ 1.06472043e+03],\n",
       "       [ 1.22078829e+03],\n",
       "       [ 6.30926922e+02],\n",
       "       [ 1.25339568e+03],\n",
       "       [ 1.87780242e+03],\n",
       "       [ 1.27901522e+03],\n",
       "       [ 1.43884688e+03],\n",
       "       [ 1.54635909e+03],\n",
       "       [ 5.91329024e+02],\n",
       "       [ 6.48989651e+02],\n",
       "       [ 1.37821081e+03],\n",
       "       [ 1.23938213e+03],\n",
       "       [ 1.24121551e+03],\n",
       "       [ 1.37476393e+03],\n",
       "       [ 1.26731420e+03],\n",
       "       [ 7.43867932e+02],\n",
       "       [ 1.37899048e+03],\n",
       "       [ 6.20667614e+02],\n",
       "       [ 1.05621912e+03],\n",
       "       [ 8.41798658e+02],\n",
       "       [ 9.96652349e+02],\n",
       "       [ 6.99568340e+02],\n",
       "       [ 3.51867257e+03],\n",
       "       [ 1.02037589e+03],\n",
       "       [ 9.62397398e+02],\n",
       "       [ 8.45552032e+02],\n",
       "       [ 1.04703284e+03],\n",
       "       [ 1.03584289e+03],\n",
       "       [ 1.33120724e+03],\n",
       "       [ 6.27124037e+02],\n",
       "       [ 1.57103163e+03],\n",
       "       [ 8.78809565e+02],\n",
       "       [ 1.41888738e+03],\n",
       "       [ 1.03797540e+03],\n",
       "       [ 2.13049845e+03],\n",
       "       [ 1.28144214e+03],\n",
       "       [ 1.55920465e+03],\n",
       "       [ 1.15640726e+03],\n",
       "       [ 1.26395275e+03],\n",
       "       [ 2.06699732e+03],\n",
       "       [ 9.87518645e+02],\n",
       "       [ 9.26899937e+02],\n",
       "       [ 9.49838087e+02],\n",
       "       [ 1.90893998e+03],\n",
       "       [ 1.06953914e+03],\n",
       "       [ 1.13156925e+03],\n",
       "       [ 1.13352097e+03],\n",
       "       [ 4.29757642e+01],\n",
       "       [ 5.86557804e+02],\n",
       "       [ 1.19828995e+03],\n",
       "       [ 1.82192301e+03],\n",
       "       [ 9.74997524e+02],\n",
       "       [ 3.17043740e+03],\n",
       "       [ 9.51405517e+02]])"
      ]
     },
     "execution_count": 49,
     "metadata": {},
     "output_type": "execute_result"
    }
   ],
   "source": [
    "pred"
   ]
  },
  {
   "cell_type": "code",
   "execution_count": 50,
   "id": "3e6372b8",
   "metadata": {},
   "outputs": [],
   "source": [
    "df1['predicted result']=reg.predict(x)"
   ]
  },
  {
   "cell_type": "code",
   "execution_count": 51,
   "id": "c8afc63e",
   "metadata": {},
   "outputs": [
    {
     "data": {
      "text/html": [
       "<div>\n",
       "<style scoped>\n",
       "    .dataframe tbody tr th:only-of-type {\n",
       "        vertical-align: middle;\n",
       "    }\n",
       "\n",
       "    .dataframe tbody tr th {\n",
       "        vertical-align: top;\n",
       "    }\n",
       "\n",
       "    .dataframe thead th {\n",
       "        text-align: right;\n",
       "    }\n",
       "</style>\n",
       "<table border=\"1\" class=\"dataframe\">\n",
       "  <thead>\n",
       "    <tr style=\"text-align: right;\">\n",
       "      <th></th>\n",
       "      <th>Company</th>\n",
       "      <th>Product</th>\n",
       "      <th>TypeName</th>\n",
       "      <th>Inches</th>\n",
       "      <th>ScreenResolution</th>\n",
       "      <th>Cpu</th>\n",
       "      <th>Ram</th>\n",
       "      <th>Memory</th>\n",
       "      <th>Gpu</th>\n",
       "      <th>OpSys</th>\n",
       "      <th>Weight</th>\n",
       "      <th>Price</th>\n",
       "      <th>predicted result</th>\n",
       "    </tr>\n",
       "  </thead>\n",
       "  <tbody>\n",
       "    <tr>\n",
       "      <th>0</th>\n",
       "      <td>1</td>\n",
       "      <td>300</td>\n",
       "      <td>4</td>\n",
       "      <td>13.3</td>\n",
       "      <td>23</td>\n",
       "      <td>65</td>\n",
       "      <td>8</td>\n",
       "      <td>4</td>\n",
       "      <td>56</td>\n",
       "      <td>8</td>\n",
       "      <td>1.37</td>\n",
       "      <td>1339.69</td>\n",
       "      <td>1472.233250</td>\n",
       "    </tr>\n",
       "    <tr>\n",
       "      <th>1</th>\n",
       "      <td>1</td>\n",
       "      <td>301</td>\n",
       "      <td>4</td>\n",
       "      <td>13.3</td>\n",
       "      <td>1</td>\n",
       "      <td>63</td>\n",
       "      <td>8</td>\n",
       "      <td>2</td>\n",
       "      <td>50</td>\n",
       "      <td>8</td>\n",
       "      <td>1.34</td>\n",
       "      <td>898.94</td>\n",
       "      <td>1222.348274</td>\n",
       "    </tr>\n",
       "    <tr>\n",
       "      <th>2</th>\n",
       "      <td>7</td>\n",
       "      <td>50</td>\n",
       "      <td>3</td>\n",
       "      <td>15.6</td>\n",
       "      <td>8</td>\n",
       "      <td>74</td>\n",
       "      <td>8</td>\n",
       "      <td>16</td>\n",
       "      <td>52</td>\n",
       "      <td>4</td>\n",
       "      <td>1.86</td>\n",
       "      <td>575.00</td>\n",
       "      <td>911.988418</td>\n",
       "    </tr>\n",
       "    <tr>\n",
       "      <th>3</th>\n",
       "      <td>1</td>\n",
       "      <td>300</td>\n",
       "      <td>4</td>\n",
       "      <td>15.4</td>\n",
       "      <td>25</td>\n",
       "      <td>85</td>\n",
       "      <td>16</td>\n",
       "      <td>29</td>\n",
       "      <td>8</td>\n",
       "      <td>8</td>\n",
       "      <td>1.83</td>\n",
       "      <td>2537.45</td>\n",
       "      <td>2093.911618</td>\n",
       "    </tr>\n",
       "    <tr>\n",
       "      <th>4</th>\n",
       "      <td>1</td>\n",
       "      <td>300</td>\n",
       "      <td>4</td>\n",
       "      <td>13.3</td>\n",
       "      <td>23</td>\n",
       "      <td>67</td>\n",
       "      <td>8</td>\n",
       "      <td>16</td>\n",
       "      <td>57</td>\n",
       "      <td>8</td>\n",
       "      <td>1.37</td>\n",
       "      <td>1803.60</td>\n",
       "      <td>1573.565687</td>\n",
       "    </tr>\n",
       "  </tbody>\n",
       "</table>\n",
       "</div>"
      ],
      "text/plain": [
       "   Company  Product  TypeName  Inches  ScreenResolution  Cpu  Ram  Memory  \\\n",
       "0        1      300         4    13.3                23   65    8       4   \n",
       "1        1      301         4    13.3                 1   63    8       2   \n",
       "2        7       50         3    15.6                 8   74    8      16   \n",
       "3        1      300         4    15.4                25   85   16      29   \n",
       "4        1      300         4    13.3                23   67    8      16   \n",
       "\n",
       "   Gpu  OpSys  Weight    Price  predicted result  \n",
       "0   56      8    1.37  1339.69       1472.233250  \n",
       "1   50      8    1.34   898.94       1222.348274  \n",
       "2   52      4    1.86   575.00        911.988418  \n",
       "3    8      8    1.83  2537.45       2093.911618  \n",
       "4   57      8    1.37  1803.60       1573.565687  "
      ]
     },
     "execution_count": 51,
     "metadata": {},
     "output_type": "execute_result"
    }
   ],
   "source": [
    "df1.head()"
   ]
  },
  {
   "cell_type": "code",
   "execution_count": 52,
   "id": "1799a2e8",
   "metadata": {},
   "outputs": [],
   "source": [
    "from sklearn.metrics import mean_squared_error,mean_absolute_error,r2_score"
   ]
  },
  {
   "cell_type": "code",
   "execution_count": 53,
   "id": "d2ee0937",
   "metadata": {},
   "outputs": [],
   "source": [
    "mse=mean_squared_error(ytest,pred)"
   ]
  },
  {
   "cell_type": "code",
   "execution_count": 54,
   "id": "5ddde385",
   "metadata": {},
   "outputs": [
    {
     "data": {
      "text/plain": [
       "182676.0010919142"
      ]
     },
     "execution_count": 54,
     "metadata": {},
     "output_type": "execute_result"
    }
   ],
   "source": [
    "mse"
   ]
  },
  {
   "cell_type": "code",
   "execution_count": 55,
   "id": "a1cc8e67",
   "metadata": {},
   "outputs": [],
   "source": [
    "mae=mean_absolute_error(ytest,pred)"
   ]
  },
  {
   "cell_type": "code",
   "execution_count": 56,
   "id": "92aa8489",
   "metadata": {},
   "outputs": [
    {
     "data": {
      "text/plain": [
       "302.87569123418297"
      ]
     },
     "execution_count": 56,
     "metadata": {},
     "output_type": "execute_result"
    }
   ],
   "source": [
    "mae"
   ]
  },
  {
   "cell_type": "code",
   "execution_count": 57,
   "id": "0946ca76",
   "metadata": {},
   "outputs": [
    {
     "data": {
      "text/plain": [
       "0.6539939795998475"
      ]
     },
     "execution_count": 57,
     "metadata": {},
     "output_type": "execute_result"
    }
   ],
   "source": [
    "lr_score=r2_score(ytest,pred)                   #measuring accuracy\n",
    "lr_score"
   ]
  },
  {
   "cell_type": "markdown",
   "id": "099bce42",
   "metadata": {},
   "source": [
    "# KNN Regression"
   ]
  },
  {
   "cell_type": "code",
   "execution_count": 58,
   "id": "c7a4f243",
   "metadata": {},
   "outputs": [],
   "source": [
    "from sklearn.neighbors import KNeighborsRegressor"
   ]
  },
  {
   "cell_type": "code",
   "execution_count": 59,
   "id": "2463df3a",
   "metadata": {},
   "outputs": [],
   "source": [
    "neigh=KNeighborsRegressor(n_neighbors=5)"
   ]
  },
  {
   "cell_type": "code",
   "execution_count": 60,
   "id": "eb17b885",
   "metadata": {},
   "outputs": [
    {
     "data": {
      "text/html": [
       "<style>#sk-container-id-2 {color: black;background-color: white;}#sk-container-id-2 pre{padding: 0;}#sk-container-id-2 div.sk-toggleable {background-color: white;}#sk-container-id-2 label.sk-toggleable__label {cursor: pointer;display: block;width: 100%;margin-bottom: 0;padding: 0.3em;box-sizing: border-box;text-align: center;}#sk-container-id-2 label.sk-toggleable__label-arrow:before {content: \"▸\";float: left;margin-right: 0.25em;color: #696969;}#sk-container-id-2 label.sk-toggleable__label-arrow:hover:before {color: black;}#sk-container-id-2 div.sk-estimator:hover label.sk-toggleable__label-arrow:before {color: black;}#sk-container-id-2 div.sk-toggleable__content {max-height: 0;max-width: 0;overflow: hidden;text-align: left;background-color: #f0f8ff;}#sk-container-id-2 div.sk-toggleable__content pre {margin: 0.2em;color: black;border-radius: 0.25em;background-color: #f0f8ff;}#sk-container-id-2 input.sk-toggleable__control:checked~div.sk-toggleable__content {max-height: 200px;max-width: 100%;overflow: auto;}#sk-container-id-2 input.sk-toggleable__control:checked~label.sk-toggleable__label-arrow:before {content: \"▾\";}#sk-container-id-2 div.sk-estimator input.sk-toggleable__control:checked~label.sk-toggleable__label {background-color: #d4ebff;}#sk-container-id-2 div.sk-label input.sk-toggleable__control:checked~label.sk-toggleable__label {background-color: #d4ebff;}#sk-container-id-2 input.sk-hidden--visually {border: 0;clip: rect(1px 1px 1px 1px);clip: rect(1px, 1px, 1px, 1px);height: 1px;margin: -1px;overflow: hidden;padding: 0;position: absolute;width: 1px;}#sk-container-id-2 div.sk-estimator {font-family: monospace;background-color: #f0f8ff;border: 1px dotted black;border-radius: 0.25em;box-sizing: border-box;margin-bottom: 0.5em;}#sk-container-id-2 div.sk-estimator:hover {background-color: #d4ebff;}#sk-container-id-2 div.sk-parallel-item::after {content: \"\";width: 100%;border-bottom: 1px solid gray;flex-grow: 1;}#sk-container-id-2 div.sk-label:hover label.sk-toggleable__label {background-color: #d4ebff;}#sk-container-id-2 div.sk-serial::before {content: \"\";position: absolute;border-left: 1px solid gray;box-sizing: border-box;top: 0;bottom: 0;left: 50%;z-index: 0;}#sk-container-id-2 div.sk-serial {display: flex;flex-direction: column;align-items: center;background-color: white;padding-right: 0.2em;padding-left: 0.2em;position: relative;}#sk-container-id-2 div.sk-item {position: relative;z-index: 1;}#sk-container-id-2 div.sk-parallel {display: flex;align-items: stretch;justify-content: center;background-color: white;position: relative;}#sk-container-id-2 div.sk-item::before, #sk-container-id-2 div.sk-parallel-item::before {content: \"\";position: absolute;border-left: 1px solid gray;box-sizing: border-box;top: 0;bottom: 0;left: 50%;z-index: -1;}#sk-container-id-2 div.sk-parallel-item {display: flex;flex-direction: column;z-index: 1;position: relative;background-color: white;}#sk-container-id-2 div.sk-parallel-item:first-child::after {align-self: flex-end;width: 50%;}#sk-container-id-2 div.sk-parallel-item:last-child::after {align-self: flex-start;width: 50%;}#sk-container-id-2 div.sk-parallel-item:only-child::after {width: 0;}#sk-container-id-2 div.sk-dashed-wrapped {border: 1px dashed gray;margin: 0 0.4em 0.5em 0.4em;box-sizing: border-box;padding-bottom: 0.4em;background-color: white;}#sk-container-id-2 div.sk-label label {font-family: monospace;font-weight: bold;display: inline-block;line-height: 1.2em;}#sk-container-id-2 div.sk-label-container {text-align: center;}#sk-container-id-2 div.sk-container {/* jupyter's `normalize.less` sets `[hidden] { display: none; }` but bootstrap.min.css set `[hidden] { display: none !important; }` so we also need the `!important` here to be able to override the default hidden behavior on the sphinx rendered scikit-learn.org. See: https://github.com/scikit-learn/scikit-learn/issues/21755 */display: inline-block !important;position: relative;}#sk-container-id-2 div.sk-text-repr-fallback {display: none;}</style><div id=\"sk-container-id-2\" class=\"sk-top-container\"><div class=\"sk-text-repr-fallback\"><pre>KNeighborsRegressor()</pre><b>In a Jupyter environment, please rerun this cell to show the HTML representation or trust the notebook. <br />On GitHub, the HTML representation is unable to render, please try loading this page with nbviewer.org.</b></div><div class=\"sk-container\" hidden><div class=\"sk-item\"><div class=\"sk-estimator sk-toggleable\"><input class=\"sk-toggleable__control sk-hidden--visually\" id=\"sk-estimator-id-2\" type=\"checkbox\" checked><label for=\"sk-estimator-id-2\" class=\"sk-toggleable__label sk-toggleable__label-arrow\">KNeighborsRegressor</label><div class=\"sk-toggleable__content\"><pre>KNeighborsRegressor()</pre></div></div></div></div></div>"
      ],
      "text/plain": [
       "KNeighborsRegressor()"
      ]
     },
     "execution_count": 60,
     "metadata": {},
     "output_type": "execute_result"
    }
   ],
   "source": [
    "neigh.fit(xtrain,ytrain)"
   ]
  },
  {
   "cell_type": "code",
   "execution_count": 61,
   "id": "b58f713a",
   "metadata": {},
   "outputs": [],
   "source": [
    "pred1=neigh.predict(xtest)"
   ]
  },
  {
   "cell_type": "code",
   "execution_count": 62,
   "id": "aa0c1b40",
   "metadata": {},
   "outputs": [
    {
     "data": {
      "text/plain": [
       "array([[1034.2  ],\n",
       "       [1310.074],\n",
       "       [1178.4  ],\n",
       "       [1631.036],\n",
       "       [1603.8  ],\n",
       "       [1031.2  ],\n",
       "       [ 950.798],\n",
       "       [1370.98 ],\n",
       "       [ 697.774],\n",
       "       [ 508.976],\n",
       "       [ 453.09 ],\n",
       "       [1031.508],\n",
       "       [1057.146],\n",
       "       [ 766.476],\n",
       "       [1474.2  ],\n",
       "       [ 228.2  ],\n",
       "       [ 408.4  ],\n",
       "       [1465.   ],\n",
       "       [1153.064],\n",
       "       [1805.74 ],\n",
       "       [ 769.978],\n",
       "       [ 526.316],\n",
       "       [1751.096],\n",
       "       [1188.298],\n",
       "       [ 458.2  ],\n",
       "       [1571.4  ],\n",
       "       [2376.114],\n",
       "       [ 769.4  ],\n",
       "       [ 785.598],\n",
       "       [1097.6  ],\n",
       "       [1143.58 ],\n",
       "       [ 428.98 ],\n",
       "       [ 478.874],\n",
       "       [ 605.4  ],\n",
       "       [1819.8  ],\n",
       "       [1894.528],\n",
       "       [ 339.684],\n",
       "       [ 260.   ],\n",
       "       [1401.298],\n",
       "       [ 882.998],\n",
       "       [2562.58 ],\n",
       "       [ 839.524],\n",
       "       [1691.772],\n",
       "       [ 472.324],\n",
       "       [1580.298],\n",
       "       [ 855.36 ],\n",
       "       [1278.2  ],\n",
       "       [ 730.4  ],\n",
       "       [1805.74 ],\n",
       "       [ 660.6  ],\n",
       "       [1919.8  ],\n",
       "       [2861.532],\n",
       "       [ 762.182],\n",
       "       [1792.2  ],\n",
       "       [1820.6  ],\n",
       "       [ 474.076],\n",
       "       [1156.648],\n",
       "       [1391.18 ],\n",
       "       [ 408.   ],\n",
       "       [1818.096],\n",
       "       [ 385.228],\n",
       "       [1527.8  ],\n",
       "       [ 670.484],\n",
       "       [ 442.38 ],\n",
       "       [1751.096],\n",
       "       [ 804.598],\n",
       "       [1184.18 ],\n",
       "       [1248.2  ],\n",
       "       [ 469.396],\n",
       "       [ 953.8  ],\n",
       "       [ 556.228],\n",
       "       [ 846.6  ],\n",
       "       [ 959.598],\n",
       "       [1236.256],\n",
       "       [ 492.588],\n",
       "       [1014.15 ],\n",
       "       [ 375.564],\n",
       "       [1103.6  ],\n",
       "       [1892.6  ],\n",
       "       [ 352.924],\n",
       "       [ 662.   ],\n",
       "       [1145.59 ],\n",
       "       [1118.6  ],\n",
       "       [ 724.898],\n",
       "       [ 995.686],\n",
       "       [1693.95 ],\n",
       "       [ 685.6  ],\n",
       "       [ 818.178],\n",
       "       [1744.032],\n",
       "       [ 506.262],\n",
       "       [1194.2  ],\n",
       "       [1131.502],\n",
       "       [ 466.92 ],\n",
       "       [1696.648],\n",
       "       [ 291.6  ],\n",
       "       [1479.   ],\n",
       "       [ 846.6  ],\n",
       "       [ 646.8  ],\n",
       "       [ 972.2  ],\n",
       "       [ 746.78 ],\n",
       "       [ 819.2  ],\n",
       "       [ 840.936],\n",
       "       [ 825.4  ],\n",
       "       [1561.4  ],\n",
       "       [ 498.03 ],\n",
       "       [ 526.676],\n",
       "       [1198.728],\n",
       "       [1009.   ],\n",
       "       [ 505.38 ],\n",
       "       [1070.4  ],\n",
       "       [1008.124],\n",
       "       [ 620.4  ],\n",
       "       [ 963.6  ],\n",
       "       [1570.17 ],\n",
       "       [1138.6  ],\n",
       "       [ 418.36 ],\n",
       "       [1719.   ],\n",
       "       [2125.484],\n",
       "       [1410.   ],\n",
       "       [ 828.594],\n",
       "       [ 981.204],\n",
       "       [ 356.8  ],\n",
       "       [ 488.18 ],\n",
       "       [1496.8  ],\n",
       "       [ 770.082],\n",
       "       [ 726.76 ],\n",
       "       [ 377.98 ],\n",
       "       [1482.   ],\n",
       "       [ 472.8  ],\n",
       "       [1336.98 ],\n",
       "       [2214.526],\n",
       "       [1118.   ],\n",
       "       [ 936.6  ],\n",
       "       [ 844.6  ],\n",
       "       [ 982.402],\n",
       "       [ 734.572],\n",
       "       [ 551.136],\n",
       "       [ 483.6  ],\n",
       "       [ 762.282],\n",
       "       [1356.   ],\n",
       "       [ 981.204],\n",
       "       [1028.4  ],\n",
       "       [ 550.572],\n",
       "       [ 691.4  ],\n",
       "       [2709.88 ],\n",
       "       [ 935.402],\n",
       "       [1380.8  ],\n",
       "       [1609.17 ],\n",
       "       [1678.8  ],\n",
       "       [1178.   ],\n",
       "       [ 691.938],\n",
       "       [1544.2  ],\n",
       "       [ 907.598],\n",
       "       [2462.484],\n",
       "       [ 968.2  ],\n",
       "       [1200.252],\n",
       "       [1867.6  ],\n",
       "       [ 777.998],\n",
       "       [ 478.874],\n",
       "       [ 514.44 ],\n",
       "       [1274.6  ],\n",
       "       [1489.2  ],\n",
       "       [ 971.2  ],\n",
       "       [ 689.87 ],\n",
       "       [2075.   ],\n",
       "       [1637.998],\n",
       "       [2019.   ],\n",
       "       [2759.08 ],\n",
       "       [1210.4  ],\n",
       "       [1937.92 ],\n",
       "       [1248.402],\n",
       "       [1774.2  ],\n",
       "       [ 840.936],\n",
       "       [1097.8  ],\n",
       "       [ 375.78 ],\n",
       "       [ 749.642],\n",
       "       [1014.15 ],\n",
       "       [ 495.2  ],\n",
       "       [2001.632],\n",
       "       [ 877.98 ],\n",
       "       [ 841.2  ],\n",
       "       [ 287.74 ],\n",
       "       [ 832.2  ],\n",
       "       [1146.214],\n",
       "       [1358.6  ],\n",
       "       [1045.4  ],\n",
       "       [ 438.116],\n",
       "       [ 799.6  ],\n",
       "       [1177.066],\n",
       "       [ 401.2  ],\n",
       "       [1561.402],\n",
       "       [ 597.4  ],\n",
       "       [ 932.798],\n",
       "       [ 337.486],\n",
       "       [1219.2  ],\n",
       "       [1226.268],\n",
       "       [ 710.136],\n",
       "       [ 467.118],\n",
       "       [1972.8  ],\n",
       "       [ 776.556],\n",
       "       [ 762.69 ],\n",
       "       [ 531.   ],\n",
       "       [1335.2  ],\n",
       "       [2764.658],\n",
       "       [1033.   ],\n",
       "       [ 291.6  ],\n",
       "       [2342.6  ],\n",
       "       [ 291.6  ],\n",
       "       [1274.202],\n",
       "       [ 796.6  ],\n",
       "       [ 401.2  ],\n",
       "       [ 434.98 ],\n",
       "       [1335.2  ],\n",
       "       [ 450.18 ],\n",
       "       [1402.948],\n",
       "       [ 879.   ],\n",
       "       [1048.2  ],\n",
       "       [ 670.484],\n",
       "       [1357.8  ],\n",
       "       [1835.   ],\n",
       "       [ 368.904],\n",
       "       [1167.8  ],\n",
       "       [1372.6  ],\n",
       "       [1753.712],\n",
       "       [ 260.   ],\n",
       "       [ 574.59 ],\n",
       "       [1018.466],\n",
       "       [1919.   ],\n",
       "       [2776.956],\n",
       "       [ 800.312],\n",
       "       [3654.452],\n",
       "       [ 568.   ],\n",
       "       [1701.798],\n",
       "       [ 593.248],\n",
       "       [1347.078],\n",
       "       [ 658.16 ],\n",
       "       [1824.4  ],\n",
       "       [1123.2  ],\n",
       "       [ 514.44 ],\n",
       "       [ 426.728],\n",
       "       [ 603.2  ],\n",
       "       [1231.312],\n",
       "       [1591.   ],\n",
       "       [1290.346],\n",
       "       [1088.748],\n",
       "       [1741.4  ],\n",
       "       [1762.98 ],\n",
       "       [1129.642],\n",
       "       [1162.   ],\n",
       "       [ 987.52 ],\n",
       "       [1594.18 ],\n",
       "       [1380.2  ],\n",
       "       [ 727.98 ],\n",
       "       [1755.2  ],\n",
       "       [1840.8  ],\n",
       "       [2199.73 ],\n",
       "       [2015.9  ],\n",
       "       [ 389.   ],\n",
       "       [ 949.146],\n",
       "       [ 429.028],\n",
       "       [1391.18 ],\n",
       "       [2711.   ],\n",
       "       [1616.8  ],\n",
       "       [ 800.2  ],\n",
       "       [ 439.38 ],\n",
       "       [ 679.   ],\n",
       "       [1458.64 ],\n",
       "       [ 678.4  ],\n",
       "       [1236.256],\n",
       "       [1478.4  ],\n",
       "       [ 902.2  ],\n",
       "       [1189.214],\n",
       "       [ 505.396],\n",
       "       [1897.6  ],\n",
       "       [2137.   ],\n",
       "       [ 695.95 ],\n",
       "       [1465.   ],\n",
       "       [1017.2  ],\n",
       "       [1828.684],\n",
       "       [1384.888],\n",
       "       [ 783.4  ],\n",
       "       [ 354.378],\n",
       "       [1173.902],\n",
       "       [ 479.094],\n",
       "       [1446.2  ],\n",
       "       [1584.2  ],\n",
       "       [1498.554],\n",
       "       [ 329.2  ],\n",
       "       [1897.6  ],\n",
       "       [ 531.19 ],\n",
       "       [ 868.196],\n",
       "       [1261.   ],\n",
       "       [1739.   ],\n",
       "       [ 985.6  ],\n",
       "       [ 929.   ],\n",
       "       [ 470.578],\n",
       "       [1445.192],\n",
       "       [1824.4  ],\n",
       "       [ 606.936],\n",
       "       [ 472.6  ],\n",
       "       [1300.798],\n",
       "       [ 988.8  ],\n",
       "       [1166.36 ],\n",
       "       [1069.8  ],\n",
       "       [1034.2  ],\n",
       "       [1884.6  ],\n",
       "       [1626.036],\n",
       "       [1168.298],\n",
       "       [ 967.2  ],\n",
       "       [ 732.6  ],\n",
       "       [1429.4  ],\n",
       "       [1478.4  ],\n",
       "       [1501.8  ],\n",
       "       [ 981.204],\n",
       "       [1152.   ],\n",
       "       [ 749.6  ],\n",
       "       [1103.6  ],\n",
       "       [ 841.2  ],\n",
       "       [ 749.576],\n",
       "       [1590.298],\n",
       "       [2765.762],\n",
       "       [1146.812],\n",
       "       [1869.6  ],\n",
       "       [ 934.2  ],\n",
       "       [1309.   ],\n",
       "       [ 250.   ],\n",
       "       [1478.4  ],\n",
       "       [ 523.   ],\n",
       "       [ 838.8  ],\n",
       "       [ 823.758],\n",
       "       [ 580.182],\n",
       "       [2038.8  ],\n",
       "       [2185.8  ],\n",
       "       [ 785.598],\n",
       "       [1082.414],\n",
       "       [ 963.6  ],\n",
       "       [1742.328],\n",
       "       [1379.648],\n",
       "       [1357.   ],\n",
       "       [ 581.126],\n",
       "       [1234.58 ],\n",
       "       [1687.8  ],\n",
       "       [1574.468],\n",
       "       [ 739.192],\n",
       "       [1328.4  ],\n",
       "       [ 763.6  ],\n",
       "       [ 526.8  ],\n",
       "       [1210.4  ],\n",
       "       [1403.4  ],\n",
       "       [1465.   ],\n",
       "       [ 681.666],\n",
       "       [1103.6  ],\n",
       "       [ 777.998],\n",
       "       [ 744.   ],\n",
       "       [ 679.652],\n",
       "       [1002.498],\n",
       "       [ 679.652],\n",
       "       [ 740.   ],\n",
       "       [ 743.   ],\n",
       "       [3184.452],\n",
       "       [1031.508],\n",
       "       [ 832.2  ],\n",
       "       [1027.142],\n",
       "       [1134.   ],\n",
       "       [ 598.2  ],\n",
       "       [1566.8  ],\n",
       "       [ 544.2  ],\n",
       "       [1762.4  ],\n",
       "       [ 641.398],\n",
       "       [1753.712],\n",
       "       [ 864.522],\n",
       "       [2440.2  ],\n",
       "       [1480.8  ],\n",
       "       [1556.718],\n",
       "       [1236.256],\n",
       "       [ 953.778],\n",
       "       [2453.156],\n",
       "       [ 707.164],\n",
       "       [ 996.844],\n",
       "       [ 729.578],\n",
       "       [1746.998],\n",
       "       [ 584.202],\n",
       "       [1094.748],\n",
       "       [1004.598],\n",
       "       [ 456.6  ],\n",
       "       [ 566.48 ],\n",
       "       [1117.954],\n",
       "       [1793.56 ],\n",
       "       [ 895.002],\n",
       "       [3249.88 ],\n",
       "       [ 811.998]])"
      ]
     },
     "execution_count": 62,
     "metadata": {},
     "output_type": "execute_result"
    }
   ],
   "source": [
    "pred1"
   ]
  },
  {
   "cell_type": "code",
   "execution_count": 63,
   "id": "b64104ca",
   "metadata": {},
   "outputs": [],
   "source": [
    "mse=mean_squared_error(ytest,pred1)"
   ]
  },
  {
   "cell_type": "code",
   "execution_count": 64,
   "id": "614c162b",
   "metadata": {},
   "outputs": [
    {
     "data": {
      "text/plain": [
       "142161.83572221996"
      ]
     },
     "execution_count": 64,
     "metadata": {},
     "output_type": "execute_result"
    }
   ],
   "source": [
    "mse"
   ]
  },
  {
   "cell_type": "code",
   "execution_count": 65,
   "id": "918310ce",
   "metadata": {},
   "outputs": [],
   "source": [
    "mae=mean_absolute_error(ytest,pred1)"
   ]
  },
  {
   "cell_type": "code",
   "execution_count": 66,
   "id": "c483d0da",
   "metadata": {},
   "outputs": [
    {
     "data": {
      "text/plain": [
       "234.03292583120208"
      ]
     },
     "execution_count": 66,
     "metadata": {},
     "output_type": "execute_result"
    }
   ],
   "source": [
    "mae"
   ]
  },
  {
   "cell_type": "code",
   "execution_count": 67,
   "id": "e80d1521",
   "metadata": {},
   "outputs": [
    {
     "data": {
      "text/plain": [
       "0.7307317286506836"
      ]
     },
     "execution_count": 67,
     "metadata": {},
     "output_type": "execute_result"
    }
   ],
   "source": [
    "knn_score=r2_score(ytest,pred1)               #measuring ac\n",
    "knn_score"
   ]
  },
  {
   "cell_type": "markdown",
   "id": "a8fa3258",
   "metadata": {},
   "source": [
    "# RandomForest Classifier"
   ]
  },
  {
   "cell_type": "code",
   "execution_count": 68,
   "id": "038897d3",
   "metadata": {},
   "outputs": [],
   "source": [
    "from sklearn.ensemble import RandomForestRegressor"
   ]
  },
  {
   "cell_type": "code",
   "execution_count": 69,
   "id": "87b344c0",
   "metadata": {},
   "outputs": [],
   "source": [
    "ran=RandomForestRegressor()"
   ]
  },
  {
   "cell_type": "code",
   "execution_count": 70,
   "id": "78dd8f91",
   "metadata": {},
   "outputs": [
    {
     "name": "stderr",
     "output_type": "stream",
     "text": [
      "C:\\Users\\ruhul\\AppData\\Local\\Temp\\ipykernel_2556\\1516033525.py:1: DataConversionWarning: A column-vector y was passed when a 1d array was expected. Please change the shape of y to (n_samples,), for example using ravel().\n",
      "  ran.fit(xtrain,ytrain)\n"
     ]
    },
    {
     "data": {
      "text/html": [
       "<style>#sk-container-id-3 {color: black;background-color: white;}#sk-container-id-3 pre{padding: 0;}#sk-container-id-3 div.sk-toggleable {background-color: white;}#sk-container-id-3 label.sk-toggleable__label {cursor: pointer;display: block;width: 100%;margin-bottom: 0;padding: 0.3em;box-sizing: border-box;text-align: center;}#sk-container-id-3 label.sk-toggleable__label-arrow:before {content: \"▸\";float: left;margin-right: 0.25em;color: #696969;}#sk-container-id-3 label.sk-toggleable__label-arrow:hover:before {color: black;}#sk-container-id-3 div.sk-estimator:hover label.sk-toggleable__label-arrow:before {color: black;}#sk-container-id-3 div.sk-toggleable__content {max-height: 0;max-width: 0;overflow: hidden;text-align: left;background-color: #f0f8ff;}#sk-container-id-3 div.sk-toggleable__content pre {margin: 0.2em;color: black;border-radius: 0.25em;background-color: #f0f8ff;}#sk-container-id-3 input.sk-toggleable__control:checked~div.sk-toggleable__content {max-height: 200px;max-width: 100%;overflow: auto;}#sk-container-id-3 input.sk-toggleable__control:checked~label.sk-toggleable__label-arrow:before {content: \"▾\";}#sk-container-id-3 div.sk-estimator input.sk-toggleable__control:checked~label.sk-toggleable__label {background-color: #d4ebff;}#sk-container-id-3 div.sk-label input.sk-toggleable__control:checked~label.sk-toggleable__label {background-color: #d4ebff;}#sk-container-id-3 input.sk-hidden--visually {border: 0;clip: rect(1px 1px 1px 1px);clip: rect(1px, 1px, 1px, 1px);height: 1px;margin: -1px;overflow: hidden;padding: 0;position: absolute;width: 1px;}#sk-container-id-3 div.sk-estimator {font-family: monospace;background-color: #f0f8ff;border: 1px dotted black;border-radius: 0.25em;box-sizing: border-box;margin-bottom: 0.5em;}#sk-container-id-3 div.sk-estimator:hover {background-color: #d4ebff;}#sk-container-id-3 div.sk-parallel-item::after {content: \"\";width: 100%;border-bottom: 1px solid gray;flex-grow: 1;}#sk-container-id-3 div.sk-label:hover label.sk-toggleable__label {background-color: #d4ebff;}#sk-container-id-3 div.sk-serial::before {content: \"\";position: absolute;border-left: 1px solid gray;box-sizing: border-box;top: 0;bottom: 0;left: 50%;z-index: 0;}#sk-container-id-3 div.sk-serial {display: flex;flex-direction: column;align-items: center;background-color: white;padding-right: 0.2em;padding-left: 0.2em;position: relative;}#sk-container-id-3 div.sk-item {position: relative;z-index: 1;}#sk-container-id-3 div.sk-parallel {display: flex;align-items: stretch;justify-content: center;background-color: white;position: relative;}#sk-container-id-3 div.sk-item::before, #sk-container-id-3 div.sk-parallel-item::before {content: \"\";position: absolute;border-left: 1px solid gray;box-sizing: border-box;top: 0;bottom: 0;left: 50%;z-index: -1;}#sk-container-id-3 div.sk-parallel-item {display: flex;flex-direction: column;z-index: 1;position: relative;background-color: white;}#sk-container-id-3 div.sk-parallel-item:first-child::after {align-self: flex-end;width: 50%;}#sk-container-id-3 div.sk-parallel-item:last-child::after {align-self: flex-start;width: 50%;}#sk-container-id-3 div.sk-parallel-item:only-child::after {width: 0;}#sk-container-id-3 div.sk-dashed-wrapped {border: 1px dashed gray;margin: 0 0.4em 0.5em 0.4em;box-sizing: border-box;padding-bottom: 0.4em;background-color: white;}#sk-container-id-3 div.sk-label label {font-family: monospace;font-weight: bold;display: inline-block;line-height: 1.2em;}#sk-container-id-3 div.sk-label-container {text-align: center;}#sk-container-id-3 div.sk-container {/* jupyter's `normalize.less` sets `[hidden] { display: none; }` but bootstrap.min.css set `[hidden] { display: none !important; }` so we also need the `!important` here to be able to override the default hidden behavior on the sphinx rendered scikit-learn.org. See: https://github.com/scikit-learn/scikit-learn/issues/21755 */display: inline-block !important;position: relative;}#sk-container-id-3 div.sk-text-repr-fallback {display: none;}</style><div id=\"sk-container-id-3\" class=\"sk-top-container\"><div class=\"sk-text-repr-fallback\"><pre>RandomForestRegressor()</pre><b>In a Jupyter environment, please rerun this cell to show the HTML representation or trust the notebook. <br />On GitHub, the HTML representation is unable to render, please try loading this page with nbviewer.org.</b></div><div class=\"sk-container\" hidden><div class=\"sk-item\"><div class=\"sk-estimator sk-toggleable\"><input class=\"sk-toggleable__control sk-hidden--visually\" id=\"sk-estimator-id-3\" type=\"checkbox\" checked><label for=\"sk-estimator-id-3\" class=\"sk-toggleable__label sk-toggleable__label-arrow\">RandomForestRegressor</label><div class=\"sk-toggleable__content\"><pre>RandomForestRegressor()</pre></div></div></div></div></div>"
      ],
      "text/plain": [
       "RandomForestRegressor()"
      ]
     },
     "execution_count": 70,
     "metadata": {},
     "output_type": "execute_result"
    }
   ],
   "source": [
    "ran.fit(xtrain,ytrain)"
   ]
  },
  {
   "cell_type": "code",
   "execution_count": 71,
   "id": "73a4f233",
   "metadata": {},
   "outputs": [],
   "source": [
    "pred2=ran.predict(xtest)"
   ]
  },
  {
   "cell_type": "code",
   "execution_count": 72,
   "id": "ae2502cb",
   "metadata": {},
   "outputs": [
    {
     "data": {
      "text/plain": [
       "array([1138.5701    , 1495.9271    , 1044.9165    , 1549.77      ,\n",
       "       1558.2845    ,  854.379     , 1332.0446    , 1150.2228    ,\n",
       "        822.2823    ,  456.8129    ,  468.6345    , 1051.9716    ,\n",
       "       1032.6239    ,  634.4602    , 1500.9448    ,  246.9505    ,\n",
       "        395.8625    , 1449.7151    , 1299.3983    ,  743.44976667,\n",
       "        955.285     ,  426.0201    , 2001.5023    , 1174.4806    ,\n",
       "        256.1136    ,  997.2593    , 2080.9033    , 1441.0741    ,\n",
       "        965.593     ,  701.0997    , 1302.9035    ,  291.6279    ,\n",
       "        415.274     ,  570.6532    , 1633.63426667, 1693.5733    ,\n",
       "        487.209     ,  243.1678    , 1423.6127    ,  678.5297    ,\n",
       "       2632.4479    ,  700.0528    , 1923.1411    ,  536.7269    ,\n",
       "       1451.81693333,  760.4203    , 1617.5422    ,  690.2638    ,\n",
       "        746.70386667,  452.07428571, 1583.85783333, 2871.494     ,\n",
       "        719.7062    , 1540.4007    , 1797.8554    ,  568.4804    ,\n",
       "       1167.593     , 1196.1791    ,  251.7786    , 1707.8805    ,\n",
       "        381.5058    , 1853.3929    ,  634.9145    ,  387.7311    ,\n",
       "       2206.381     ,  745.7918    , 1460.3646    , 1530.33706667,\n",
       "        544.3958    , 1008.7435    ,  574.8324    ,  910.79      ,\n",
       "        916.8432    , 1141.8261    ,  440.6654    , 1470.2388    ,\n",
       "        710.6692    , 1267.13      , 1710.5952    ,  263.5895    ,\n",
       "        735.8353    , 1251.5311    ,  867.28      ,  653.3536    ,\n",
       "       1024.5706    , 2375.74926667,  623.5022    ,  744.684     ,\n",
       "       1836.3894    ,  529.4914    , 1024.2501    , 1267.8824    ,\n",
       "        437.4723    , 2487.7539    ,  342.1424    , 1415.9857    ,\n",
       "        910.79      ,  558.0279    ,  994.2604    ,  520.8388    ,\n",
       "        815.203     ,  679.7946    ,  784.95723333, 1295.5178    ,\n",
       "        536.3324    ,  684.5067    , 1582.3133    , 1266.6133    ,\n",
       "        568.0982    , 1500.704     ,  992.9502    ,  358.482     ,\n",
       "        808.3888    , 1440.1651    ,  796.8914    ,  500.6767    ,\n",
       "       1883.57376667, 2361.50585   , 1789.0852    ,  377.2185    ,\n",
       "        901.0597    ,  316.7897    ,  566.41666667, 1329.9789    ,\n",
       "        804.3987    ,  831.8147    ,  331.6663    ,  341.8778    ,\n",
       "        606.5047    , 1470.2659    , 1955.8534    , 1361.4045    ,\n",
       "        863.1936    ,  795.8057    ,  397.39553333,  345.9674    ,\n",
       "        465.4409    ,  313.4083    , 1090.0216    , 1737.9347    ,\n",
       "        896.4735    ,  905.4002    ,  575.1813    ,  654.0997    ,\n",
       "       2224.0682    ,  651.9206    , 1340.1774    , 1177.5111    ,\n",
       "       1759.589     , 1205.1356    ,  335.6977    , 1717.003     ,\n",
       "        346.7977    , 2536.7824    ,  955.1953    , 1153.1656    ,\n",
       "       2379.80963333,  712.2374    ,  571.1422    ,  354.4026    ,\n",
       "       1063.98846667, 1729.0106    , 1142.8808    ,  616.56236667,\n",
       "       1604.3487    , 1726.4715    , 2093.5134    , 2610.5685    ,\n",
       "       1071.5988    , 2150.2829    , 1170.6447    , 2092.7262    ,\n",
       "        700.5742    , 1178.0505    ,  328.648     ,  733.9374    ,\n",
       "       1470.2388    ,  485.1514    , 2412.3379    , 1114.9728    ,\n",
       "        703.525     ,  290.9292    ,  834.8989    , 1194.7727    ,\n",
       "       1222.6422    , 1002.0592    ,  386.7103    ,  738.2097    ,\n",
       "        725.2668    ,  297.2658    , 1332.8061    ,  883.5404    ,\n",
       "       1050.007     ,  561.8574    , 1043.2065    , 1569.95916667,\n",
       "        615.5551    ,  459.3998    , 2098.2776    ,  714.7122    ,\n",
       "        481.4403    ,  580.9362    , 1647.8296    , 3266.6096    ,\n",
       "       1060.3431    ,  302.9489    , 2445.33      ,  253.6338    ,\n",
       "       1664.2878    ,  631.8955    ,  388.0853    ,  427.5037    ,\n",
       "       1503.4003    ,  383.0045    , 1019.9015    ,  860.4609    ,\n",
       "       1250.6       ,  638.9185    , 1478.3882    , 2313.11576667,\n",
       "        308.2507    , 1267.5349    , 1297.3728    , 1524.3294    ,\n",
       "        243.1678    ,  576.5936    , 1165.8313    , 1946.5819    ,\n",
       "       2662.4228    ,  709.3506    , 2735.56523333,  535.262     ,\n",
       "       1727.4588    ,  584.7792    , 2159.94938333,  655.9933    ,\n",
       "       1829.2929    , 1064.8693    ,  693.5336    ,  335.0701    ,\n",
       "        507.1864    , 1100.3988    , 1909.02026667, 1594.99      ,\n",
       "       1030.3388    , 1713.5912    , 1818.065     , 1243.7668    ,\n",
       "       1123.0433    ,  874.2203    , 2131.9329    , 1414.7933    ,\n",
       "        737.3532    , 1780.522     , 2090.9148    , 2008.8268    ,\n",
       "       2480.3103    ,  368.88      , 1005.2896    ,  426.1019    ,\n",
       "       1236.6817    , 2554.1666    , 2116.48646667,  989.4898    ,\n",
       "        450.6668    ,  734.5292    , 1411.9128    ,  673.6512    ,\n",
       "       1141.1697    , 1466.2585    , 1003.3841    , 1221.8837    ,\n",
       "        441.5954    , 1612.258     , 1809.3507    ,  609.4403    ,\n",
       "       1032.6836    , 1263.3424    , 1789.15456667, 1201.3508    ,\n",
       "        887.4988    ,  291.0991    , 1280.7583    ,  519.783     ,\n",
       "       1408.8985    , 1825.8599    , 1219.919     ,  280.9897    ,\n",
       "       1959.578     ,  860.1515    ,  712.1041    , 1221.15601429,\n",
       "       1534.45      , 1702.18963333, 1069.8801    ,  417.3508    ,\n",
       "       1863.0334    , 1829.2929    ,  541.587     ,  803.762     ,\n",
       "       1227.585     ,  743.7498    , 1226.4129    , 1019.0503    ,\n",
       "        897.022     , 2301.9115    , 1112.7299    , 1070.8429    ,\n",
       "       1016.5466    ,  803.956     , 1715.1743    , 1342.5068    ,\n",
       "       1478.06      ,  988.0026    , 1363.102     ,  893.7038    ,\n",
       "       1179.5965    ,  801.3578    , 1020.71148571, 1640.3565    ,\n",
       "       3082.17691667, 1304.1861    , 1955.6547    , 1123.7534    ,\n",
       "        403.2397    ,  282.6465    , 2490.7987    ,  452.4082    ,\n",
       "       1237.6642    ,  755.5       ,  327.993     , 2001.226     ,\n",
       "       2001.26      ,  874.0912    , 1098.6748    ,  859.437     ,\n",
       "       2217.4541    , 1270.4916    , 1371.2353    ,  766.22946667,\n",
       "       1559.3312    , 1438.3487    , 1577.8491    , 1106.4173    ,\n",
       "       1320.44      ,  694.6688    ,  501.062     , 1038.578     ,\n",
       "       1771.56093333, 1559.4511    , 1305.4954    , 1216.1749    ,\n",
       "        712.2374    ,  832.182     ,  699.5003    ,  981.8961    ,\n",
       "        831.1983    ,  881.4778    ,  536.8659    , 2465.1469    ,\n",
       "       1051.9716    ,  865.3693    ,  605.2191    , 1045.2454    ,\n",
       "        615.6079    , 1473.3339    ,  630.4369    , 1745.7211    ,\n",
       "        335.9135    , 1595.1009    ,  880.7798    , 2004.2728    ,\n",
       "       1148.3958    , 1526.8054    , 1200.4508    , 1017.6403    ,\n",
       "       2379.6173    ,  781.0435    , 1101.8055    ,  735.3947    ,\n",
       "       2124.2089    ,  586.5088    , 1023.9694    , 1169.6063    ,\n",
       "        415.4936    ,  469.3177    , 1031.6062    , 1846.1846    ,\n",
       "       1158.3865    , 4860.7855    ,  840.9604    ])"
      ]
     },
     "execution_count": 72,
     "metadata": {},
     "output_type": "execute_result"
    }
   ],
   "source": [
    "pred2"
   ]
  },
  {
   "cell_type": "code",
   "execution_count": 73,
   "id": "1119690a",
   "metadata": {},
   "outputs": [
    {
     "data": {
      "text/plain": [
       "87420.0613925336"
      ]
     },
     "execution_count": 73,
     "metadata": {},
     "output_type": "execute_result"
    }
   ],
   "source": [
    "mse=mean_squared_error(ytest,pred2)\n",
    "mse"
   ]
  },
  {
   "cell_type": "code",
   "execution_count": 74,
   "id": "b8b16799",
   "metadata": {},
   "outputs": [
    {
     "data": {
      "text/plain": [
       "173.96842470466447"
      ]
     },
     "execution_count": 74,
     "metadata": {},
     "output_type": "execute_result"
    }
   ],
   "source": [
    "mae=mean_absolute_error(ytest,pred2)\n",
    "mae"
   ]
  },
  {
   "cell_type": "code",
   "execution_count": 75,
   "id": "844b2b5f",
   "metadata": {},
   "outputs": [
    {
     "data": {
      "text/plain": [
       "0.8344179456263211"
      ]
     },
     "execution_count": 75,
     "metadata": {},
     "output_type": "execute_result"
    }
   ],
   "source": [
    "ran_score=r2_score(ytest,pred2)\n",
    "ran_score"
   ]
  },
  {
   "cell_type": "markdown",
   "id": "20db9258",
   "metadata": {},
   "source": [
    "# Decission Tree Classifier"
   ]
  },
  {
   "cell_type": "code",
   "execution_count": 76,
   "id": "34537118",
   "metadata": {},
   "outputs": [],
   "source": [
    "from sklearn.tree import DecisionTreeRegressor"
   ]
  },
  {
   "cell_type": "code",
   "execution_count": 77,
   "id": "0f04657c",
   "metadata": {},
   "outputs": [],
   "source": [
    "dtr=DecisionTreeRegressor()"
   ]
  },
  {
   "cell_type": "code",
   "execution_count": 78,
   "id": "bbbcf1b2",
   "metadata": {},
   "outputs": [
    {
     "data": {
      "text/html": [
       "<style>#sk-container-id-4 {color: black;background-color: white;}#sk-container-id-4 pre{padding: 0;}#sk-container-id-4 div.sk-toggleable {background-color: white;}#sk-container-id-4 label.sk-toggleable__label {cursor: pointer;display: block;width: 100%;margin-bottom: 0;padding: 0.3em;box-sizing: border-box;text-align: center;}#sk-container-id-4 label.sk-toggleable__label-arrow:before {content: \"▸\";float: left;margin-right: 0.25em;color: #696969;}#sk-container-id-4 label.sk-toggleable__label-arrow:hover:before {color: black;}#sk-container-id-4 div.sk-estimator:hover label.sk-toggleable__label-arrow:before {color: black;}#sk-container-id-4 div.sk-toggleable__content {max-height: 0;max-width: 0;overflow: hidden;text-align: left;background-color: #f0f8ff;}#sk-container-id-4 div.sk-toggleable__content pre {margin: 0.2em;color: black;border-radius: 0.25em;background-color: #f0f8ff;}#sk-container-id-4 input.sk-toggleable__control:checked~div.sk-toggleable__content {max-height: 200px;max-width: 100%;overflow: auto;}#sk-container-id-4 input.sk-toggleable__control:checked~label.sk-toggleable__label-arrow:before {content: \"▾\";}#sk-container-id-4 div.sk-estimator input.sk-toggleable__control:checked~label.sk-toggleable__label {background-color: #d4ebff;}#sk-container-id-4 div.sk-label input.sk-toggleable__control:checked~label.sk-toggleable__label {background-color: #d4ebff;}#sk-container-id-4 input.sk-hidden--visually {border: 0;clip: rect(1px 1px 1px 1px);clip: rect(1px, 1px, 1px, 1px);height: 1px;margin: -1px;overflow: hidden;padding: 0;position: absolute;width: 1px;}#sk-container-id-4 div.sk-estimator {font-family: monospace;background-color: #f0f8ff;border: 1px dotted black;border-radius: 0.25em;box-sizing: border-box;margin-bottom: 0.5em;}#sk-container-id-4 div.sk-estimator:hover {background-color: #d4ebff;}#sk-container-id-4 div.sk-parallel-item::after {content: \"\";width: 100%;border-bottom: 1px solid gray;flex-grow: 1;}#sk-container-id-4 div.sk-label:hover label.sk-toggleable__label {background-color: #d4ebff;}#sk-container-id-4 div.sk-serial::before {content: \"\";position: absolute;border-left: 1px solid gray;box-sizing: border-box;top: 0;bottom: 0;left: 50%;z-index: 0;}#sk-container-id-4 div.sk-serial {display: flex;flex-direction: column;align-items: center;background-color: white;padding-right: 0.2em;padding-left: 0.2em;position: relative;}#sk-container-id-4 div.sk-item {position: relative;z-index: 1;}#sk-container-id-4 div.sk-parallel {display: flex;align-items: stretch;justify-content: center;background-color: white;position: relative;}#sk-container-id-4 div.sk-item::before, #sk-container-id-4 div.sk-parallel-item::before {content: \"\";position: absolute;border-left: 1px solid gray;box-sizing: border-box;top: 0;bottom: 0;left: 50%;z-index: -1;}#sk-container-id-4 div.sk-parallel-item {display: flex;flex-direction: column;z-index: 1;position: relative;background-color: white;}#sk-container-id-4 div.sk-parallel-item:first-child::after {align-self: flex-end;width: 50%;}#sk-container-id-4 div.sk-parallel-item:last-child::after {align-self: flex-start;width: 50%;}#sk-container-id-4 div.sk-parallel-item:only-child::after {width: 0;}#sk-container-id-4 div.sk-dashed-wrapped {border: 1px dashed gray;margin: 0 0.4em 0.5em 0.4em;box-sizing: border-box;padding-bottom: 0.4em;background-color: white;}#sk-container-id-4 div.sk-label label {font-family: monospace;font-weight: bold;display: inline-block;line-height: 1.2em;}#sk-container-id-4 div.sk-label-container {text-align: center;}#sk-container-id-4 div.sk-container {/* jupyter's `normalize.less` sets `[hidden] { display: none; }` but bootstrap.min.css set `[hidden] { display: none !important; }` so we also need the `!important` here to be able to override the default hidden behavior on the sphinx rendered scikit-learn.org. See: https://github.com/scikit-learn/scikit-learn/issues/21755 */display: inline-block !important;position: relative;}#sk-container-id-4 div.sk-text-repr-fallback {display: none;}</style><div id=\"sk-container-id-4\" class=\"sk-top-container\"><div class=\"sk-text-repr-fallback\"><pre>DecisionTreeRegressor()</pre><b>In a Jupyter environment, please rerun this cell to show the HTML representation or trust the notebook. <br />On GitHub, the HTML representation is unable to render, please try loading this page with nbviewer.org.</b></div><div class=\"sk-container\" hidden><div class=\"sk-item\"><div class=\"sk-estimator sk-toggleable\"><input class=\"sk-toggleable__control sk-hidden--visually\" id=\"sk-estimator-id-4\" type=\"checkbox\" checked><label for=\"sk-estimator-id-4\" class=\"sk-toggleable__label sk-toggleable__label-arrow\">DecisionTreeRegressor</label><div class=\"sk-toggleable__content\"><pre>DecisionTreeRegressor()</pre></div></div></div></div></div>"
      ],
      "text/plain": [
       "DecisionTreeRegressor()"
      ]
     },
     "execution_count": 78,
     "metadata": {},
     "output_type": "execute_result"
    }
   ],
   "source": [
    "dtr.fit(xtrain,ytrain)"
   ]
  },
  {
   "cell_type": "code",
   "execution_count": 79,
   "id": "7daac29d",
   "metadata": {},
   "outputs": [
    {
     "data": {
      "text/plain": [
       "array([ 985.  , 1775.  , 1018.  , 1513.  , 1179.  ,  846.5 , 1488.99,\n",
       "       1049.9 ,  799.  ,  488.99,  485.  , 1027.74, 1124.  ,  729.9 ,\n",
       "       1488.99,  245.  ,  400.  , 1268.  , 1144.  ,  735.  ,  599.9 ,\n",
       "        397.  , 2094.48, 1265.  ,  279.  ,  749.  , 1899.  , 1539.  ,\n",
       "       1116.99,  629.  , 1699.  ,  229.  ,  398.49,  695.  , 1699.  ,\n",
       "       1379.  ,  384.  ,  229.  , 1492.8 ,  629.  , 2449.  ,  912.5 ,\n",
       "       1499.  ,  558.6 , 1335.  ,  779.  , 1403.  ,  509.  ,  699.  ,\n",
       "        479.  , 1179.  , 3149.  ,  659.01, 2749.99, 1798.  ,  549.99,\n",
       "        860.  , 1099.  ,  249.  , 1900.  ,  390.  , 1499.  ,  589.52,\n",
       "        399.  , 2449.  ,  742.  , 1214.  , 1379.  ,  549.99,  979.  ,\n",
       "        449.  ,  899.  ,  945.  , 1142.8 ,  399.  , 1775.  ,  959.  ,\n",
       "       1299.  , 1799.  ,  209.  ,  789.  , 1179.  ,  726.  ,  499.  ,\n",
       "       1031.  , 2813.75,  695.  ,  859.  ,  909.  ,  614.  , 1168.  ,\n",
       "       1390.  ,  395.  , 2858.  ,  265.  , 1029.  ,  899.  ,  545.67,\n",
       "       1189.  ,  489.9 ,  859.  ,  629.  ,  779.  , 1294.  ,  544.15,\n",
       "        689.  , 1943.  , 1149.  ,  589.  ,  935.  ,  959.  ,  398.99,\n",
       "        832.  , 1363.  ,  829.  ,  499.  , 1899.  , 1855.  , 2299.  ,\n",
       "        398.99,  869.01,  209.  ,  498.  , 1049.  ,  797.41,  795.  ,\n",
       "        348.  ,  229.  ,  603.  , 1650.  , 1799.  , 1390.  ,  829.  ,\n",
       "        849.9 ,  389.  ,  398.99,  449.  ,  297.  , 1099.  , 1948.99,\n",
       "        789.01,  879.  ,  519.  ,  655.  , 1279.  ,  638.  ,  935.  ,\n",
       "        690.  , 1499.  , 1199.  ,  304.  , 2299.  ,  304.  , 2299.  ,\n",
       "        819.  , 1135.  , 1865.  ,  764.  ,  597.57,  274.99, 1099.99,\n",
       "       1950.  ,  985.  ,  540.  , 1799.  , 1649.  ,  998.  , 3055.  ,\n",
       "       1064.  , 2509.  ,  659.  , 1669.  ,  764.  , 1285.  ,  348.  ,\n",
       "        797.41, 1775.  ,  447.  , 1860.99, 1350.  ,  699.  ,  289.  ,\n",
       "        846.  ,  879.  ,  749.  ,  970.9 ,  399.  ,  705.5 ,  690.  ,\n",
       "        259.  , 1488.99, 1020.  , 1018.99,  499.  , 1116.99, 1537.39,\n",
       "        618.99,  459.  , 1949.  ,  489.9 ,  414.9 ,  589.  , 1799.  ,\n",
       "       3149.  ,  869.  ,  265.  , 2509.  ,  229.  , 1999.  ,  705.5 ,\n",
       "        478.89,  443.9 , 1669.  ,  348.  , 1144.  ,  833.01, 1269.  ,\n",
       "        589.52, 1214.  , 1899.  ,  389.  ,  830.  ,  850.66, 2198.19,\n",
       "        229.  ,  597.57, 1729.  , 1798.  , 2505.02,  705.5 , 2799.  ,\n",
       "        609.  , 1673.  ,  769.99, 2212.21,  675.  , 1950.  ,  770.  ,\n",
       "        581.9 ,  299.  ,  579.  , 1258.  , 1900.  , 1149.  , 1027.74,\n",
       "       1870.  , 1649.  ,  899.  ,  979.  ,  769.  , 1495.  , 1285.  ,\n",
       "        859.  , 1899.  , 2419.  , 1900.  , 2858.  ,  369.  ,  979.  ,\n",
       "        443.9 ,  979.  , 2499.  , 2449.  ,  898.94,  395.  ,  589.  ,\n",
       "       1875.  ,  603.  , 1142.8 , 1499.  ,  979.  ,  879.  ,  395.  ,\n",
       "       1591.  , 1537.39,  586.6 ,  860.  , 1300.  , 1403.  , 1348.48,\n",
       "        729.  ,  288.9 , 1465.  ,  544.15, 1799.  , 1029.  ,  869.  ,\n",
       "        259.  , 1949.  ,  739.  ,  690.  , 1650.  , 1499.  , 1899.  ,\n",
       "        879.  ,  389.  , 1369.  , 1950.  ,  599.  ,  899.  , 1169.  ,\n",
       "        685.  , 1169.  , 1018.  ,  819.  , 1855.  , 1099.99, 1199.  ,\n",
       "        860.  ,  689.  , 1403.  , 1799.  , 1672.  ,  869.01, 1214.  ,\n",
       "        767.8 , 1249.  ,  649.  , 1113.5 , 1650.  , 3659.4 ,  699.  ,\n",
       "       2029.  ,  899.  ,  375.  ,  265.  , 2680.  ,  498.9 , 1084.  ,\n",
       "        679.  ,  309.  , 1859.  , 2339.  ,  819.  ,  911.  ,  638.8 ,\n",
       "       2299.  , 1348.48, 1149.  ,  729.9 , 1820.  , 1492.8 , 2299.  ,\n",
       "       1181.27, 1750.  ,  849.  ,  468.  , 1399.  , 1363.  , 1650.  ,\n",
       "       1135.  , 1249.  ,  764.  ,  767.8 ,  742.  ,  896.  , 1119.  ,\n",
       "        846.5 ,  439.  , 1279.  , 1027.74,  879.  ,  485.  ,  819.  ,\n",
       "        539.  , 1379.  ,  498.  , 1680.  ,  304.  , 2198.19,  870.  ,\n",
       "       2325.  , 1049.  , 1339.69, 1142.8 , 1018.99, 2299.  ,  713.07,\n",
       "        945.  , 1099.  , 2449.  ,  549.  , 1027.74, 1219.  ,  395.  ,\n",
       "        499.  ,  860.  , 1598.  , 1219.  , 5499.  ,  749.  ])"
      ]
     },
     "execution_count": 79,
     "metadata": {},
     "output_type": "execute_result"
    }
   ],
   "source": [
    "pred3=dtr.predict(xtest)\n",
    "pred3"
   ]
  },
  {
   "cell_type": "code",
   "execution_count": 80,
   "id": "99d31137",
   "metadata": {},
   "outputs": [
    {
     "data": {
      "text/plain": [
       "138270.31238158568"
      ]
     },
     "execution_count": 80,
     "metadata": {},
     "output_type": "execute_result"
    }
   ],
   "source": [
    "mse=mean_squared_error(ytest,pred3)\n",
    "mse"
   ]
  },
  {
   "cell_type": "code",
   "execution_count": 81,
   "id": "c7cb3377",
   "metadata": {},
   "outputs": [
    {
     "data": {
      "text/plain": [
       "217.11156010230178"
      ]
     },
     "execution_count": 81,
     "metadata": {},
     "output_type": "execute_result"
    }
   ],
   "source": [
    "mae=mean_absolute_error(ytest,pred3)\n",
    "mae"
   ]
  },
  {
   "cell_type": "code",
   "execution_count": 82,
   "id": "5f352464",
   "metadata": {},
   "outputs": [
    {
     "data": {
      "text/plain": [
       "0.7381026503718662"
      ]
     },
     "execution_count": 82,
     "metadata": {},
     "output_type": "execute_result"
    }
   ],
   "source": [
    "dct_score=r2_score(ytest,pred3)\n",
    "dct_score"
   ]
  },
  {
   "cell_type": "markdown",
   "id": "0e4ca525",
   "metadata": {},
   "source": [
    "# Support Vector Regression"
   ]
  },
  {
   "cell_type": "code",
   "execution_count": 83,
   "id": "1593331c",
   "metadata": {},
   "outputs": [],
   "source": [
    "#from sklearn.svm import SVR\n",
    "#svr = SVR()\n"
   ]
  },
  {
   "cell_type": "code",
   "execution_count": 84,
   "id": "21afc0a7",
   "metadata": {},
   "outputs": [],
   "source": [
    "#svr.fit(xtrain,ytrain)"
   ]
  },
  {
   "cell_type": "code",
   "execution_count": 85,
   "id": "902163cf",
   "metadata": {},
   "outputs": [],
   "source": [
    "#pred4=svr.predict(xtest)\n",
    "#pred4"
   ]
  },
  {
   "cell_type": "code",
   "execution_count": 86,
   "id": "d3858385",
   "metadata": {},
   "outputs": [],
   "source": [
    "\n",
    "#mse=mean_squared_error(ytest,pred4)\n",
    "#mse"
   ]
  },
  {
   "cell_type": "code",
   "execution_count": 87,
   "id": "28dde755",
   "metadata": {},
   "outputs": [],
   "source": [
    "#mae=mean_squared_error(ytest,pred4)\n",
    "#mae"
   ]
  },
  {
   "cell_type": "code",
   "execution_count": 88,
   "id": "eba7d41f",
   "metadata": {},
   "outputs": [],
   "source": [
    "#svr_score=r2_score(ytest,pred4)\n",
    "#svr_score"
   ]
  },
  {
   "cell_type": "markdown",
   "id": "98da9297",
   "metadata": {},
   "source": [
    "# Lasso Regression"
   ]
  },
  {
   "cell_type": "code",
   "execution_count": 89,
   "id": "745fd9d2",
   "metadata": {},
   "outputs": [],
   "source": [
    "from sklearn import linear_model\n",
    "lass = linear_model.Lasso(alpha=0.1)"
   ]
  },
  {
   "cell_type": "code",
   "execution_count": 90,
   "id": "42f9b4ee",
   "metadata": {},
   "outputs": [
    {
     "data": {
      "text/html": [
       "<style>#sk-container-id-5 {color: black;background-color: white;}#sk-container-id-5 pre{padding: 0;}#sk-container-id-5 div.sk-toggleable {background-color: white;}#sk-container-id-5 label.sk-toggleable__label {cursor: pointer;display: block;width: 100%;margin-bottom: 0;padding: 0.3em;box-sizing: border-box;text-align: center;}#sk-container-id-5 label.sk-toggleable__label-arrow:before {content: \"▸\";float: left;margin-right: 0.25em;color: #696969;}#sk-container-id-5 label.sk-toggleable__label-arrow:hover:before {color: black;}#sk-container-id-5 div.sk-estimator:hover label.sk-toggleable__label-arrow:before {color: black;}#sk-container-id-5 div.sk-toggleable__content {max-height: 0;max-width: 0;overflow: hidden;text-align: left;background-color: #f0f8ff;}#sk-container-id-5 div.sk-toggleable__content pre {margin: 0.2em;color: black;border-radius: 0.25em;background-color: #f0f8ff;}#sk-container-id-5 input.sk-toggleable__control:checked~div.sk-toggleable__content {max-height: 200px;max-width: 100%;overflow: auto;}#sk-container-id-5 input.sk-toggleable__control:checked~label.sk-toggleable__label-arrow:before {content: \"▾\";}#sk-container-id-5 div.sk-estimator input.sk-toggleable__control:checked~label.sk-toggleable__label {background-color: #d4ebff;}#sk-container-id-5 div.sk-label input.sk-toggleable__control:checked~label.sk-toggleable__label {background-color: #d4ebff;}#sk-container-id-5 input.sk-hidden--visually {border: 0;clip: rect(1px 1px 1px 1px);clip: rect(1px, 1px, 1px, 1px);height: 1px;margin: -1px;overflow: hidden;padding: 0;position: absolute;width: 1px;}#sk-container-id-5 div.sk-estimator {font-family: monospace;background-color: #f0f8ff;border: 1px dotted black;border-radius: 0.25em;box-sizing: border-box;margin-bottom: 0.5em;}#sk-container-id-5 div.sk-estimator:hover {background-color: #d4ebff;}#sk-container-id-5 div.sk-parallel-item::after {content: \"\";width: 100%;border-bottom: 1px solid gray;flex-grow: 1;}#sk-container-id-5 div.sk-label:hover label.sk-toggleable__label {background-color: #d4ebff;}#sk-container-id-5 div.sk-serial::before {content: \"\";position: absolute;border-left: 1px solid gray;box-sizing: border-box;top: 0;bottom: 0;left: 50%;z-index: 0;}#sk-container-id-5 div.sk-serial {display: flex;flex-direction: column;align-items: center;background-color: white;padding-right: 0.2em;padding-left: 0.2em;position: relative;}#sk-container-id-5 div.sk-item {position: relative;z-index: 1;}#sk-container-id-5 div.sk-parallel {display: flex;align-items: stretch;justify-content: center;background-color: white;position: relative;}#sk-container-id-5 div.sk-item::before, #sk-container-id-5 div.sk-parallel-item::before {content: \"\";position: absolute;border-left: 1px solid gray;box-sizing: border-box;top: 0;bottom: 0;left: 50%;z-index: -1;}#sk-container-id-5 div.sk-parallel-item {display: flex;flex-direction: column;z-index: 1;position: relative;background-color: white;}#sk-container-id-5 div.sk-parallel-item:first-child::after {align-self: flex-end;width: 50%;}#sk-container-id-5 div.sk-parallel-item:last-child::after {align-self: flex-start;width: 50%;}#sk-container-id-5 div.sk-parallel-item:only-child::after {width: 0;}#sk-container-id-5 div.sk-dashed-wrapped {border: 1px dashed gray;margin: 0 0.4em 0.5em 0.4em;box-sizing: border-box;padding-bottom: 0.4em;background-color: white;}#sk-container-id-5 div.sk-label label {font-family: monospace;font-weight: bold;display: inline-block;line-height: 1.2em;}#sk-container-id-5 div.sk-label-container {text-align: center;}#sk-container-id-5 div.sk-container {/* jupyter's `normalize.less` sets `[hidden] { display: none; }` but bootstrap.min.css set `[hidden] { display: none !important; }` so we also need the `!important` here to be able to override the default hidden behavior on the sphinx rendered scikit-learn.org. See: https://github.com/scikit-learn/scikit-learn/issues/21755 */display: inline-block !important;position: relative;}#sk-container-id-5 div.sk-text-repr-fallback {display: none;}</style><div id=\"sk-container-id-5\" class=\"sk-top-container\"><div class=\"sk-text-repr-fallback\"><pre>Lasso(alpha=0.1)</pre><b>In a Jupyter environment, please rerun this cell to show the HTML representation or trust the notebook. <br />On GitHub, the HTML representation is unable to render, please try loading this page with nbviewer.org.</b></div><div class=\"sk-container\" hidden><div class=\"sk-item\"><div class=\"sk-estimator sk-toggleable\"><input class=\"sk-toggleable__control sk-hidden--visually\" id=\"sk-estimator-id-5\" type=\"checkbox\" checked><label for=\"sk-estimator-id-5\" class=\"sk-toggleable__label sk-toggleable__label-arrow\">Lasso</label><div class=\"sk-toggleable__content\"><pre>Lasso(alpha=0.1)</pre></div></div></div></div></div>"
      ],
      "text/plain": [
       "Lasso(alpha=0.1)"
      ]
     },
     "execution_count": 90,
     "metadata": {},
     "output_type": "execute_result"
    }
   ],
   "source": [
    "lass.fit(xtrain,ytrain)"
   ]
  },
  {
   "cell_type": "code",
   "execution_count": 91,
   "id": "41532b9a",
   "metadata": {},
   "outputs": [],
   "source": [
    "pred5=lass.predict(xtest)"
   ]
  },
  {
   "cell_type": "code",
   "execution_count": 92,
   "id": "e9420d11",
   "metadata": {},
   "outputs": [
    {
     "data": {
      "text/plain": [
       "array([ 1.11488043e+03,  1.48969890e+03,  1.24212089e+03,  1.24718523e+03,\n",
       "        1.84601488e+03,  9.41618624e+02,  1.04790574e+03,  1.25945724e+03,\n",
       "        8.01578891e+02,  1.91342389e+02,  1.19053902e+02,  1.02095408e+03,\n",
       "        1.03652170e+03,  6.00858549e+02,  1.22916686e+03,  4.15264300e+02,\n",
       "        2.34831909e+02,  1.23920105e+03,  9.73616584e+02,  1.30929871e+03,\n",
       "        6.70812074e+02,  5.33866126e+02,  1.78079812e+03,  1.13414375e+03,\n",
       "        3.83931507e+02,  1.08801041e+03,  1.72218644e+03,  8.56749151e+02,\n",
       "        9.33609644e+02,  1.30713449e+03,  1.31113280e+03,  4.13762278e+02,\n",
       "        1.34497503e+02,  7.53689361e+02,  1.99687975e+03,  1.98865084e+03,\n",
       "        1.70410504e+02,  4.84242440e+02,  1.78064879e+03,  1.16696232e+03,\n",
       "        2.13985237e+03,  8.15056353e+02,  1.95881009e+03,  5.07567227e+02,\n",
       "        1.35967531e+03,  7.46966462e+02,  2.04340893e+03,  6.85284644e+02,\n",
       "        1.33052580e+03,  1.00590265e+03,  1.90883784e+03,  3.20774298e+03,\n",
       "        1.14801402e+03,  2.18081641e+03,  1.94268706e+03,  4.34658226e+02,\n",
       "        1.06408557e+03,  1.15643352e+03,  4.53843392e+02,  1.74939845e+03,\n",
       "        8.30941041e+01,  2.12027289e+03,  8.66088391e+02,  2.10721277e+02,\n",
       "        1.85197573e+03,  6.71212935e+02,  1.14314304e+03,  1.32277465e+03,\n",
       "        3.71699428e+02,  7.65129910e+02,  7.73338640e+02,  1.41056478e+03,\n",
       "        1.24463055e+03,  1.15297217e+03,  2.94329846e+02,  1.25132122e+03,\n",
       "        4.12912140e+02,  1.27486720e+03,  1.22415800e+03, -2.81713363e+02,\n",
       "        1.10429997e+03,  1.09269095e+03,  8.35961061e+02,  8.22743253e+02,\n",
       "        1.34718033e+03,  1.97218486e+03,  7.37665824e+02,  1.13203716e+03,\n",
       "        1.53859045e+03,  3.87613960e+02,  8.79480685e+02,  1.19407478e+03,\n",
       "        1.49725655e+02,  2.00889117e+03,  7.67624239e+02,  1.80794420e+03,\n",
       "        1.41056478e+03,  4.15424792e+02,  9.35470214e+02,  6.42160407e+02,\n",
       "        9.26180396e+02,  1.04456653e+03,  7.92517185e+02,  1.94375512e+03,\n",
       "        7.36095199e+02,  1.00344451e+03,  1.41878914e+03,  1.47802017e+03,\n",
       "        3.79969565e+02,  1.56059323e+03,  1.10401191e+03,  7.12335887e+02,\n",
       "        1.47297377e+03,  1.62984170e+03,  6.99257626e+02,  5.79706574e+02,\n",
       "        1.91950563e+03,  2.35808450e+03,  1.90409439e+03,  4.16155002e+02,\n",
       "        1.08809154e+03,  5.33515788e+00,  5.81715229e+02,  1.29941372e+03,\n",
       "        9.16559353e+02,  8.22931183e+02,  3.43901911e+02,  7.59142296e+02,\n",
       "        2.62689130e+02,  1.28944004e+03,  1.98789976e+03,  1.24199757e+03,\n",
       "        1.09293666e+03,  1.16023419e+03,  7.67732365e+02,  7.50408138e+02,\n",
       "        5.69538947e+02,  5.07980039e+02,  8.77879928e+02,  1.98808677e+03,\n",
       "        1.07018572e+03,  1.09809536e+03,  3.96309926e+02,  7.75061322e+02,\n",
       "        5.67643651e+03,  7.68248154e+02,  1.46052386e+03,  1.16159308e+03,\n",
       "        2.05737168e+03,  1.13187021e+03,  7.54238129e+02,  1.35173612e+03,\n",
       "        8.53861143e+02,  2.00096725e+03,  1.02795124e+03,  1.69960908e+03,\n",
       "        2.63927368e+03,  7.44090300e+02,  4.42986463e+02,  3.45530181e+02,\n",
       "        8.22860611e+02,  1.23221425e+03,  1.08380845e+03,  7.58865074e+02,\n",
       "        1.56186898e+03,  1.31686149e+03,  1.84780667e+03,  2.44521496e+03,\n",
       "        1.29041296e+03,  1.97772156e+03,  1.50299853e+03,  1.67881636e+03,\n",
       "        8.86034538e+02,  7.92564174e+02,  4.86105044e+02,  9.01413828e+02,\n",
       "        1.25132122e+03,  5.99247818e+02,  1.57371609e+03,  9.82564209e+02,\n",
       "        8.04495522e+02,  1.61651332e+02,  8.99208533e+02,  1.27011252e+03,\n",
       "        1.02953664e+03,  1.13167317e+03,  2.29864689e+02,  7.65943206e+02,\n",
       "        8.93632195e+02,  2.39978909e+02,  1.42363324e+03,  9.03691610e+02,\n",
       "        1.19046530e+03,  4.07935340e+02,  1.06524468e+03,  1.75178007e+03,\n",
       "        9.45912102e+02,  7.06385451e+02,  1.76902047e+03,  6.43473425e+02,\n",
       "        5.95205686e+02,  1.04126818e+03,  6.69514164e+02,  3.29090786e+03,\n",
       "        1.23571329e+03,  7.49526822e+02,  2.06648017e+03,  6.40956829e+02,\n",
       "        1.11782440e+03,  7.59288522e+02,  2.79009143e+02,  5.19918454e+02,\n",
       "        9.85869649e+02,  4.42692207e+02,  1.01806074e+03,  9.83514538e+02,\n",
       "        1.29061649e+03,  8.87895064e+02,  1.40799430e+03,  2.34874188e+03,\n",
       "        8.70477830e+01,  1.17460995e+03,  1.29420892e+03,  1.52392542e+03,\n",
       "        4.84242440e+02,  4.10218733e+02,  1.42470474e+03,  2.10726166e+03,\n",
       "        2.05406373e+03,  6.99921629e+02,  3.23221472e+03,  6.94621446e+02,\n",
       "        1.69861366e+03,  4.98372088e+02,  1.83973725e+03,  8.95949181e+02,\n",
       "        1.32500381e+03,  1.16591009e+03,  6.62012336e+02,  2.61945744e+02,\n",
       "        6.88397374e+02,  1.16401364e+03,  1.99307151e+03,  1.09235689e+03,\n",
       "        1.10256688e+03,  1.32322312e+03,  2.04570246e+03,  1.16496693e+03,\n",
       "        1.15908616e+03,  1.17859025e+03,  1.95843972e+03,  1.71161597e+03,\n",
       "        9.14746781e+02,  1.48861428e+03,  1.81517835e+03,  1.94255208e+03,\n",
       "        2.09387040e+03,  4.65846380e+02,  1.02142582e+03,  1.94864715e+02,\n",
       "        1.20013685e+03,  2.13099756e+03,  2.01212697e+03,  7.24594375e+02,\n",
       "        7.73276380e+01,  1.09009250e+03,  1.03886350e+03,  6.04370336e+02,\n",
       "        1.15341552e+03,  1.40463659e+03,  9.12406047e+02,  1.18449029e+03,\n",
       "        1.56077731e+02,  1.75729103e+03,  1.86555649e+03,  5.05612903e+02,\n",
       "        1.36425137e+03,  1.04659165e+03,  1.99090065e+03,  9.33407844e+02,\n",
       "        1.14116677e+03,  1.91583096e+02,  1.14841404e+03,  4.45320522e+02,\n",
       "        8.61701760e+02,  1.82521320e+03,  1.15704441e+03,  1.66757471e+02,\n",
       "        1.72831612e+03,  8.48215513e+02,  9.68022090e+02,  1.20602970e+03,\n",
       "        1.94280704e+03,  1.06042477e+03,  9.81978058e+02,  2.80029490e+02,\n",
       "        1.23425056e+03,  1.32500381e+03,  5.17157262e+02,  5.26235574e+02,\n",
       "        1.18370310e+03,  7.42938227e+02,  1.11589232e+03,  1.18791955e+03,\n",
       "        1.08503314e+03,  2.21833850e+03,  1.02044120e+03,  1.18342970e+03,\n",
       "        1.13044128e+03,  1.33206397e+03,  2.05466199e+03,  1.35894214e+03,\n",
       "        1.22671206e+03,  1.03377762e+03,  1.13727471e+03,  1.50413630e+03,\n",
       "        1.25967183e+03,  7.15218820e+02,  5.90157393e+02,  1.53230111e+03,\n",
       "        3.10515919e+03,  1.57281218e+03,  1.81057069e+03,  1.23709013e+03,\n",
       "        1.14162734e+03,  6.47512011e+02,  2.11578697e+03,  7.45850043e+02,\n",
       "        1.48711857e+03,  9.64035661e+02,  7.48843203e+02,  2.07733784e+03,\n",
       "        1.40352085e+03,  9.60510725e+02,  1.29526821e+03,  1.37089740e+03,\n",
       "        1.39944431e+03,  1.06536260e+03,  1.22081321e+03,  6.30897828e+02,\n",
       "        1.25351793e+03,  1.87782029e+03,  1.27915859e+03,  1.43896272e+03,\n",
       "        1.54592337e+03,  5.91211314e+02,  6.49035334e+02,  1.37777218e+03,\n",
       "        1.23984889e+03,  1.24121095e+03,  1.37520104e+03,  1.26726952e+03,\n",
       "        7.44090300e+02,  1.37927339e+03,  6.20955524e+02,  1.05627448e+03,\n",
       "        8.42124777e+02,  9.96755897e+02,  6.99385278e+02,  3.51692373e+03,\n",
       "        1.02089075e+03,  9.62500835e+02,  8.45863281e+02,  1.04754759e+03,\n",
       "        1.03586641e+03,  1.33095260e+03,  6.27233320e+02,  1.57013305e+03,\n",
       "        8.78688856e+02,  1.41836162e+03,  1.03795773e+03,  2.12906682e+03,\n",
       "        1.28126057e+03,  1.55888797e+03,  1.15683435e+03,  1.26368399e+03,\n",
       "        2.06534617e+03,  9.87486764e+02,  9.26928599e+02,  9.50093178e+02,\n",
       "        1.90915863e+03,  1.06958289e+03,  1.13169254e+03,  1.13402259e+03,\n",
       "        4.38157272e+01,  5.86677903e+02,  1.19801167e+03,  1.82239472e+03,\n",
       "        9.76453851e+02,  3.17029244e+03,  9.51575005e+02])"
      ]
     },
     "execution_count": 92,
     "metadata": {},
     "output_type": "execute_result"
    }
   ],
   "source": [
    "pred5"
   ]
  },
  {
   "cell_type": "code",
   "execution_count": 93,
   "id": "cbb0a31a",
   "metadata": {},
   "outputs": [
    {
     "data": {
      "text/plain": [
       "0.6540719557422165"
      ]
     },
     "execution_count": 93,
     "metadata": {},
     "output_type": "execute_result"
    }
   ],
   "source": [
    "lass_score=r2_score(ytest,pred5)\n",
    "lass_score"
   ]
  },
  {
   "cell_type": "markdown",
   "id": "742eb774",
   "metadata": {},
   "source": [
    "# Gaussian Regression"
   ]
  },
  {
   "cell_type": "code",
   "execution_count": 94,
   "id": "46b3c295",
   "metadata": {},
   "outputs": [],
   "source": [
    "#from sklearn.datasets import make_friedman2\n",
    "#from sklearn.gaussian_process import GaussianProcessRegressor"
   ]
  },
  {
   "cell_type": "code",
   "execution_count": 95,
   "id": "dab25e36",
   "metadata": {},
   "outputs": [],
   "source": [
    "#gau=GaussianProcessRegressor()"
   ]
  },
  {
   "cell_type": "code",
   "execution_count": 96,
   "id": "22eb6b10",
   "metadata": {},
   "outputs": [],
   "source": [
    "#gau.fit(xtrain,ytrain)"
   ]
  },
  {
   "cell_type": "code",
   "execution_count": 97,
   "id": "b84b6683",
   "metadata": {},
   "outputs": [],
   "source": [
    "#pred6=gau.predict(xtest)\n",
    "#pred6"
   ]
  },
  {
   "cell_type": "code",
   "execution_count": 98,
   "id": "e9c844ce",
   "metadata": {},
   "outputs": [],
   "source": [
    "#gass_score=r2_score(ytest,pred6)\n",
    "#gass_score"
   ]
  },
  {
   "cell_type": "code",
   "execution_count": 99,
   "id": "85358046",
   "metadata": {},
   "outputs": [
    {
     "data": {
      "text/html": [
       "<div>\n",
       "<style scoped>\n",
       "    .dataframe tbody tr th:only-of-type {\n",
       "        vertical-align: middle;\n",
       "    }\n",
       "\n",
       "    .dataframe tbody tr th {\n",
       "        vertical-align: top;\n",
       "    }\n",
       "\n",
       "    .dataframe thead th {\n",
       "        text-align: right;\n",
       "    }\n",
       "</style>\n",
       "<table border=\"1\" class=\"dataframe\">\n",
       "  <thead>\n",
       "    <tr style=\"text-align: right;\">\n",
       "      <th></th>\n",
       "      <th>Algorithm Name</th>\n",
       "      <th>Accuracy_Score</th>\n",
       "    </tr>\n",
       "  </thead>\n",
       "  <tbody>\n",
       "    <tr>\n",
       "      <th>0</th>\n",
       "      <td>Linear Regression</td>\n",
       "      <td>0.653994</td>\n",
       "    </tr>\n",
       "    <tr>\n",
       "      <th>1</th>\n",
       "      <td>KNN Classifier</td>\n",
       "      <td>0.730732</td>\n",
       "    </tr>\n",
       "    <tr>\n",
       "      <th>2</th>\n",
       "      <td>RandomForest Classifier</td>\n",
       "      <td>0.834418</td>\n",
       "    </tr>\n",
       "    <tr>\n",
       "      <th>3</th>\n",
       "      <td>DecisionTree Classifier</td>\n",
       "      <td>0.738103</td>\n",
       "    </tr>\n",
       "    <tr>\n",
       "      <th>4</th>\n",
       "      <td>Lasso Regression</td>\n",
       "      <td>0.654072</td>\n",
       "    </tr>\n",
       "  </tbody>\n",
       "</table>\n",
       "</div>"
      ],
      "text/plain": [
       "            Algorithm Name  Accuracy_Score\n",
       "0        Linear Regression        0.653994\n",
       "1           KNN Classifier        0.730732\n",
       "2  RandomForest Classifier        0.834418\n",
       "3  DecisionTree Classifier        0.738103\n",
       "4         Lasso Regression        0.654072"
      ]
     },
     "execution_count": 99,
     "metadata": {},
     "output_type": "execute_result"
    }
   ],
   "source": [
    "data_as={\"Algorithm Name\":['Linear Regression','KNN Classifier','RandomForest Classifier','DecisionTree Classifier','Lasso Regression'],\"Accuracy_Score\":[lr_score,knn_score,ran_score,dct_score,lass_score]}\n",
    "df_after_scaling=pd.DataFrame(data=data_as)\n",
    "df_after_scaling"
   ]
  },
  {
   "cell_type": "code",
   "execution_count": 101,
   "id": "38118861",
   "metadata": {},
   "outputs": [
    {
     "data": {
      "image/png": "[encoded data removed]",
      "text/plain": [
       "<Figure size 432x288 with 1 Axes>"
      ]
     },
     "metadata": {},
     "output_type": "display_data"
    }
   ],
   "source": [
    "ax=sns.barplot(data=df_after_scaling,y='Algorithm Name',x='Accuracy_Score')\n",
    "ax.set_xlabel(\"Accuracy_Score\")\n",
    "ax.set_ylabel(\"Algorithm Name\")\n",
    "ax.set_title(\"Accuracy Score Comparision \")\n",
    "ax.bar_label(ax.containers[0])\n",
    "plt.show()"
   ]
  }
 ],
 "metadata": {
  "kernelspec": {
   "display_name": "Python 3 (ipykernel)",
   "language": "python",
   "name": "python3"
  },
  "language_info": {
   "codemirror_mode": {
    "name": "ipython",
    "version": 3
   },
   "file_extension": ".py",
   "mimetype": "text/x-python",
   "name": "python",
   "nbconvert_exporter": "python",
   "pygments_lexer": "ipython3",
   "version": "3.9.12"
  }
 },
 "nbformat": 4,
 "nbformat_minor": 5
}
