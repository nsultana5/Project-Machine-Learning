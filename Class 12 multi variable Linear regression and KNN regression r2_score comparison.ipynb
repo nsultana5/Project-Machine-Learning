{
 "cells": [
  {
   "cell_type": "code",
   "execution_count": 1,
   "id": "57ca6d32",
   "metadata": {},
   "outputs": [],
   "source": [
    "import warnings\n",
    "warnings.filterwarnings('ignore')   #prevent warning\n",
    "import pandas as pd                 #for reading dataset\n",
    "import numpy as np                  #for linear algebra"
   ]
  },
  {
   "cell_type": "code",
   "execution_count": 2,
   "id": "7af7e4b7",
   "metadata": {},
   "outputs": [],
   "source": [
    "df=pd.read_csv('insurance.csv')"
   ]
  },
  {
   "cell_type": "code",
   "execution_count": 3,
   "id": "cf63021d",
   "metadata": {},
   "outputs": [
    {
     "data": {
      "text/html": [
       "<div>\n",
       "<style scoped>\n",
       "    .dataframe tbody tr th:only-of-type {\n",
       "        vertical-align: middle;\n",
       "    }\n",
       "\n",
       "    .dataframe tbody tr th {\n",
       "        vertical-align: top;\n",
       "    }\n",
       "\n",
       "    .dataframe thead th {\n",
       "        text-align: right;\n",
       "    }\n",
       "</style>\n",
       "<table border=\"1\" class=\"dataframe\">\n",
       "  <thead>\n",
       "    <tr style=\"text-align: right;\">\n",
       "      <th></th>\n",
       "      <th>age</th>\n",
       "      <th>sex</th>\n",
       "      <th>bmi</th>\n",
       "      <th>children</th>\n",
       "      <th>smoker</th>\n",
       "      <th>region</th>\n",
       "      <th>charges</th>\n",
       "    </tr>\n",
       "  </thead>\n",
       "  <tbody>\n",
       "    <tr>\n",
       "      <th>0</th>\n",
       "      <td>19</td>\n",
       "      <td>female</td>\n",
       "      <td>27.900</td>\n",
       "      <td>0</td>\n",
       "      <td>yes</td>\n",
       "      <td>southwest</td>\n",
       "      <td>16884.92400</td>\n",
       "    </tr>\n",
       "    <tr>\n",
       "      <th>1</th>\n",
       "      <td>18</td>\n",
       "      <td>male</td>\n",
       "      <td>33.770</td>\n",
       "      <td>1</td>\n",
       "      <td>no</td>\n",
       "      <td>southeast</td>\n",
       "      <td>1725.55230</td>\n",
       "    </tr>\n",
       "    <tr>\n",
       "      <th>2</th>\n",
       "      <td>28</td>\n",
       "      <td>male</td>\n",
       "      <td>33.000</td>\n",
       "      <td>3</td>\n",
       "      <td>no</td>\n",
       "      <td>southeast</td>\n",
       "      <td>4449.46200</td>\n",
       "    </tr>\n",
       "    <tr>\n",
       "      <th>3</th>\n",
       "      <td>33</td>\n",
       "      <td>male</td>\n",
       "      <td>22.705</td>\n",
       "      <td>0</td>\n",
       "      <td>no</td>\n",
       "      <td>northwest</td>\n",
       "      <td>21984.47061</td>\n",
       "    </tr>\n",
       "    <tr>\n",
       "      <th>4</th>\n",
       "      <td>32</td>\n",
       "      <td>male</td>\n",
       "      <td>28.880</td>\n",
       "      <td>0</td>\n",
       "      <td>no</td>\n",
       "      <td>northwest</td>\n",
       "      <td>3866.85520</td>\n",
       "    </tr>\n",
       "    <tr>\n",
       "      <th>...</th>\n",
       "      <td>...</td>\n",
       "      <td>...</td>\n",
       "      <td>...</td>\n",
       "      <td>...</td>\n",
       "      <td>...</td>\n",
       "      <td>...</td>\n",
       "      <td>...</td>\n",
       "    </tr>\n",
       "    <tr>\n",
       "      <th>1333</th>\n",
       "      <td>50</td>\n",
       "      <td>male</td>\n",
       "      <td>30.970</td>\n",
       "      <td>3</td>\n",
       "      <td>no</td>\n",
       "      <td>northwest</td>\n",
       "      <td>10600.54830</td>\n",
       "    </tr>\n",
       "    <tr>\n",
       "      <th>1334</th>\n",
       "      <td>18</td>\n",
       "      <td>female</td>\n",
       "      <td>31.920</td>\n",
       "      <td>0</td>\n",
       "      <td>no</td>\n",
       "      <td>northeast</td>\n",
       "      <td>2205.98080</td>\n",
       "    </tr>\n",
       "    <tr>\n",
       "      <th>1335</th>\n",
       "      <td>18</td>\n",
       "      <td>female</td>\n",
       "      <td>36.850</td>\n",
       "      <td>0</td>\n",
       "      <td>no</td>\n",
       "      <td>southeast</td>\n",
       "      <td>1629.83350</td>\n",
       "    </tr>\n",
       "    <tr>\n",
       "      <th>1336</th>\n",
       "      <td>21</td>\n",
       "      <td>female</td>\n",
       "      <td>25.800</td>\n",
       "      <td>0</td>\n",
       "      <td>no</td>\n",
       "      <td>southwest</td>\n",
       "      <td>2007.94500</td>\n",
       "    </tr>\n",
       "    <tr>\n",
       "      <th>1337</th>\n",
       "      <td>61</td>\n",
       "      <td>female</td>\n",
       "      <td>29.070</td>\n",
       "      <td>0</td>\n",
       "      <td>yes</td>\n",
       "      <td>northwest</td>\n",
       "      <td>29141.36030</td>\n",
       "    </tr>\n",
       "  </tbody>\n",
       "</table>\n",
       "<p>1338 rows × 7 columns</p>\n",
       "</div>"
      ],
      "text/plain": [
       "      age     sex     bmi  children smoker     region      charges\n",
       "0      19  female  27.900         0    yes  southwest  16884.92400\n",
       "1      18    male  33.770         1     no  southeast   1725.55230\n",
       "2      28    male  33.000         3     no  southeast   4449.46200\n",
       "3      33    male  22.705         0     no  northwest  21984.47061\n",
       "4      32    male  28.880         0     no  northwest   3866.85520\n",
       "...   ...     ...     ...       ...    ...        ...          ...\n",
       "1333   50    male  30.970         3     no  northwest  10600.54830\n",
       "1334   18  female  31.920         0     no  northeast   2205.98080\n",
       "1335   18  female  36.850         0     no  southeast   1629.83350\n",
       "1336   21  female  25.800         0     no  southwest   2007.94500\n",
       "1337   61  female  29.070         0    yes  northwest  29141.36030\n",
       "\n",
       "[1338 rows x 7 columns]"
      ]
     },
     "execution_count": 3,
     "metadata": {},
     "output_type": "execute_result"
    }
   ],
   "source": [
    "df"
   ]
  },
  {
   "cell_type": "code",
   "execution_count": 4,
   "id": "c4fd8127",
   "metadata": {},
   "outputs": [
    {
     "data": {
      "text/plain": [
       "age         0\n",
       "sex         0\n",
       "bmi         0\n",
       "children    0\n",
       "smoker      0\n",
       "region      0\n",
       "charges     0\n",
       "dtype: int64"
      ]
     },
     "execution_count": 4,
     "metadata": {},
     "output_type": "execute_result"
    }
   ],
   "source": [
    "df.isnull().sum()"
   ]
  },
  {
   "cell_type": "code",
   "execution_count": 5,
   "id": "e8028213",
   "metadata": {},
   "outputs": [],
   "source": [
    "#convert categorical value into numeric value using label encoder\n",
    "from sklearn.preprocessing import LabelEncoder"
   ]
  },
  {
   "cell_type": "code",
   "execution_count": 6,
   "id": "1dd491ac",
   "metadata": {},
   "outputs": [],
   "source": [
    "le=LabelEncoder()   #creating an object"
   ]
  },
  {
   "cell_type": "code",
   "execution_count": 7,
   "id": "fd2fa640",
   "metadata": {},
   "outputs": [
    {
     "data": {
      "text/plain": [
       "Index(['age', 'sex', 'bmi', 'children', 'smoker', 'region', 'charges'], dtype='object')"
      ]
     },
     "execution_count": 7,
     "metadata": {},
     "output_type": "execute_result"
    }
   ],
   "source": [
    "df.columns"
   ]
  },
  {
   "cell_type": "code",
   "execution_count": 8,
   "id": "22224ef8",
   "metadata": {},
   "outputs": [],
   "source": [
    "#using 'for loop' to convert categorical value into numeric value\n",
    "for col in df.columns:\n",
    "    if df[col].dtypes==np.number:\n",
    "        continue\n",
    "    else:\n",
    "        df[col]=le.fit_transform(df[col])"
   ]
  },
  {
   "cell_type": "code",
   "execution_count": 9,
   "id": "2aff13c9",
   "metadata": {},
   "outputs": [
    {
     "data": {
      "text/html": [
       "<div>\n",
       "<style scoped>\n",
       "    .dataframe tbody tr th:only-of-type {\n",
       "        vertical-align: middle;\n",
       "    }\n",
       "\n",
       "    .dataframe tbody tr th {\n",
       "        vertical-align: top;\n",
       "    }\n",
       "\n",
       "    .dataframe thead th {\n",
       "        text-align: right;\n",
       "    }\n",
       "</style>\n",
       "<table border=\"1\" class=\"dataframe\">\n",
       "  <thead>\n",
       "    <tr style=\"text-align: right;\">\n",
       "      <th></th>\n",
       "      <th>age</th>\n",
       "      <th>sex</th>\n",
       "      <th>bmi</th>\n",
       "      <th>children</th>\n",
       "      <th>smoker</th>\n",
       "      <th>region</th>\n",
       "      <th>charges</th>\n",
       "    </tr>\n",
       "  </thead>\n",
       "  <tbody>\n",
       "    <tr>\n",
       "      <th>0</th>\n",
       "      <td>1</td>\n",
       "      <td>0</td>\n",
       "      <td>27.900</td>\n",
       "      <td>0</td>\n",
       "      <td>1</td>\n",
       "      <td>3</td>\n",
       "      <td>16884.92400</td>\n",
       "    </tr>\n",
       "    <tr>\n",
       "      <th>1</th>\n",
       "      <td>0</td>\n",
       "      <td>1</td>\n",
       "      <td>33.770</td>\n",
       "      <td>1</td>\n",
       "      <td>0</td>\n",
       "      <td>2</td>\n",
       "      <td>1725.55230</td>\n",
       "    </tr>\n",
       "    <tr>\n",
       "      <th>2</th>\n",
       "      <td>10</td>\n",
       "      <td>1</td>\n",
       "      <td>33.000</td>\n",
       "      <td>3</td>\n",
       "      <td>0</td>\n",
       "      <td>2</td>\n",
       "      <td>4449.46200</td>\n",
       "    </tr>\n",
       "    <tr>\n",
       "      <th>3</th>\n",
       "      <td>15</td>\n",
       "      <td>1</td>\n",
       "      <td>22.705</td>\n",
       "      <td>0</td>\n",
       "      <td>0</td>\n",
       "      <td>1</td>\n",
       "      <td>21984.47061</td>\n",
       "    </tr>\n",
       "    <tr>\n",
       "      <th>4</th>\n",
       "      <td>14</td>\n",
       "      <td>1</td>\n",
       "      <td>28.880</td>\n",
       "      <td>0</td>\n",
       "      <td>0</td>\n",
       "      <td>1</td>\n",
       "      <td>3866.85520</td>\n",
       "    </tr>\n",
       "  </tbody>\n",
       "</table>\n",
       "</div>"
      ],
      "text/plain": [
       "   age  sex     bmi  children  smoker  region      charges\n",
       "0    1    0  27.900         0       1       3  16884.92400\n",
       "1    0    1  33.770         1       0       2   1725.55230\n",
       "2   10    1  33.000         3       0       2   4449.46200\n",
       "3   15    1  22.705         0       0       1  21984.47061\n",
       "4   14    1  28.880         0       0       1   3866.85520"
      ]
     },
     "execution_count": 9,
     "metadata": {},
     "output_type": "execute_result"
    }
   ],
   "source": [
    "df.head()"
   ]
  },
  {
   "cell_type": "code",
   "execution_count": 10,
   "id": "e65168fb",
   "metadata": {},
   "outputs": [],
   "source": [
    "#for scaling using standardization\n",
    "from sklearn.preprocessing import StandardScaler\n",
    "scaler=StandardScaler()   #creating an object"
   ]
  },
  {
   "cell_type": "code",
   "execution_count": 11,
   "id": "ddbf74b3",
   "metadata": {},
   "outputs": [],
   "source": [
    "for col1 in df.columns:\n",
    "    df[col1]=scaler.fit_transform(df[[col1]])"
   ]
  },
  {
   "cell_type": "code",
   "execution_count": 12,
   "id": "ebb22823",
   "metadata": {},
   "outputs": [
    {
     "data": {
      "text/html": [
       "<div>\n",
       "<style scoped>\n",
       "    .dataframe tbody tr th:only-of-type {\n",
       "        vertical-align: middle;\n",
       "    }\n",
       "\n",
       "    .dataframe tbody tr th {\n",
       "        vertical-align: top;\n",
       "    }\n",
       "\n",
       "    .dataframe thead th {\n",
       "        text-align: right;\n",
       "    }\n",
       "</style>\n",
       "<table border=\"1\" class=\"dataframe\">\n",
       "  <thead>\n",
       "    <tr style=\"text-align: right;\">\n",
       "      <th></th>\n",
       "      <th>age</th>\n",
       "      <th>sex</th>\n",
       "      <th>bmi</th>\n",
       "      <th>children</th>\n",
       "      <th>smoker</th>\n",
       "      <th>region</th>\n",
       "      <th>charges</th>\n",
       "    </tr>\n",
       "  </thead>\n",
       "  <tbody>\n",
       "    <tr>\n",
       "      <th>0</th>\n",
       "      <td>-1.438764</td>\n",
       "      <td>-1.010519</td>\n",
       "      <td>-0.453320</td>\n",
       "      <td>-0.908614</td>\n",
       "      <td>1.970587</td>\n",
       "      <td>1.343905</td>\n",
       "      <td>0.298584</td>\n",
       "    </tr>\n",
       "    <tr>\n",
       "      <th>1</th>\n",
       "      <td>-1.509965</td>\n",
       "      <td>0.989591</td>\n",
       "      <td>0.509621</td>\n",
       "      <td>-0.078767</td>\n",
       "      <td>-0.507463</td>\n",
       "      <td>0.438495</td>\n",
       "      <td>-0.953689</td>\n",
       "    </tr>\n",
       "    <tr>\n",
       "      <th>2</th>\n",
       "      <td>-0.797954</td>\n",
       "      <td>0.989591</td>\n",
       "      <td>0.383307</td>\n",
       "      <td>1.580926</td>\n",
       "      <td>-0.507463</td>\n",
       "      <td>0.438495</td>\n",
       "      <td>-0.728675</td>\n",
       "    </tr>\n",
       "    <tr>\n",
       "      <th>3</th>\n",
       "      <td>-0.441948</td>\n",
       "      <td>0.989591</td>\n",
       "      <td>-1.305531</td>\n",
       "      <td>-0.908614</td>\n",
       "      <td>-0.507463</td>\n",
       "      <td>-0.466915</td>\n",
       "      <td>0.719843</td>\n",
       "    </tr>\n",
       "    <tr>\n",
       "      <th>4</th>\n",
       "      <td>-0.513149</td>\n",
       "      <td>0.989591</td>\n",
       "      <td>-0.292556</td>\n",
       "      <td>-0.908614</td>\n",
       "      <td>-0.507463</td>\n",
       "      <td>-0.466915</td>\n",
       "      <td>-0.776802</td>\n",
       "    </tr>\n",
       "  </tbody>\n",
       "</table>\n",
       "</div>"
      ],
      "text/plain": [
       "        age       sex       bmi  children    smoker    region   charges\n",
       "0 -1.438764 -1.010519 -0.453320 -0.908614  1.970587  1.343905  0.298584\n",
       "1 -1.509965  0.989591  0.509621 -0.078767 -0.507463  0.438495 -0.953689\n",
       "2 -0.797954  0.989591  0.383307  1.580926 -0.507463  0.438495 -0.728675\n",
       "3 -0.441948  0.989591 -1.305531 -0.908614 -0.507463 -0.466915  0.719843\n",
       "4 -0.513149  0.989591 -0.292556 -0.908614 -0.507463 -0.466915 -0.776802"
      ]
     },
     "execution_count": 12,
     "metadata": {},
     "output_type": "execute_result"
    }
   ],
   "source": [
    "df.head()"
   ]
  },
  {
   "cell_type": "code",
   "execution_count": 13,
   "id": "eb7690da",
   "metadata": {},
   "outputs": [],
   "source": [
    "df1=df.copy()"
   ]
  },
  {
   "cell_type": "code",
   "execution_count": 14,
   "id": "2fb75b15",
   "metadata": {},
   "outputs": [
    {
     "data": {
      "text/html": [
       "<div>\n",
       "<style scoped>\n",
       "    .dataframe tbody tr th:only-of-type {\n",
       "        vertical-align: middle;\n",
       "    }\n",
       "\n",
       "    .dataframe tbody tr th {\n",
       "        vertical-align: top;\n",
       "    }\n",
       "\n",
       "    .dataframe thead th {\n",
       "        text-align: right;\n",
       "    }\n",
       "</style>\n",
       "<table border=\"1\" class=\"dataframe\">\n",
       "  <thead>\n",
       "    <tr style=\"text-align: right;\">\n",
       "      <th></th>\n",
       "      <th>age</th>\n",
       "      <th>sex</th>\n",
       "      <th>bmi</th>\n",
       "      <th>children</th>\n",
       "      <th>smoker</th>\n",
       "      <th>region</th>\n",
       "      <th>charges</th>\n",
       "    </tr>\n",
       "  </thead>\n",
       "  <tbody>\n",
       "    <tr>\n",
       "      <th>0</th>\n",
       "      <td>-1.438764</td>\n",
       "      <td>-1.010519</td>\n",
       "      <td>-0.453320</td>\n",
       "      <td>-0.908614</td>\n",
       "      <td>1.970587</td>\n",
       "      <td>1.343905</td>\n",
       "      <td>0.298584</td>\n",
       "    </tr>\n",
       "    <tr>\n",
       "      <th>1</th>\n",
       "      <td>-1.509965</td>\n",
       "      <td>0.989591</td>\n",
       "      <td>0.509621</td>\n",
       "      <td>-0.078767</td>\n",
       "      <td>-0.507463</td>\n",
       "      <td>0.438495</td>\n",
       "      <td>-0.953689</td>\n",
       "    </tr>\n",
       "    <tr>\n",
       "      <th>2</th>\n",
       "      <td>-0.797954</td>\n",
       "      <td>0.989591</td>\n",
       "      <td>0.383307</td>\n",
       "      <td>1.580926</td>\n",
       "      <td>-0.507463</td>\n",
       "      <td>0.438495</td>\n",
       "      <td>-0.728675</td>\n",
       "    </tr>\n",
       "    <tr>\n",
       "      <th>3</th>\n",
       "      <td>-0.441948</td>\n",
       "      <td>0.989591</td>\n",
       "      <td>-1.305531</td>\n",
       "      <td>-0.908614</td>\n",
       "      <td>-0.507463</td>\n",
       "      <td>-0.466915</td>\n",
       "      <td>0.719843</td>\n",
       "    </tr>\n",
       "    <tr>\n",
       "      <th>4</th>\n",
       "      <td>-0.513149</td>\n",
       "      <td>0.989591</td>\n",
       "      <td>-0.292556</td>\n",
       "      <td>-0.908614</td>\n",
       "      <td>-0.507463</td>\n",
       "      <td>-0.466915</td>\n",
       "      <td>-0.776802</td>\n",
       "    </tr>\n",
       "  </tbody>\n",
       "</table>\n",
       "</div>"
      ],
      "text/plain": [
       "        age       sex       bmi  children    smoker    region   charges\n",
       "0 -1.438764 -1.010519 -0.453320 -0.908614  1.970587  1.343905  0.298584\n",
       "1 -1.509965  0.989591  0.509621 -0.078767 -0.507463  0.438495 -0.953689\n",
       "2 -0.797954  0.989591  0.383307  1.580926 -0.507463  0.438495 -0.728675\n",
       "3 -0.441948  0.989591 -1.305531 -0.908614 -0.507463 -0.466915  0.719843\n",
       "4 -0.513149  0.989591 -0.292556 -0.908614 -0.507463 -0.466915 -0.776802"
      ]
     },
     "execution_count": 14,
     "metadata": {},
     "output_type": "execute_result"
    }
   ],
   "source": [
    "df1.head()"
   ]
  },
  {
   "cell_type": "code",
   "execution_count": 15,
   "id": "d26c4e10",
   "metadata": {},
   "outputs": [],
   "source": [
    "#Divide x and y\n",
    "x=df1[['age','sex','bmi','children','smoker','region']]\n",
    "y=df1['charges']"
   ]
  },
  {
   "cell_type": "code",
   "execution_count": 16,
   "id": "d200aa76",
   "metadata": {},
   "outputs": [
    {
     "data": {
      "text/html": [
       "<div>\n",
       "<style scoped>\n",
       "    .dataframe tbody tr th:only-of-type {\n",
       "        vertical-align: middle;\n",
       "    }\n",
       "\n",
       "    .dataframe tbody tr th {\n",
       "        vertical-align: top;\n",
       "    }\n",
       "\n",
       "    .dataframe thead th {\n",
       "        text-align: right;\n",
       "    }\n",
       "</style>\n",
       "<table border=\"1\" class=\"dataframe\">\n",
       "  <thead>\n",
       "    <tr style=\"text-align: right;\">\n",
       "      <th></th>\n",
       "      <th>age</th>\n",
       "      <th>sex</th>\n",
       "      <th>bmi</th>\n",
       "      <th>children</th>\n",
       "      <th>smoker</th>\n",
       "      <th>region</th>\n",
       "    </tr>\n",
       "  </thead>\n",
       "  <tbody>\n",
       "    <tr>\n",
       "      <th>0</th>\n",
       "      <td>-1.438764</td>\n",
       "      <td>-1.010519</td>\n",
       "      <td>-0.453320</td>\n",
       "      <td>-0.908614</td>\n",
       "      <td>1.970587</td>\n",
       "      <td>1.343905</td>\n",
       "    </tr>\n",
       "    <tr>\n",
       "      <th>1</th>\n",
       "      <td>-1.509965</td>\n",
       "      <td>0.989591</td>\n",
       "      <td>0.509621</td>\n",
       "      <td>-0.078767</td>\n",
       "      <td>-0.507463</td>\n",
       "      <td>0.438495</td>\n",
       "    </tr>\n",
       "    <tr>\n",
       "      <th>2</th>\n",
       "      <td>-0.797954</td>\n",
       "      <td>0.989591</td>\n",
       "      <td>0.383307</td>\n",
       "      <td>1.580926</td>\n",
       "      <td>-0.507463</td>\n",
       "      <td>0.438495</td>\n",
       "    </tr>\n",
       "    <tr>\n",
       "      <th>3</th>\n",
       "      <td>-0.441948</td>\n",
       "      <td>0.989591</td>\n",
       "      <td>-1.305531</td>\n",
       "      <td>-0.908614</td>\n",
       "      <td>-0.507463</td>\n",
       "      <td>-0.466915</td>\n",
       "    </tr>\n",
       "    <tr>\n",
       "      <th>4</th>\n",
       "      <td>-0.513149</td>\n",
       "      <td>0.989591</td>\n",
       "      <td>-0.292556</td>\n",
       "      <td>-0.908614</td>\n",
       "      <td>-0.507463</td>\n",
       "      <td>-0.466915</td>\n",
       "    </tr>\n",
       "    <tr>\n",
       "      <th>...</th>\n",
       "      <td>...</td>\n",
       "      <td>...</td>\n",
       "      <td>...</td>\n",
       "      <td>...</td>\n",
       "      <td>...</td>\n",
       "      <td>...</td>\n",
       "    </tr>\n",
       "    <tr>\n",
       "      <th>1333</th>\n",
       "      <td>0.768473</td>\n",
       "      <td>0.989591</td>\n",
       "      <td>0.050297</td>\n",
       "      <td>1.580926</td>\n",
       "      <td>-0.507463</td>\n",
       "      <td>-0.466915</td>\n",
       "    </tr>\n",
       "    <tr>\n",
       "      <th>1334</th>\n",
       "      <td>-1.509965</td>\n",
       "      <td>-1.010519</td>\n",
       "      <td>0.206139</td>\n",
       "      <td>-0.908614</td>\n",
       "      <td>-0.507463</td>\n",
       "      <td>-1.372326</td>\n",
       "    </tr>\n",
       "    <tr>\n",
       "      <th>1335</th>\n",
       "      <td>-1.509965</td>\n",
       "      <td>-1.010519</td>\n",
       "      <td>1.014878</td>\n",
       "      <td>-0.908614</td>\n",
       "      <td>-0.507463</td>\n",
       "      <td>0.438495</td>\n",
       "    </tr>\n",
       "    <tr>\n",
       "      <th>1336</th>\n",
       "      <td>-1.296362</td>\n",
       "      <td>-1.010519</td>\n",
       "      <td>-0.797813</td>\n",
       "      <td>-0.908614</td>\n",
       "      <td>-0.507463</td>\n",
       "      <td>1.343905</td>\n",
       "    </tr>\n",
       "    <tr>\n",
       "      <th>1337</th>\n",
       "      <td>1.551686</td>\n",
       "      <td>-1.010519</td>\n",
       "      <td>-0.261388</td>\n",
       "      <td>-0.908614</td>\n",
       "      <td>1.970587</td>\n",
       "      <td>-0.466915</td>\n",
       "    </tr>\n",
       "  </tbody>\n",
       "</table>\n",
       "<p>1338 rows × 6 columns</p>\n",
       "</div>"
      ],
      "text/plain": [
       "           age       sex       bmi  children    smoker    region\n",
       "0    -1.438764 -1.010519 -0.453320 -0.908614  1.970587  1.343905\n",
       "1    -1.509965  0.989591  0.509621 -0.078767 -0.507463  0.438495\n",
       "2    -0.797954  0.989591  0.383307  1.580926 -0.507463  0.438495\n",
       "3    -0.441948  0.989591 -1.305531 -0.908614 -0.507463 -0.466915\n",
       "4    -0.513149  0.989591 -0.292556 -0.908614 -0.507463 -0.466915\n",
       "...        ...       ...       ...       ...       ...       ...\n",
       "1333  0.768473  0.989591  0.050297  1.580926 -0.507463 -0.466915\n",
       "1334 -1.509965 -1.010519  0.206139 -0.908614 -0.507463 -1.372326\n",
       "1335 -1.509965 -1.010519  1.014878 -0.908614 -0.507463  0.438495\n",
       "1336 -1.296362 -1.010519 -0.797813 -0.908614 -0.507463  1.343905\n",
       "1337  1.551686 -1.010519 -0.261388 -0.908614  1.970587 -0.466915\n",
       "\n",
       "[1338 rows x 6 columns]"
      ]
     },
     "execution_count": 16,
     "metadata": {},
     "output_type": "execute_result"
    }
   ],
   "source": [
    "x"
   ]
  },
  {
   "cell_type": "code",
   "execution_count": 17,
   "id": "11db8700",
   "metadata": {},
   "outputs": [
    {
     "data": {
      "text/plain": [
       "0       0.298584\n",
       "1      -0.953689\n",
       "2      -0.728675\n",
       "3       0.719843\n",
       "4      -0.776802\n",
       "          ...   \n",
       "1333   -0.220551\n",
       "1334   -0.914002\n",
       "1335   -0.961596\n",
       "1336   -0.930362\n",
       "1337    1.311053\n",
       "Name: charges, Length: 1338, dtype: float64"
      ]
     },
     "execution_count": 17,
     "metadata": {},
     "output_type": "execute_result"
    }
   ],
   "source": [
    "y"
   ]
  },
  {
   "cell_type": "code",
   "execution_count": 18,
   "id": "0d540831",
   "metadata": {},
   "outputs": [],
   "source": [
    "from sklearn.model_selection import train_test_split as tts"
   ]
  },
  {
   "cell_type": "code",
   "execution_count": 19,
   "id": "544800fa",
   "metadata": {},
   "outputs": [],
   "source": [
    "#train 70%; test=30%\n",
    "xtrain, xtest, ytrain, ytest = tts(x,y,test_size=.30)"
   ]
  },
  {
   "cell_type": "code",
   "execution_count": 20,
   "id": "608915eb",
   "metadata": {},
   "outputs": [
    {
     "data": {
      "text/html": [
       "<div>\n",
       "<style scoped>\n",
       "    .dataframe tbody tr th:only-of-type {\n",
       "        vertical-align: middle;\n",
       "    }\n",
       "\n",
       "    .dataframe tbody tr th {\n",
       "        vertical-align: top;\n",
       "    }\n",
       "\n",
       "    .dataframe thead th {\n",
       "        text-align: right;\n",
       "    }\n",
       "</style>\n",
       "<table border=\"1\" class=\"dataframe\">\n",
       "  <thead>\n",
       "    <tr style=\"text-align: right;\">\n",
       "      <th></th>\n",
       "      <th>age</th>\n",
       "      <th>sex</th>\n",
       "      <th>bmi</th>\n",
       "      <th>children</th>\n",
       "      <th>smoker</th>\n",
       "      <th>region</th>\n",
       "    </tr>\n",
       "  </thead>\n",
       "  <tbody>\n",
       "    <tr>\n",
       "      <th>782</th>\n",
       "      <td>0.839674</td>\n",
       "      <td>0.989591</td>\n",
       "      <td>0.870519</td>\n",
       "      <td>-0.078767</td>\n",
       "      <td>-0.507463</td>\n",
       "      <td>0.438495</td>\n",
       "    </tr>\n",
       "    <tr>\n",
       "      <th>1192</th>\n",
       "      <td>1.338082</td>\n",
       "      <td>-1.010519</td>\n",
       "      <td>0.284060</td>\n",
       "      <td>-0.078767</td>\n",
       "      <td>-0.507463</td>\n",
       "      <td>-1.372326</td>\n",
       "    </tr>\n",
       "    <tr>\n",
       "      <th>249</th>\n",
       "      <td>-0.726752</td>\n",
       "      <td>0.989591</td>\n",
       "      <td>-0.276972</td>\n",
       "      <td>-0.078767</td>\n",
       "      <td>-0.507463</td>\n",
       "      <td>-1.372326</td>\n",
       "    </tr>\n",
       "    <tr>\n",
       "      <th>244</th>\n",
       "      <td>1.694088</td>\n",
       "      <td>-1.010519</td>\n",
       "      <td>-0.479567</td>\n",
       "      <td>-0.908614</td>\n",
       "      <td>1.970587</td>\n",
       "      <td>-1.372326</td>\n",
       "    </tr>\n",
       "    <tr>\n",
       "      <th>670</th>\n",
       "      <td>-0.655551</td>\n",
       "      <td>0.989591</td>\n",
       "      <td>0.148723</td>\n",
       "      <td>1.580926</td>\n",
       "      <td>-0.507463</td>\n",
       "      <td>0.438495</td>\n",
       "    </tr>\n",
       "  </tbody>\n",
       "</table>\n",
       "</div>"
      ],
      "text/plain": [
       "           age       sex       bmi  children    smoker    region\n",
       "782   0.839674  0.989591  0.870519 -0.078767 -0.507463  0.438495\n",
       "1192  1.338082 -1.010519  0.284060 -0.078767 -0.507463 -1.372326\n",
       "249  -0.726752  0.989591 -0.276972 -0.078767 -0.507463 -1.372326\n",
       "244   1.694088 -1.010519 -0.479567 -0.908614  1.970587 -1.372326\n",
       "670  -0.655551  0.989591  0.148723  1.580926 -0.507463  0.438495"
      ]
     },
     "execution_count": 20,
     "metadata": {},
     "output_type": "execute_result"
    }
   ],
   "source": [
    "xtrain.head()"
   ]
  },
  {
   "cell_type": "code",
   "execution_count": 21,
   "id": "08dcd6c0",
   "metadata": {},
   "outputs": [
    {
     "data": {
      "text/plain": [
       "782    -0.320868\n",
       "1192   -0.020756\n",
       "249    -0.762453\n",
       "244     1.342593\n",
       "670    -0.696613\n",
       "Name: charges, dtype: float64"
      ]
     },
     "execution_count": 21,
     "metadata": {},
     "output_type": "execute_result"
    }
   ],
   "source": [
    "ytrain.head()"
   ]
  },
  {
   "cell_type": "code",
   "execution_count": 22,
   "id": "e0e7bdf9",
   "metadata": {},
   "outputs": [
    {
     "data": {
      "text/html": [
       "<div>\n",
       "<style scoped>\n",
       "    .dataframe tbody tr th:only-of-type {\n",
       "        vertical-align: middle;\n",
       "    }\n",
       "\n",
       "    .dataframe tbody tr th {\n",
       "        vertical-align: top;\n",
       "    }\n",
       "\n",
       "    .dataframe thead th {\n",
       "        text-align: right;\n",
       "    }\n",
       "</style>\n",
       "<table border=\"1\" class=\"dataframe\">\n",
       "  <thead>\n",
       "    <tr style=\"text-align: right;\">\n",
       "      <th></th>\n",
       "      <th>age</th>\n",
       "      <th>sex</th>\n",
       "      <th>bmi</th>\n",
       "      <th>children</th>\n",
       "      <th>smoker</th>\n",
       "      <th>region</th>\n",
       "    </tr>\n",
       "  </thead>\n",
       "  <tbody>\n",
       "    <tr>\n",
       "      <th>559</th>\n",
       "      <td>-1.438764</td>\n",
       "      <td>0.989591</td>\n",
       "      <td>0.798339</td>\n",
       "      <td>-0.908614</td>\n",
       "      <td>-0.507463</td>\n",
       "      <td>-0.466915</td>\n",
       "    </tr>\n",
       "    <tr>\n",
       "      <th>354</th>\n",
       "      <td>-1.509965</td>\n",
       "      <td>-1.010519</td>\n",
       "      <td>1.249462</td>\n",
       "      <td>-0.908614</td>\n",
       "      <td>-0.507463</td>\n",
       "      <td>0.438495</td>\n",
       "    </tr>\n",
       "    <tr>\n",
       "      <th>243</th>\n",
       "      <td>0.056461</td>\n",
       "      <td>0.989591</td>\n",
       "      <td>0.760609</td>\n",
       "      <td>1.580926</td>\n",
       "      <td>-0.507463</td>\n",
       "      <td>1.343905</td>\n",
       "    </tr>\n",
       "    <tr>\n",
       "      <th>877</th>\n",
       "      <td>-0.441948</td>\n",
       "      <td>0.989591</td>\n",
       "      <td>0.455486</td>\n",
       "      <td>3.240619</td>\n",
       "      <td>-0.507463</td>\n",
       "      <td>0.438495</td>\n",
       "    </tr>\n",
       "    <tr>\n",
       "      <th>52</th>\n",
       "      <td>0.626070</td>\n",
       "      <td>0.989591</td>\n",
       "      <td>-0.436916</td>\n",
       "      <td>-0.078767</td>\n",
       "      <td>1.970587</td>\n",
       "      <td>1.343905</td>\n",
       "    </tr>\n",
       "  </tbody>\n",
       "</table>\n",
       "</div>"
      ],
      "text/plain": [
       "          age       sex       bmi  children    smoker    region\n",
       "559 -1.438764  0.989591  0.798339 -0.908614 -0.507463 -0.466915\n",
       "354 -1.509965 -1.010519  1.249462 -0.908614 -0.507463  0.438495\n",
       "243  0.056461  0.989591  0.760609  1.580926 -0.507463  1.343905\n",
       "877 -0.441948  0.989591  0.455486  3.240619 -0.507463  0.438495\n",
       "52   0.626070  0.989591 -0.436916 -0.078767  1.970587  1.343905"
      ]
     },
     "execution_count": 22,
     "metadata": {},
     "output_type": "execute_result"
    }
   ],
   "source": [
    "xtest.head()"
   ]
  },
  {
   "cell_type": "code",
   "execution_count": 23,
   "id": "c852f79a",
   "metadata": {},
   "outputs": [
    {
     "data": {
      "text/plain": [
       "559   -0.960225\n",
       "354    0.071258\n",
       "243   -0.501719\n",
       "877   -0.546581\n",
       "52     0.850676\n",
       "Name: charges, dtype: float64"
      ]
     },
     "execution_count": 23,
     "metadata": {},
     "output_type": "execute_result"
    }
   ],
   "source": [
    "ytest.head()"
   ]
  },
  {
   "cell_type": "markdown",
   "id": "218cf3b7",
   "metadata": {},
   "source": [
    "# Linear Regression"
   ]
  },
  {
   "cell_type": "code",
   "execution_count": 24,
   "id": "a7693d80",
   "metadata": {},
   "outputs": [],
   "source": [
    "from sklearn.linear_model import LinearRegression "
   ]
  },
  {
   "cell_type": "code",
   "execution_count": 25,
   "id": "076577b0",
   "metadata": {},
   "outputs": [],
   "source": [
    "reg = LinearRegression()      #creating an object"
   ]
  },
  {
   "cell_type": "code",
   "execution_count": 26,
   "id": "8335f277",
   "metadata": {},
   "outputs": [
    {
     "data": {
      "text/plain": [
       "LinearRegression()"
      ]
     },
     "execution_count": 26,
     "metadata": {},
     "output_type": "execute_result"
    }
   ],
   "source": [
    "reg.fit(xtrain,ytrain)        #training"
   ]
  },
  {
   "cell_type": "code",
   "execution_count": 27,
   "id": "b646bf0a",
   "metadata": {},
   "outputs": [
    {
     "data": {
      "text/plain": [
       "array([ 0.30052266, -0.00156369,  0.17573468,  0.04155863,  0.77231728,\n",
       "       -0.01448252])"
      ]
     },
     "execution_count": 27,
     "metadata": {},
     "output_type": "execute_result"
    }
   ],
   "source": [
    "#finding coefficient\n",
    "m=reg.coef_\n",
    "m"
   ]
  },
  {
   "cell_type": "code",
   "execution_count": 28,
   "id": "54efa707",
   "metadata": {},
   "outputs": [
    {
     "data": {
      "text/plain": [
       "-0.017095856208561588"
      ]
     },
     "execution_count": 28,
     "metadata": {},
     "output_type": "execute_result"
    }
   ],
   "source": [
    "#finding intercept\n",
    "c=reg.intercept_\n",
    "c"
   ]
  },
  {
   "cell_type": "code",
   "execution_count": 30,
   "id": "21c51257",
   "metadata": {},
   "outputs": [
    {
     "data": {
      "text/plain": [
       "-0.01486823292484159"
      ]
     },
     "execution_count": 30,
     "metadata": {},
     "output_type": "execute_result"
    }
   ],
   "source": [
    "m1,m2,m3,m4,m5,m6=0.30052266, -0.00156369,  0.17573468,  0.04155863,  0.77231728,-0.01448252\n",
    "     \n",
    "x1,x2,x3,x4,x5,x6=0.839674 ,0.989591,0.870519,-0.078767,-0.507463,0.438495\n",
    "c=-0.017095856208561588\n",
    "y=m1*x1 +m2*x2 +m3*x3 +m4*x4 +m5*x5+m6*x6+c\n",
    "y\n"
   ]
  },
  {
   "cell_type": "code",
   "execution_count": 32,
   "id": "62979a5f",
   "metadata": {},
   "outputs": [
    {
     "data": {
      "text/plain": [
       "array([-0.78441029])"
      ]
     },
     "execution_count": 32,
     "metadata": {},
     "output_type": "execute_result"
    }
   ],
   "source": [
    "reg.predict([[-1.509965,0.989591,0.509621,-0.078767,-0.507463,0.438495]])"
   ]
  },
  {
   "cell_type": "code",
   "execution_count": 33,
   "id": "335975ff",
   "metadata": {},
   "outputs": [],
   "source": [
    "pred=reg.predict(xtest)"
   ]
  },
  {
   "cell_type": "code",
   "execution_count": 34,
   "id": "506aa789",
   "metadata": {},
   "outputs": [
    {
     "data": {
      "text/plain": [
       "array([-0.73364977, -0.68575457, -0.21369466, -0.33501111,  1.59190535,\n",
       "       -1.01520907,  1.43662291, -0.63226237, -1.09403711,  1.52464897,\n",
       "        0.00695394, -0.17130529, -0.98672482,  0.04315107, -0.23567699,\n",
       "       -0.35397321, -0.84909945, -0.60779903,  0.31903684, -0.2051771 ,\n",
       "        2.19976323, -0.21221807,  1.10366628, -0.16462504, -0.04848232,\n",
       "       -0.20361871, -0.08165077, -0.67343908, -0.67666681, -0.34545772,\n",
       "       -0.57880206, -0.19243473, -0.83418482, -0.00502127, -0.90294113,\n",
       "        0.10208467, -0.29439021, -0.78894846,  0.10373616, -0.12168221,\n",
       "        1.82253015, -0.39061527, -0.65216255, -0.17295922, -0.00349004,\n",
       "       -0.11049101, -0.92354452, -0.19537725, -0.07219384, -0.17684485,\n",
       "        0.04219608, -0.60643316,  2.04045083, -0.1518658 , -0.90060606,\n",
       "       -0.799637  ,  0.27551489,  1.63584659, -0.20844407, -1.25400067,\n",
       "       -0.19628024, -0.77692576,  1.91712722,  0.24720889, -0.86619749,\n",
       "       -0.61887505,  1.70566326,  0.24867582,  0.16423539, -0.27275147,\n",
       "        1.7906598 ,  1.93100502, -0.62694355, -0.62604919,  0.10096561,\n",
       "       -1.13280743, -0.38033098, -0.93391765, -0.87567273, -0.51229436,\n",
       "       -0.40313215, -0.09762476,  0.0772161 , -0.45631825, -0.64782033,\n",
       "        0.15157837,  1.34224616,  2.01063886, -0.71986637,  0.15172912,\n",
       "       -0.19882622, -0.58935713, -0.07688722,  0.24428367, -0.82717162,\n",
       "       -1.04048109, -0.46647657, -0.87606159,  1.78523693, -0.0409593 ,\n",
       "        1.94691445, -0.31800537,  0.00409527, -0.76589199,  1.49415955,\n",
       "       -0.27046339, -0.71783223, -0.84466872, -0.0091168 , -0.89507784,\n",
       "       -0.53433674, -0.5866796 , -0.09444301, -1.12332467, -0.37387309,\n",
       "       -0.43887481,  1.52375374,  1.1868616 , -0.46704985, -0.7749237 ,\n",
       "        0.40817685, -0.2003831 ,  0.25655894, -0.26375959, -0.63634417,\n",
       "        1.0926361 ,  1.03061725, -0.1323359 ,  0.22283224, -0.91326926,\n",
       "        1.62222001, -0.71258515, -0.51501474, -0.47995515, -1.09874029,\n",
       "       -0.5306977 , -0.17058833, -0.18471997, -0.2672136 , -0.09532191,\n",
       "        0.12906972,  1.85870097, -0.89187695, -0.57193659, -0.37835124,\n",
       "       -0.62941358, -1.00446   ,  1.95871504, -1.00202756, -0.24994981,\n",
       "       -0.37922739, -0.18126745,  1.72097087, -0.48654806,  0.97557269,\n",
       "        0.17358426, -0.32278578, -0.53665008, -0.6379855 , -0.91558779,\n",
       "       -0.20704111, -0.29452368,  1.29215966,  1.77158956, -0.34134416,\n",
       "        0.0947973 ,  1.31380792, -0.15406197, -0.10957887,  1.49912583,\n",
       "       -0.78603907, -0.3332392 , -0.41881218, -0.63791773,  1.3854027 ,\n",
       "       -0.62210291,  0.36570174, -0.36838371, -0.56221626,  0.14583618,\n",
       "       -0.78889054, -0.12867588,  1.04778414,  0.92824001, -0.26182566,\n",
       "       -0.35398706, -0.30461889, -0.57945586, -0.17443113, -1.21334424,\n",
       "        0.12064837, -0.93308764, -0.79987109, -0.42715669, -0.32446199,\n",
       "       -0.43054865, -0.72668603,  0.17174872, -0.12425525, -0.02002604,\n",
       "       -0.16176156, -0.89222835, -0.44942609, -0.59940984,  2.21919517,\n",
       "       -0.34904965,  0.45837503, -0.06949774, -0.5782713 , -0.74175362,\n",
       "       -0.33453845, -0.60376899,  0.17543852, -0.75547208,  0.10195056,\n",
       "        1.46732535,  1.33857132, -0.80763824, -0.86179604,  0.03346529,\n",
       "       -0.94943835, -0.69108766, -0.78441049, -0.65251298,  0.22005609,\n",
       "       -0.17176588,  0.07954859,  2.1045982 ,  0.08231012,  1.93348934,\n",
       "       -0.67900544,  1.87044643, -0.71899921, -0.47267117, -0.49924905,\n",
       "        0.23194032,  1.56765651, -0.20669166, -0.51049125, -0.64610978,\n",
       "       -0.30194875, -0.18544638,  0.05125245,  0.02075454,  1.39813772,\n",
       "       -0.9136402 , -0.58537757, -0.02056059,  1.44763943, -0.83531421,\n",
       "       -0.18375139, -0.31615212, -0.96147748, -0.78409117, -0.64908795,\n",
       "       -0.6853426 , -0.47645128, -0.36474663,  1.82392782, -0.83842385,\n",
       "       -0.33581189, -0.30117012,  2.12242413, -0.44030054,  0.21412948,\n",
       "        1.79800006,  0.08625627, -0.74125016, -0.34935558, -0.28961215,\n",
       "       -0.09122826, -0.60928565, -0.04594015, -0.47650722, -0.19365621,\n",
       "       -0.78323478, -0.14548551, -0.59823414, -0.73256146, -0.04576865,\n",
       "       -0.11839327, -0.66558227, -0.26369333, -0.55501773, -0.21937115,\n",
       "       -0.56353906,  0.14090737, -0.49907737, -0.78910703, -0.97811989,\n",
       "       -0.33156758, -0.52387435,  0.07691048, -0.48086434,  0.28235303,\n",
       "       -0.90620015,  0.00706747, -0.41074904, -0.13810136, -0.94284989,\n",
       "       -0.28368332, -0.89313169, -0.76909309, -0.47835031, -0.97367099,\n",
       "       -1.03223575, -0.13348018,  1.83288918, -0.51546632,  1.22127121,\n",
       "        0.19227783, -0.25551372,  1.43605107, -0.71742214, -0.34704885,\n",
       "       -0.05104414,  1.09762836,  0.01323661, -0.42586186, -0.80380678,\n",
       "       -0.53295821,  0.17972507,  1.38539471,  1.56163378, -0.5146344 ,\n",
       "       -0.54616473, -0.19166429, -0.17735339, -0.26334093, -0.12069115,\n",
       "       -0.56024704, -0.79245099, -0.8882343 , -0.13702157,  0.02121936,\n",
       "       -0.63786454, -0.15751794,  0.17412991, -0.47724751,  0.05041101,\n",
       "        1.34528215, -0.1869593 , -1.13075967,  1.48668925, -0.27344408,\n",
       "        1.8168505 , -0.46402533, -0.34745981,  1.50895509,  0.23199988,\n",
       "       -0.27697873, -0.10694076, -0.40290393, -0.64809536,  2.09588693,\n",
       "       -0.48336645, -0.9445977 , -0.68544402, -0.54971871, -0.70396724,\n",
       "       -0.30827407,  1.38270841, -0.25995088,  1.24590157, -0.74076263,\n",
       "        0.42419336, -0.62082119, -0.14433056,  0.03920033, -0.1366749 ,\n",
       "       -0.83701071,  0.07029717,  0.08086609,  1.71623664, -0.2892216 ,\n",
       "       -0.13919413,  1.60422462,  1.81412265,  1.77808069,  2.12475105,\n",
       "       -0.72109134, -0.73330749, -0.28035791, -0.89491244,  0.97993362,\n",
       "       -0.7068607 , -0.28771835, -0.80727439, -0.04275919, -0.7470998 ,\n",
       "       -0.26044156, -0.88215628, -0.49996288, -0.19097265, -0.52803295,\n",
       "       -0.06497536, -0.09906879,  2.20494005,  0.34583835,  1.13292097,\n",
       "        0.10815679,  2.01206756])"
      ]
     },
     "execution_count": 34,
     "metadata": {},
     "output_type": "execute_result"
    }
   ],
   "source": [
    "pred"
   ]
  },
  {
   "cell_type": "code",
   "execution_count": 36,
   "id": "e70b9f85",
   "metadata": {},
   "outputs": [],
   "source": [
    "df1['predicted result']=reg.predict(x)"
   ]
  },
  {
   "cell_type": "code",
   "execution_count": 37,
   "id": "fce5374b",
   "metadata": {},
   "outputs": [
    {
     "data": {
      "text/html": [
       "<div>\n",
       "<style scoped>\n",
       "    .dataframe tbody tr th:only-of-type {\n",
       "        vertical-align: middle;\n",
       "    }\n",
       "\n",
       "    .dataframe tbody tr th {\n",
       "        vertical-align: top;\n",
       "    }\n",
       "\n",
       "    .dataframe thead th {\n",
       "        text-align: right;\n",
       "    }\n",
       "</style>\n",
       "<table border=\"1\" class=\"dataframe\">\n",
       "  <thead>\n",
       "    <tr style=\"text-align: right;\">\n",
       "      <th></th>\n",
       "      <th>age</th>\n",
       "      <th>sex</th>\n",
       "      <th>bmi</th>\n",
       "      <th>children</th>\n",
       "      <th>smoker</th>\n",
       "      <th>region</th>\n",
       "      <th>charges</th>\n",
       "      <th>predicted result</th>\n",
       "    </tr>\n",
       "  </thead>\n",
       "  <tbody>\n",
       "    <tr>\n",
       "      <th>0</th>\n",
       "      <td>-1.438764</td>\n",
       "      <td>-1.010519</td>\n",
       "      <td>-0.453320</td>\n",
       "      <td>-0.908614</td>\n",
       "      <td>1.970587</td>\n",
       "      <td>1.343905</td>\n",
       "      <td>0.298584</td>\n",
       "      <td>0.937133</td>\n",
       "    </tr>\n",
       "    <tr>\n",
       "      <th>1</th>\n",
       "      <td>-1.509965</td>\n",
       "      <td>0.989591</td>\n",
       "      <td>0.509621</td>\n",
       "      <td>-0.078767</td>\n",
       "      <td>-0.507463</td>\n",
       "      <td>0.438495</td>\n",
       "      <td>-0.953689</td>\n",
       "      <td>-0.784410</td>\n",
       "    </tr>\n",
       "    <tr>\n",
       "      <th>2</th>\n",
       "      <td>-0.797954</td>\n",
       "      <td>0.989591</td>\n",
       "      <td>0.383307</td>\n",
       "      <td>1.580926</td>\n",
       "      <td>-0.507463</td>\n",
       "      <td>0.438495</td>\n",
       "      <td>-0.728675</td>\n",
       "      <td>-0.523658</td>\n",
       "    </tr>\n",
       "    <tr>\n",
       "      <th>3</th>\n",
       "      <td>-0.441948</td>\n",
       "      <td>0.989591</td>\n",
       "      <td>-1.305531</td>\n",
       "      <td>-0.908614</td>\n",
       "      <td>-0.507463</td>\n",
       "      <td>-0.466915</td>\n",
       "      <td>0.719843</td>\n",
       "      <td>-0.803807</td>\n",
       "    </tr>\n",
       "    <tr>\n",
       "      <th>4</th>\n",
       "      <td>-0.513149</td>\n",
       "      <td>0.989591</td>\n",
       "      <td>-0.292556</td>\n",
       "      <td>-0.908614</td>\n",
       "      <td>-0.507463</td>\n",
       "      <td>-0.466915</td>\n",
       "      <td>-0.776802</td>\n",
       "      <td>-0.647190</td>\n",
       "    </tr>\n",
       "  </tbody>\n",
       "</table>\n",
       "</div>"
      ],
      "text/plain": [
       "        age       sex       bmi  children    smoker    region   charges  \\\n",
       "0 -1.438764 -1.010519 -0.453320 -0.908614  1.970587  1.343905  0.298584   \n",
       "1 -1.509965  0.989591  0.509621 -0.078767 -0.507463  0.438495 -0.953689   \n",
       "2 -0.797954  0.989591  0.383307  1.580926 -0.507463  0.438495 -0.728675   \n",
       "3 -0.441948  0.989591 -1.305531 -0.908614 -0.507463 -0.466915  0.719843   \n",
       "4 -0.513149  0.989591 -0.292556 -0.908614 -0.507463 -0.466915 -0.776802   \n",
       "\n",
       "   predicted result  \n",
       "0          0.937133  \n",
       "1         -0.784410  \n",
       "2         -0.523658  \n",
       "3         -0.803807  \n",
       "4         -0.647190  "
      ]
     },
     "execution_count": 37,
     "metadata": {},
     "output_type": "execute_result"
    }
   ],
   "source": [
    "df1.head()"
   ]
  },
  {
   "cell_type": "code",
   "execution_count": 38,
   "id": "fd0d3a7a",
   "metadata": {},
   "outputs": [],
   "source": [
    "from sklearn.metrics import mean_squared_error,mean_absolute_error,r2_score"
   ]
  },
  {
   "cell_type": "code",
   "execution_count": 39,
   "id": "d1b15ba9",
   "metadata": {},
   "outputs": [],
   "source": [
    "mse=mean_squared_error(ytest,pred)"
   ]
  },
  {
   "cell_type": "code",
   "execution_count": 40,
   "id": "4a4be96d",
   "metadata": {},
   "outputs": [
    {
     "data": {
      "text/plain": [
       "0.24061566010547128"
      ]
     },
     "execution_count": 40,
     "metadata": {},
     "output_type": "execute_result"
    }
   ],
   "source": [
    "mse"
   ]
  },
  {
   "cell_type": "code",
   "execution_count": 41,
   "id": "1898b3a0",
   "metadata": {},
   "outputs": [],
   "source": [
    "mae=mean_absolute_error(ytest,pred)"
   ]
  },
  {
   "cell_type": "code",
   "execution_count": 42,
   "id": "f2ed2bc4",
   "metadata": {},
   "outputs": [
    {
     "data": {
      "text/plain": [
       "0.3257116566709134"
      ]
     },
     "execution_count": 42,
     "metadata": {},
     "output_type": "execute_result"
    }
   ],
   "source": [
    "mae"
   ]
  },
  {
   "cell_type": "code",
   "execution_count": 43,
   "id": "6707ef00",
   "metadata": {},
   "outputs": [
    {
     "data": {
      "text/plain": [
       "0.7637210742387341"
      ]
     },
     "execution_count": 43,
     "metadata": {},
     "output_type": "execute_result"
    }
   ],
   "source": [
    "r2_score(ytest,pred)"
   ]
  },
  {
   "cell_type": "markdown",
   "id": "0f249ac3",
   "metadata": {},
   "source": [
    "# KNN Regression"
   ]
  },
  {
   "cell_type": "code",
   "execution_count": 44,
   "id": "d008e1da",
   "metadata": {},
   "outputs": [],
   "source": [
    "from sklearn.neighbors import KNeighborsRegressor"
   ]
  },
  {
   "cell_type": "code",
   "execution_count": 45,
   "id": "5e09922c",
   "metadata": {},
   "outputs": [],
   "source": [
    "neigh = KNeighborsRegressor(n_neighbors=5)   #crating an object"
   ]
  },
  {
   "cell_type": "code",
   "execution_count": 46,
   "id": "e9a90370",
   "metadata": {},
   "outputs": [
    {
     "data": {
      "text/plain": [
       "KNeighborsRegressor()"
      ]
     },
     "execution_count": 46,
     "metadata": {},
     "output_type": "execute_result"
    }
   ],
   "source": [
    "neigh.fit(xtrain,ytrain)                     #training"
   ]
  },
  {
   "cell_type": "code",
   "execution_count": 47,
   "id": "d33c2bc1",
   "metadata": {},
   "outputs": [],
   "source": [
    "pred1=neigh.predict(xtest)"
   ]
  },
  {
   "cell_type": "code",
   "execution_count": 48,
   "id": "9f4290be",
   "metadata": {},
   "outputs": [
    {
     "data": {
      "text/plain": [
       "array([-6.36735603e-01, -9.61411827e-01, -5.48349803e-01, -5.85779158e-01,\n",
       "        1.55036378e+00, -6.83788642e-01,  2.13721719e+00, -8.79985131e-01,\n",
       "       -9.57619582e-01,  2.37920569e+00, -4.51825249e-01, -9.45993795e-02,\n",
       "       -7.23743660e-01, -1.20901793e-01, -5.25326986e-01,  1.71573428e-01,\n",
       "       -6.33976220e-01, -3.53275288e-01,  1.39225034e-01, -1.71512275e-01,\n",
       "        2.72479191e+00, -3.91029524e-01,  1.65942550e+00, -3.48626563e-01,\n",
       "       -3.15033892e-02,  2.76489161e-01,  2.06606358e-02, -1.24673052e-01,\n",
       "       -1.94153297e-01, -5.57789761e-01, -6.13844475e-01, -4.67336418e-01,\n",
       "       -3.50647001e-01, -1.91068576e-01, -4.47790407e-01, -1.61237000e-01,\n",
       "       -4.67332335e-01, -8.35719815e-01,  2.59416632e-01, -1.13572732e-01,\n",
       "        2.43652007e+00, -3.62020795e-01, -5.44989151e-01, -2.10110175e-01,\n",
       "        1.09541851e-01, -1.46814859e-01, -7.31527229e-01, -3.70149170e-01,\n",
       "        9.43518850e-02,  1.74415932e-01, -2.49319458e-02, -9.46833361e-01,\n",
       "        2.30146045e+00, -8.26522963e-03, -6.87197965e-01, -9.11628381e-01,\n",
       "        3.82245309e-02,  1.35747621e+00, -7.09784921e-02, -9.29747958e-01,\n",
       "       -4.79724581e-01, -5.36058622e-01,  2.16919672e+00, -8.39848868e-02,\n",
       "       -6.53940112e-01, -7.10595607e-01,  1.06794125e+00,  4.61837922e-02,\n",
       "        1.65410598e-01, -3.84350100e-01,  9.32361438e-01,  1.98987371e+00,\n",
       "       -5.31161362e-01, -6.22727575e-01,  2.59311547e-01, -9.23950770e-01,\n",
       "       -2.44502642e-01, -9.22411429e-01, -8.94827327e-01, -4.43456363e-01,\n",
       "       -2.66356358e-01, -5.21391836e-02, -7.69380877e-02, -7.71776312e-01,\n",
       "       -7.35937875e-01,  3.56091192e-01,  2.27458540e+00,  1.95008935e+00,\n",
       "       -7.76644795e-01,  6.64999570e-02, -1.75366138e-01, -7.51224463e-01,\n",
       "       -5.31424698e-01,  1.65410598e-01, -3.66143018e-01, -9.35639579e-01,\n",
       "       -5.04293131e-01, -9.42908212e-01,  2.72928112e+00, -2.97120823e-01,\n",
       "        2.54813267e+00, -7.62052344e-01, -6.04644726e-02, -8.69882961e-01,\n",
       "        1.81336239e+00, -4.28043261e-01, -5.02987272e-01, -6.07404845e-01,\n",
       "       -5.61367823e-02, -9.13992793e-01, -7.28531625e-01, -9.47301683e-01,\n",
       "       -3.91283983e-02, -9.59058752e-01, -4.38285538e-01, -5.32483532e-01,\n",
       "        2.07026877e+00,  1.92814527e+00, -1.42740491e-01, -7.18477656e-01,\n",
       "        6.64999570e-02, -2.81960046e-01,  1.39225034e-01, -4.08108412e-01,\n",
       "       -4.78662482e-01,  8.44442728e-01,  5.65493335e-01, -6.49033613e-02,\n",
       "        1.46623494e-01, -9.18620647e-01,  2.03998459e+00, -6.25863126e-01,\n",
       "       -6.70245338e-01, -5.73642004e-01, -9.29747958e-01, -6.65960231e-01,\n",
       "       -2.10110175e-01, -4.48947211e-01, -1.77595880e-02, -1.10930203e-01,\n",
       "        2.93823793e-01,  1.50466422e+00, -7.82001496e-01, -9.67895777e-02,\n",
       "       -4.04439108e-01, -8.38141406e-01, -8.11661811e-01,  1.76140715e+00,\n",
       "       -6.91655666e-01, -2.86898033e-01, -4.73999904e-01, -1.80302408e-01,\n",
       "        1.85100392e+00, -5.59612057e-01,  5.55392426e-01, -3.77128604e-02,\n",
       "       -5.75916057e-01, -6.16154948e-01, -2.91209001e-01, -5.54769366e-01,\n",
       "       -4.05471856e-01, -3.59270950e-01,  5.83456911e-01,  1.12984854e+00,\n",
       "       -4.20274190e-01, -7.98249394e-02,  7.97290257e-01,  1.54860886e-01,\n",
       "       -3.83952801e-01,  1.67878589e+00, -6.31685765e-01,  9.53523358e-03,\n",
       "       -1.98159662e-01, -5.06460294e-01,  1.15550738e+00, -7.19596910e-01,\n",
       "        2.69333509e-02, -3.48602489e-01, -5.74194911e-01,  1.42773703e-01,\n",
       "       -7.37180055e-01, -3.55300736e-01,  2.77020805e-01,  8.62282745e-01,\n",
       "       -4.50841274e-01, -1.86454505e-01, -3.51073147e-01, -2.24819997e-02,\n",
       "        6.60172613e-02, -9.54328182e-01, -7.98249394e-02, -6.87197965e-01,\n",
       "       -9.91565842e-01,  1.95195832e-01, -4.85184408e-01, -1.06357080e-01,\n",
       "       -7.27065616e-01,  1.60904148e-01, -8.26522963e-03,  7.75572163e-02,\n",
       "        2.21138579e-02, -2.59245162e-01, -5.04475715e-01, -8.28626498e-01,\n",
       "        2.75525592e+00, -3.84758244e-01, -1.41132734e-01,  2.48491826e-01,\n",
       "       -8.96316578e-01, -5.84122882e-01, -3.23431531e-01, -4.21174170e-01,\n",
       "       -5.18040124e-01, -6.80763018e-01,  1.99069506e-02,  1.69004233e+00,\n",
       "        1.36435148e+00, -8.61157154e-01, -8.75155255e-01, -1.02916636e-01,\n",
       "       -8.39152400e-01, -6.27896789e-01, -5.43678109e-01, -6.38474627e-01,\n",
       "       -3.70690233e-02, -4.81039172e-01, -1.91106847e-01,  2.36670509e+00,\n",
       "        5.25631760e-02,  2.68382344e+00, -8.83252351e-01,  1.29078314e+00,\n",
       "       -5.96708644e-01, -5.74243404e-01, -4.07315288e-01, -3.70690233e-02,\n",
       "        1.06044864e+00,  2.03979697e-01, -6.47174275e-01, -6.26752964e-01,\n",
       "       -2.40558090e-01, -3.62054516e-01,  2.22480776e-01,  2.93197556e-02,\n",
       "        1.88520502e+00, -7.02566257e-01, -3.71606082e-01,  2.12548778e-01,\n",
       "        9.86324327e-01, -9.47706568e-01, -4.04923483e-01, -5.01557077e-01,\n",
       "       -6.54071860e-01, -6.12429597e-01, -2.76264033e-01, -5.67881225e-01,\n",
       "       -5.62102392e-01, -4.88669372e-01,  1.22726835e+00, -8.20673273e-01,\n",
       "       -3.65541531e-03, -2.86544081e-01,  2.28271726e+00, -5.52370732e-02,\n",
       "        1.95979634e-01,  2.27525815e+00, -3.55186163e-01, -6.86537498e-01,\n",
       "       -3.60473614e-01, -1.90933081e-01,  9.27155714e-02, -6.43813283e-01,\n",
       "        1.80926344e-01, -4.02343147e-01,  1.86091032e-01, -8.49839580e-01,\n",
       "       -1.69514245e-01, -7.06762393e-01, -9.11628381e-01, -1.22331928e-02,\n",
       "       -8.51361753e-02, -5.84122882e-01, -2.52226216e-01, -7.83309389e-01,\n",
       "       -4.13403996e-01, -3.93426077e-01,  6.60860115e-02, -6.52474534e-01,\n",
       "       -5.91506995e-01, -8.27258617e-01, -4.80802750e-01, -4.96615076e-01,\n",
       "       -2.43086893e-01, -3.28034966e-01, -1.98925251e-02, -8.52713500e-01,\n",
       "       -2.60434309e-01, -3.02417032e-02, -1.46042528e-02, -8.33457071e-01,\n",
       "       -1.38241978e-01, -2.02472289e-01, -4.04204199e-01, -5.66755291e-01,\n",
       "       -5.17026637e-01, -9.37335438e-01, -5.90658638e-02,  2.72176101e+00,\n",
       "       -5.74243404e-01,  1.87353622e+00, -1.04926897e-01,  4.67982001e-03,\n",
       "        2.28256912e+00, -9.62123225e-01, -5.01045075e-01, -1.44466189e-01,\n",
       "        1.14455634e+00,  2.45132833e-01, -5.24066679e-01, -8.49168667e-01,\n",
       "       -2.58427961e-01,  1.10114905e-01,  5.72414433e-01,  2.38534205e+00,\n",
       "       -5.09295219e-01, -2.58989815e-03, -4.37548189e-01, -1.63907415e-01,\n",
       "       -2.83606220e-01, -4.20505025e-01, -2.76264033e-01, -6.27184356e-01,\n",
       "       -6.54513673e-01,  2.43859688e-01, -3.87106525e-01, -6.64854838e-01,\n",
       "       -9.60464639e-02,  2.22215479e-01, -9.46833361e-01,  3.17745712e-01,\n",
       "        1.91202603e+00, -6.22041241e-02, -9.42837348e-01,  1.88214080e+00,\n",
       "        2.42979147e-01,  2.62169147e+00, -6.85281100e-01, -3.61287454e-01,\n",
       "        1.65203329e+00,  1.06246982e-01,  5.47082851e-01, -2.90195814e-01,\n",
       "       -3.74637390e-01, -7.28948669e-01,  2.89627932e+00, -4.93163825e-01,\n",
       "       -9.15712829e-01, -6.49773563e-01, -1.68007541e-01, -9.57908123e-01,\n",
       "       -3.00581951e-01,  2.08049852e+00, -1.26133638e-01,  1.05603938e+00,\n",
       "       -9.11628381e-01,  4.96762226e-01, -7.47949766e-01, -5.31424698e-01,\n",
       "        9.38318003e-03, -9.20049306e-02, -5.06119088e-01,  1.14491995e-01,\n",
       "       -1.78597596e-03,  2.12642979e+00, -1.73956309e-01,  1.62151496e-01,\n",
       "        1.71228376e+00,  2.26746403e+00,  2.53945162e+00,  2.97439868e+00,\n",
       "       -5.26716859e-01, -9.86774941e-01, -3.32648702e-01, -8.16522587e-01,\n",
       "        3.12987198e-01, -6.06735394e-01, -8.42860767e-02, -9.02538027e-01,\n",
       "       -1.94092304e-01, -5.67881225e-01,  5.39296575e-02, -7.09187407e-01,\n",
       "       -5.11033907e-01, -4.79253796e-01, -5.79432894e-01, -2.00827793e-01,\n",
       "        9.43518850e-02,  2.78126483e+00, -3.28706122e-01,  1.83454785e+00,\n",
       "       -1.19324560e-01,  1.92293430e+00])"
      ]
     },
     "execution_count": 48,
     "metadata": {},
     "output_type": "execute_result"
    }
   ],
   "source": [
    "pred1"
   ]
  },
  {
   "cell_type": "code",
   "execution_count": 49,
   "id": "a47d63fd",
   "metadata": {},
   "outputs": [],
   "source": [
    "mse=mean_squared_error(ytest,pred1)"
   ]
  },
  {
   "cell_type": "code",
   "execution_count": 50,
   "id": "451e5de6",
   "metadata": {},
   "outputs": [
    {
     "data": {
      "text/plain": [
       "0.1973130321138236"
      ]
     },
     "execution_count": 50,
     "metadata": {},
     "output_type": "execute_result"
    }
   ],
   "source": [
    "mse"
   ]
  },
  {
   "cell_type": "code",
   "execution_count": 51,
   "id": "42ec7cc9",
   "metadata": {},
   "outputs": [],
   "source": [
    "mae= mean_absolute_error(ytest,pred1)"
   ]
  },
  {
   "cell_type": "code",
   "execution_count": 52,
   "id": "3bb20192",
   "metadata": {},
   "outputs": [
    {
     "data": {
      "text/plain": [
       "0.26319837381752503"
      ]
     },
     "execution_count": 52,
     "metadata": {},
     "output_type": "execute_result"
    }
   ],
   "source": [
    "mae"
   ]
  },
  {
   "cell_type": "code",
   "execution_count": 53,
   "id": "b87ba8be",
   "metadata": {},
   "outputs": [
    {
     "data": {
      "text/plain": [
       "0.8062432376757331"
      ]
     },
     "execution_count": 53,
     "metadata": {},
     "output_type": "execute_result"
    }
   ],
   "source": [
    "#measuring accuracy\n",
    "r2_score(ytest,pred1)"
   ]
  },
  {
   "cell_type": "markdown",
   "id": "f6f08c38",
   "metadata": {},
   "source": [
    "# Compare r2_score between Linear Regression and KNN Regression"
   ]
  },
  {
   "cell_type": "code",
   "execution_count": null,
   "id": "102c993f",
   "metadata": {},
   "outputs": [],
   "source": [
    "For Linear Regression r2_score=76% and for KNN Regression r2_score=80%."
   ]
  }
 ],
 "metadata": {
  "kernelspec": {
   "display_name": "Python 3 (ipykernel)",
   "language": "python",
   "name": "python3"
  },
  "language_info": {
   "codemirror_mode": {
    "name": "ipython",
    "version": 3
   },
   "file_extension": ".py",
   "mimetype": "text/x-python",
   "name": "python",
   "nbconvert_exporter": "python",
   "pygments_lexer": "ipython3",
   "version": "3.9.12"
  }
 },
 "nbformat": 4,
 "nbformat_minor": 5
}
