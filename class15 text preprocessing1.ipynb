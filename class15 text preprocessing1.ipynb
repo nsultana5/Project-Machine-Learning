{
 "cells": [
  {
   "cell_type": "markdown",
   "id": "c74bb640",
   "metadata": {},
   "source": [
    "# Stemming"
   ]
  },
  {
   "cell_type": "code",
   "execution_count": null,
   "id": "84384fe8",
   "metadata": {},
   "outputs": [],
   "source": [
    "from nltk.stem import PorterStemmer"
   ]
  },
  {
   "cell_type": "code",
   "execution_count": 2,
   "id": "8d66368b",
   "metadata": {},
   "outputs": [],
   "source": [
    "port=PorterStemmer()"
   ]
  },
  {
   "cell_type": "code",
   "execution_count": 4,
   "id": "a1a420f1",
   "metadata": {},
   "outputs": [],
   "source": [
    "words=['change','changing','changed','changes']"
   ]
  },
  {
   "cell_type": "code",
   "execution_count": 5,
   "id": "5c6375f1",
   "metadata": {},
   "outputs": [
    {
     "data": {
      "text/plain": [
       "['change', 'changing', 'changed', 'changes']"
      ]
     },
     "execution_count": 5,
     "metadata": {},
     "output_type": "execute_result"
    }
   ],
   "source": [
    "words"
   ]
  },
  {
   "cell_type": "code",
   "execution_count": 6,
   "id": "5a4bb065",
   "metadata": {},
   "outputs": [
    {
     "name": "stdout",
     "output_type": "stream",
     "text": [
      "Before= change\n",
      "After= chang\n",
      "Before= changing\n",
      "After= chang\n",
      "Before= changed\n",
      "After= chang\n",
      "Before= changes\n",
      "After= chang\n"
     ]
    }
   ],
   "source": [
    "for word in words:\n",
    "    print('Before=',word)\n",
    "    print('After=',port.stem(word))"
   ]
  },
  {
   "cell_type": "markdown",
   "id": "8d5bff51",
   "metadata": {},
   "source": [
    "# Lemmatization"
   ]
  },
  {
   "cell_type": "code",
   "execution_count": null,
   "id": "523852d7",
   "metadata": {},
   "outputs": [],
   "source": []
  }
 ],
 "metadata": {
  "kernelspec": {
   "display_name": "Python 3 (ipykernel)",
   "language": "python",
   "name": "python3"
  },
  "language_info": {
   "codemirror_mode": {
    "name": "ipython",
    "version": 3
   },
   "file_extension": ".py",
   "mimetype": "text/x-python",
   "name": "python",
   "nbconvert_exporter": "python",
   "pygments_lexer": "ipython3",
   "version": "3.9.12"
  }
 },
 "nbformat": 4,
 "nbformat_minor": 5
}
