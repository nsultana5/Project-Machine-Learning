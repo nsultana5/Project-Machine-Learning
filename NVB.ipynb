{
 "cells": [
  {
   "cell_type": "markdown",
   "id": "7450e296",
   "metadata": {},
   "source": [
    "                      Naive Bayes Binary Classifier"
   ]
  },
  {
   "cell_type": "markdown",
   "id": "f297c004",
   "metadata": {},
   "source": [
    "The Naive Bayes binary classifier is an application of a two-class classification algorithm. The provided code is specifically designed for classifying grayscale images containing handwritten digits, focusing on the digits 0 and 1. The code utilizes the MNIST dataset, an online database consisting of grayscale images of handwritten digits ranging from 0 to 9. For convenience, only the .mat files containing digits 0 and 1 are uploaded here."
   ]
  },
  {
   "cell_type": "markdown",
   "id": "cb8776b9",
   "metadata": {},
   "source": [
    "STEP1:Loading Data"
   ]
  },
  {
   "cell_type": "markdown",
   "id": "1819c7a7",
   "metadata": {},
   "source": [
    "To start, we load the .mat data subsets of zeros and ones into 3D numpy arrays. The geneNewData.py file creates training sets for both zeros and ones, each having 5000 images. Additionally, it generates test sets for zeros and ones with 980 and 1,135 samples, respectively."
   ]
  },
  {
   "cell_type": "markdown",
   "id": "1e835b09",
   "metadata": {},
   "source": [
    "Given that each image sample is 28x28 pixels,the input data structure(2 trainsets adn 2 testsets) is a 3D array -a collection of 2D image arrays of dimensions of nx28x28,where n is the number of samples."
   ]
  },
  {
   "cell_type": "markdown",
   "id": "269903f9",
   "metadata": {},
   "source": [
    "The imshow() function in pyplot module of matplotlib library is used to display data as an image.One can use it to display any image in the train and tests sets."
   ]
  },
  {
   "cell_type": "markdown",
   "id": "c1e11706",
   "metadata": {},
   "source": [
    " STEP2:Feature Extraction"
   ]
  },
  {
   "cell_type": "markdown",
   "id": "443dadbc",
   "metadata": {},
   "source": [
    "Features are simply the independent variables that are chosen carefully to build our model.In case of a grascale image, each pixel value is a sigle number that represents the brightness of the pixel.The most common pixel format is the byte image, where this number is stored as an 8-bit integer giving a range of possible values from 0 to 255.Typically, zero is taken to be black, and 255 is taken to be white."
   ]
  },
  {
   "cell_type": "markdown",
   "id": "e147dabd",
   "metadata": {},
   "source": [
    "We will be working with a 2D feature vector that comprises the mean and the standard deviation of all the pixel values within an image array."
   ]
  },
  {
   "cell_type": "markdown",
   "id": "6c0f1eb2",
   "metadata": {},
   "source": [
    "Note that the features should only be extracted from the train datasets."
   ]
  },
  {
   "cell_type": "markdown",
   "id": "141da246",
   "metadata": {},
   "source": [
    "STEP3:Parameters Calculation"
   ]
  },
  {
   "cell_type": "markdown",
   "id": "f5471d30",
   "metadata": {},
   "source": [
    "A supervised machine learning model is defined by a set of parameteres. Based on the 2D datapoints of features generated for the two class naive bayes classifiers, the following parameters should be calculated:"
   ]
  },
  {
   "cell_type": "markdown",
   "id": "0b86dbd1",
   "metadata": {},
   "source": [
    "1.Mean of feature1 for digit0 2.Variance of feature1 for digit0 3.Mean of feature2 for digit0 4.Variance of feature2 for digit0 5.Mean of feature1 for digit1 6.Variance of feature1 for digit1 7.Mean of feature2 for digit1 8.Variance of feature2 for digit1."
   ]
  },
  {
   "cell_type": "markdown",
   "id": "4ad23a69",
   "metadata": {},
   "source": [
    "STEP4:Applying the Maximum Likelihood function"
   ]
  },
  {
   "cell_type": "markdown",
   "id": "8180860b",
   "metadata": {},
   "source": [
    "The calculated Mean and Variance capture the data distribution for the training dataset.Now we will iterate through the test dataset and calculate the mean (feature1) and standard deviation (feature2)of the pixel brightness for each image like we did for the training dataset.This allows us to compute the probability of observing the calculated feature among the normally distributed training dataset for each label.Therefore, we will use the normal distribution equation for each image, we need the following :"
   ]
  },
  {
   "cell_type": "markdown",
   "id": "8dc0f19f",
   "metadata": {},
   "source": [
    "P(feature1|y=0)P(feature2|y=0)P(feature1|y=1)P(feature2|y=1)"
   ]
  },
  {
   "cell_type": "markdown",
   "id": "0071a602",
   "metadata": {},
   "source": [
    "Based on this information, as well as the assumption that P(y=0)=P(y=1)=0.5,we can calculate the posterior probabilities of the labels as follows:"
   ]
  },
  {
   "cell_type": "markdown",
   "id": "c5add342",
   "metadata": {},
   "source": [
    "P(y=0|feature1,feature2)=P(feature1|y=0)*P(feature2|y=0)*P(y=0); P(y=1|feature1,feature2)=P(feature1|y=1)*P(feature2|y=1)*P(y=1)."
   ]
  },
  {
   "cell_type": "markdown",
   "id": "7afdcf94",
   "metadata": {},
   "source": [
    "For each data point, the image is assigned to the label with the greater probability given our 2 selected features."
   ]
  },
  {
   "cell_type": "markdown",
   "id": "1ff42488",
   "metadata": {},
   "source": [
    "STEP5.Evaluating the model"
   ]
  },
  {
   "cell_type": "markdown",
   "id": "7405622c",
   "metadata": {},
   "source": [
    "The accuracy is simply calculated -dividing the number of right predictions by the total number of images."
   ]
  },
  {
   "cell_type": "code",
   "execution_count": 1,
   "id": "348588dc",
   "metadata": {},
   "outputs": [],
   "source": [
    "#Importing the required libraries\n",
    "import numpy                                   #for linear algebra\n",
    "import scipy.io                                #working with different file formats\n",
    "import math                                    #for mathematical calculations\n",
    "import geneNewData                             #python file containing functions or classes related to generating new data.\n",
    "import matplotlib.pyplot as plt                #for creating visualizations.                    \n",
    "from math import sqrt,pi,exp"
   ]
  },
  {
   "cell_type": "code",
   "execution_count": 2,
   "id": "ac3f5860",
   "metadata": {},
   "outputs": [],
   "source": [
    "\n",
    "def feature_extraction(data):\n",
    "    feat1 = []\n",
    "    feat2 = []\n",
    "    \n",
    "    feat1 = [numpy.average(i) for i in data]\n",
    "    feat2 = [numpy.std(i) for i in data]\n",
    "    \n",
    "    return feat1, feat2"
   ]
  },
  {
   "cell_type": "code",
   "execution_count": 3,
   "id": "28547d97",
   "metadata": {},
   "outputs": [],
   "source": [
    "def normal_distribution(x, mean, var):\n",
    "    \n",
    "    dist = (1 / (numpy.sqrt(2 * numpy.pi * var)))  * numpy.exp(-((x - mean) ** 2) / (2*var))\n",
    "    return dist"
   ]
  },
  {
   "cell_type": "code",
   "execution_count": 4,
   "id": "591a1395",
   "metadata": {},
   "outputs": [],
   "source": [
    "def main():\n",
    "    #Step1\n",
    "    seed = '1489'\n",
    "    geneNewData.geneData(seed)\n",
    "    Numpyfile0 = scipy.io.loadmat('digit0_stu_train' + seed)\n",
    "    Numpyfile1 = scipy.io.loadmat('digit1_stu_train' + seed)\n",
    "    Numpyfile2 = scipy.io.loadmat('digit0_testset')\n",
    "    Numpyfile3 = scipy.io.loadmat('digit1_testset')\n",
    "    train0 = Numpyfile0.get('target_img')\n",
    "    train1 = Numpyfile1.get('target_img')\n",
    "    test0 = Numpyfile2.get('target_img')\n",
    "    test1 = Numpyfile3.get('target_img')\n",
    "    print([len(train0),len(train1),len(test0),len(test1)])\n",
    "    print('Your trainset and testset are generated successfully!')\n",
    "    PIL_matrix = train0[1].reshape((28,28))\n",
    "    plt.imshow(PIL_matrix)\n",
    "    \n",
    "    #pass\n",
    "    \n",
    "    # Task - 01\n",
    "    # Features are extracted for train dataset\n",
    "    train0_feat1, train0_feat2 = feature_extraction(train0)\n",
    "    train1_feat1, train1_feat2 = feature_extraction(train1)\n",
    "    \n",
    "    # Task - 02\n",
    "    # Parameters are calculated\n",
    "    Mean_of_feature1_for_digit0 = numpy.mean(train0_feat1)\n",
    "    Variance_of_feature1_for_digit0 = numpy.var(train0_feat1)\n",
    "    Mean_of_feature2_for_digit0 = numpy.mean(train0_feat2)\n",
    "    Variance_of_feature2_for_digit0 = numpy.var(train0_feat2)\n",
    "    Mean_of_feature1_for_digit1 = numpy.mean(train1_feat1)\n",
    "    Variance_of_feature1_for_digit1 = numpy.var(train1_feat1)\n",
    "    Mean_of_feature2_for_digit1 = numpy.mean(train1_feat2)\n",
    "    Variance_of_feature2_for_digit1 = numpy.var(train1_feat2)\n",
    "    \n",
    "    # Task - 03 : Part - 01\n",
    "    # Features are extracted for test dataset\n",
    "    test = numpy.concatenate((test0, test1))\n",
    "    test_feat1, test_feat2 = feature_extraction(test)\n",
    "    \n",
    "    # Task - 03 : Part - 02\n",
    "    # NB Classifier formula is implemented\n",
    "    prior_prob = 0.5\n",
    "    post_prob_0 = prior_prob * normal_distribution(test_feat1, Mean_of_feature1_for_digit0, Variance_of_feature1_for_digit0) * normal_distribution(test_feat2, Mean_of_feature2_for_digit0, Variance_of_feature2_for_digit0)\n",
    "    post_prob_1 = prior_prob * normal_distribution(test_feat1, Mean_of_feature1_for_digit1, Variance_of_feature1_for_digit1) * normal_distribution(test_feat2, Mean_of_feature2_for_digit1, Variance_of_feature2_for_digit1)\n",
    "    \n",
    "    # Task - 03 : Part - 03\n",
    "    # Test data points are predicted using implemented classifier\n",
    "    compare = numpy.greater(post_prob_1, post_prob_0)\n",
    "    compare_num = compare.astype(int)\n",
    "   \n",
    "    # Task - 04     \n",
    "    # Accuracy of predictions for testset for both digit0 and digit1\n",
    "    \n",
    "    temp = compare_num[:980]\n",
    "    predicted_0 = temp[numpy.where(temp == 0)].size\n",
    "    accuracy_0 = predicted_0 / len(test0)\n",
    "    \n",
    "    \n",
    "    predicted_1 = numpy.count_nonzero(compare_num[980:])\n",
    "    accuracy_1 = predicted_1 / len(test1)\n",
    "    \n",
    "\n",
    "    print(\"Mean_of_feature1_for_digit0:\", Mean_of_feature1_for_digit0) \n",
    "    print(\"Variance_of_feature1_for_digit0:\", Variance_of_feature1_for_digit0)\n",
    "    print(\"Mean_of_feature2_for_digit0:\", Mean_of_feature2_for_digit0) \n",
    "    print(\"Variance_of_feature2_for_digit0:\", Variance_of_feature2_for_digit0)\n",
    "    print(\"Mean_of_feature1_for_digit1:\", Mean_of_feature1_for_digit1) \n",
    "    print(\"Variance_of_feature1_for_digit1:\", Variance_of_feature1_for_digit1)\n",
    "    print(\"Mean_of_feature2_for_digit1:\", Mean_of_feature2_for_digit1)\n",
    "    print(\"Variance_of_feature2_for_digit1:\", Variance_of_feature2_for_digit1)\n",
    "    \n",
    "    print(\"Accuracy_for_digit0testset:\",accuracy_0)  \n",
    "    print(\"Accuracy_for_digit1testset:\",accuracy_1)\n",
    "                          \n"
   ]
  },
  {
   "cell_type": "code",
   "execution_count": 5,
   "id": "799c7934",
   "metadata": {},
   "outputs": [
    {
     "name": "stdout",
     "output_type": "stream",
     "text": [
      "Hi\n",
      "[5000, 5000, 980, 1135]\n",
      "Your trainset and testset are generated successfully!\n",
      "Mean_of_feature1_for_digit0: 44.243467091836735\n",
      "Variance_of_feature1_for_digit0: 114.33752866670913\n",
      "Mean_of_feature2_for_digit0: 87.47669294424144\n",
      "Variance_of_feature2_for_digit0: 99.92754098412034\n",
      "Mean_of_feature1_for_digit1: 19.37459821428571\n",
      "Variance_of_feature1_for_digit1: 31.23563827340008\n",
      "Mean_of_feature2_for_digit1: 61.36242418114679\n",
      "Variance_of_feature2_for_digit1: 82.3326954460368\n",
      "Accuracy_for_digit0testset: 0.9173469387755102\n",
      "Accuracy_for_digit1testset: 0.9233480176211454\n"
     ]
    },
    {
     "data": {
      "image/png": "[encoded data removed]",
      "text/plain": [
       "<Figure size 640x480 with 1 Axes>"
      ]
     },
     "metadata": {},
     "output_type": "display_data"
    }
   ],
   "source": [
    "main()"
   ]
  },
  {
   "cell_type": "code",
   "execution_count": null,
   "id": "e7d56926",
   "metadata": {},
   "outputs": [],
   "source": []
  }
 ],
 "metadata": {
  "kernelspec": {
   "display_name": "Python 3 (ipykernel)",
   "language": "python",
   "name": "python3"
  },
  "language_info": {
   "codemirror_mode": {
    "name": "ipython",
    "version": 3
   },
   "file_extension": ".py",
   "mimetype": "text/x-python",
   "name": "python",
   "nbconvert_exporter": "python",
   "pygments_lexer": "ipython3",
   "version": "3.9.18"
  }
 },
 "nbformat": 4,
 "nbformat_minor": 5
}
